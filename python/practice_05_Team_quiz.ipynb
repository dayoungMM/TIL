{
 "cells": [
  {
   "cell_type": "markdown",
   "metadata": {},
   "source": [
    "- 두개의 리스트 A, B가 있다.\n",
    "- 리스트의 원소는 정수라고 가정하고, 리스트 A, B의 크기(원소의 개수)는 m, n 이다. \n",
    "- p, q 가 각각 리스트 A, B의 하나의 원소라고 하면, p와 q의 값의 차이(절대값)가 가장 큰 쌍과 가장 작은 쌍을 찾으시오. \n",
    "- 예를 들어,A=[2, -1, 5], B=[-3, 2, 4, 1, 5] 이면, 가장 큰 쌍은 (5, -3)이고 가장 작은 쌍은 (2, 2) 이다. 일반적인 m,n에 대해 프로그램이 작동되어야 하고, A, B는 프로그램 내에 있는 것으로 하여 별도의 입력 프로그램 코드가 필요하지 않다."
   ]
  },
  {
   "cell_type": "code",
   "execution_count": 10,
   "metadata": {},
   "outputs": [
    {
     "name": "stdout",
     "output_type": "stream",
     "text": [
      "[[5 2 8]\n",
      " [0 3 3]\n",
      " [2 5 1]\n",
      " [1 2 4]\n",
      " [3 6 0]]\n"
     ]
    }
   ],
   "source": [
    "a=np.array([[2],[-1],[5]])\n",
    "b=np.array([[-3],[2],[4],[1],[5]])\n",
    "\n",
    "result=a.T-b\n",
    "\n",
    "print(abs(result))\n",
    "\n"
   ]
  },
  {
   "cell_type": "code",
   "execution_count": 13,
   "metadata": {},
   "outputs": [
    {
     "name": "stdout",
     "output_type": "stream",
     "text": [
      "최댓값의 조합\n",
      "( [5] , [-3] )\n",
      "그때의 결과값은 8\n"
     ]
    }
   ],
   "source": [
    "idx=np.where(result==np.amax(abs(result)))\n",
    "y=int(idx[0])\n",
    "x=int(idx[1])\n",
    "\n",
    "print(\"최댓값의 조합\")\n",
    "\n",
    "        \n",
    "result_arr= np.c_[x,y]\n",
    "\n",
    "for x1,x2 in result_arr:\n",
    "    x_a=a[x1]\n",
    "    x_b=b[x2]\n",
    "    print(\"(\",x_a,\",\",x_b,\")\")\n",
    "print(\"그때의 결과값은 {}\".format(np.amax(abs(result))))\n",
    "\n"
   ]
  },
  {
   "cell_type": "code",
   "execution_count": 16,
   "metadata": {},
   "outputs": [
    {
     "name": "stdout",
     "output_type": "stream",
     "text": [
      "최소값의 조합\n",
      "( [2] , [2] )\n",
      "( [5] , [5] )\n",
      "그때의 결과값은 0\n"
     ]
    }
   ],
   "source": [
    "print(\"최소값의 조합\")\n",
    "    \n",
    "idx2=np.where(result==np.amin(abs(result)))\n",
    "y=idx2[0]\n",
    "x=idx2[1]\n",
    "\n",
    "result_arr= np.c_[x,y]\n",
    "for x1,x2 in result_arr:\n",
    "    x_a=a[x1]\n",
    "    x_b=b[x2]\n",
    "    print(\"(\",x_a,\",\",x_b,\")\")\n",
    "print(\"그때의 결과값은 {}\".format(np.amin(abs(result))  ))"
   ]
  },
  {
   "cell_type": "code",
   "execution_count": null,
   "metadata": {},
   "outputs": [],
   "source": [
    "#앞으로 풀 문제"
   ]
  },
  {
   "cell_type": "code",
   "execution_count": null,
   "metadata": {},
   "outputs": [],
   "source": [
    "- 프로그램 내에 2차원 행렬 A가 있다. \n",
    "- 별도의 입력 프로그램 코드가 필요하지 않다. \n",
    "- 행렬은 n x n 크기이다. \n",
    "- 행렬 내의 각 원소의 값은 자연수라고 가정하고, 임의의 값을 부여한다. \n",
    "- 부분행렬은 (1,1)부터 (k,k) 로 정의된다. 즉, (1,1)에서부터 생성할 수 있는 정방행렬(square matrix)로 정의된다.\n",
    "- part_sum 이라는 함수는 파라미터 k에 대해 (1,1)부터 (k,k)까지의 모든 원소들의 합을 계산하여 return 하는 함수이다. \n",
    "- 예를 들어,일 때, k=2 이면, 의 각 원소들의 합 14를 return 하게 된다.\n",
    "- 주 프로그램에서는 A의 각 부분행렬들의 원소들의 합을 part_sum을 호출하여 k=1부터 n까지 계산한다. \n",
    "- 위 예에서는 5, 14, 26을 각각 출력한다. 이러한 기능을 수행하는 주 프로그램과 part_sum 함수를 python으로 작성하라.\n",
    "- part_sum 은 다양한 행렬의 크기에 대해 작동하여야 하고, 특정 k에 대해 위의 설명과 같이 하나의 부분행렬의 원소들의 합만 계산하여야 한다."
   ]
  },
  {
   "cell_type": "code",
   "execution_count": 3,
   "metadata": {},
   "outputs": [
    {
     "data": {
      "text/plain": [
       "array([[1., 1., 1., 1., 1.],\n",
       "       [1., 1., 1., 1., 1.],\n",
       "       [1., 1., 1., 1., 1.],\n",
       "       [1., 1., 1., 1., 1.],\n",
       "       [1., 1., 1., 1., 1.]])"
      ]
     },
     "execution_count": 3,
     "metadata": {},
     "output_type": "execute_result"
    }
   ],
   "source": [
    "A=np.ones((5,5))\n",
    "A"
   ]
  },
  {
   "cell_type": "code",
   "execution_count": 9,
   "metadata": {},
   "outputs": [
    {
     "data": {
      "text/plain": [
       "array([[1., 1., 1.],\n",
       "       [1., 1., 1.],\n",
       "       [1., 1., 1.]])"
      ]
     },
     "execution_count": 9,
     "metadata": {},
     "output_type": "execute_result"
    }
   ],
   "source": [
    "k=3\n",
    "B=A[:k,:k]\n",
    "B"
   ]
  },
  {
   "cell_type": "code",
   "execution_count": 11,
   "metadata": {},
   "outputs": [
    {
     "data": {
      "text/plain": [
       "9.0"
      ]
     },
     "execution_count": 11,
     "metadata": {},
     "output_type": "execute_result"
    }
   ],
   "source": [
    "sum(sum(B))"
   ]
  }
 ],
 "metadata": {
  "kernelspec": {
   "display_name": "Python 3",
   "language": "python",
   "name": "python3"
  },
  "language_info": {
   "codemirror_mode": {
    "name": "ipython",
    "version": 3
   },
   "file_extension": ".py",
   "mimetype": "text/x-python",
   "name": "python",
   "nbconvert_exporter": "python",
   "pygments_lexer": "ipython3",
   "version": "3.7.3"
  }
 },
 "nbformat": 4,
 "nbformat_minor": 2
}
