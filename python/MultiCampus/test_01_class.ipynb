{
 "cells": [
  {
   "cell_type": "markdown",
   "metadata": {},
   "source": [
    "### 상대방을 공격하여 체력을 깎는 게임캐릭터 Marine을 클래스로 만들어보자\n",
    "- 체력(health), 와 공격력(attack_pw)을 생성자 함수로 받는다\n",
    "- 해당 캐릭터가 상대(who)를 공격하면 상대의 체력이 공격력만큼 감소한다\n",
    "- 공격후의 공격자의 체력과 공격받은자의 체력을 보여준다"
   ]
  },
  {
   "cell_type": "code",
   "execution_count": 6,
   "metadata": {},
   "outputs": [
    {
     "name": "stdout",
     "output_type": "stream",
     "text": [
      "공격자 health: 40, 공격받은자 health:35 \n",
      "공격자 health: 40, 공격받은자 health:30 \n",
      "공격자 health: 30, 공격받은자 health:37 \n"
     ]
    }
   ],
   "source": [
    "class Marine:\n",
    "    def __init__(self,health, attack_pw):\n",
    "        self.health = health\n",
    "        self.attack_pw= attack_pw\n",
    "\n",
    "    def attack(self,who):\n",
    "        who.health -= self.attack_pw\n",
    "        return '공격자 health: {}, 공격받은자 health:{} '.format( self.health, who.health)\n",
    "    \n",
    "marine1 = Marine(40,5)\n",
    "marine2 = Marine(40,3)\n",
    "print(marine1.attack(marine2))\n",
    "print(marine1.attack(marine2))\n",
    "print(marine2.attack(marine1))\n"
   ]
  },
  {
   "cell_type": "code",
   "execution_count": 3,
   "metadata": {},
   "outputs": [
    {
     "ename": "IndentationError",
     "evalue": "expected an indented block (<ipython-input-3-6fa2fa6cdb49>, line 5)",
     "output_type": "error",
     "traceback": [
      "\u001b[1;36m  File \u001b[1;32m\"<ipython-input-3-6fa2fa6cdb49>\"\u001b[1;36m, line \u001b[1;32m5\u001b[0m\n\u001b[1;33m    def attack(self,who):\u001b[0m\n\u001b[1;37m      ^\u001b[0m\n\u001b[1;31mIndentationError\u001b[0m\u001b[1;31m:\u001b[0m expected an indented block\n"
     ]
    }
   ],
   "source": [
    "class Marine:\n",
    "    def __init__(self,health, attack_pw):\n",
    "        ##코드작성 1\n",
    "\n",
    "    def attack(self,who):\n",
    "        ## 코드작성 2\n",
    "        return '공격자 health: {}, 공격받은자 health:{} '.format( ##코드작성 3 )\n",
    "    \n",
    "marine1 = Marine(40,5)\n",
    "marine2 = Marine(40,5)\n",
    "print(marine1.attack(marine2))\n"
   ]
  },
  {
   "cell_type": "code",
   "execution_count": 3,
   "metadata": {},
   "outputs": [
    {
     "data": {
      "text/plain": [
       "35"
      ]
     },
     "execution_count": 3,
     "metadata": {},
     "output_type": "execute_result"
    }
   ],
   "source": [
    "class Calculator:\n",
    "    def add (self, num1, num2):\n",
    "        self.num1 = num1\n",
    "        self.num2 = num2\n",
    "        return self.num1 + self.num2\n",
    "    \n",
    "    def multiple (self, num1, num2):\n",
    "        self.num1 = num1\n",
    "        self.num2 = num2\n",
    "        return self.num1 * self.num2\n",
    "    \n",
    "cal1 = Calculator()\n",
    "temp = cal1.add(3,4)\n",
    "cal1.multiple(5,temp)"
   ]
  },
  {
   "cell_type": "code",
   "execution_count": 7,
   "metadata": {},
   "outputs": [
    {
     "data": {
      "text/plain": [
       "35"
      ]
     },
     "execution_count": 7,
     "metadata": {},
     "output_type": "execute_result"
    }
   ],
   "source": [
    "class Calculator:\n",
    "    def add (self, num1, num2):\n",
    "        self.num1 = num1\n",
    "        self.num2 = num2\n",
    "        return self.num1 + self.num2\n",
    "    \n",
    "    def multiple (self, num1, num2):\n",
    "        self.num1 = num1\n",
    "        self.num2 = num2\n",
    "        return self.num1 * self.num2\n",
    "\n",
    "//코드작성"
   ]
  },
  {
   "cell_type": "code",
   "execution_count": 4,
   "metadata": {},
   "outputs": [
    {
     "data": {
      "text/plain": [
       "7"
      ]
     },
     "execution_count": 4,
     "metadata": {},
     "output_type": "execute_result"
    }
   ],
   "source": [
    "class Calculator2(Calculator):\n",
    "    pass\n",
    "cal2 = Calculator2()\n",
    "cal2.add(3,4)"
   ]
  },
  {
   "cell_type": "code",
   "execution_count": 8,
   "metadata": {},
   "outputs": [
    {
     "data": {
      "text/plain": [
       "7"
      ]
     },
     "execution_count": 8,
     "metadata": {},
     "output_type": "execute_result"
    }
   ],
   "source": [
    "class //코드 작성하여 함수 선언 \n",
    "    pass\n"
   ]
  },
  {
   "cell_type": "code",
   "execution_count": null,
   "metadata": {},
   "outputs": [],
   "source": [
    "import random\n",
    "class SelectMenu:\n",
    "    def __init__(self, menu_ls):\n",
    "        #코드작성 1\n",
    "\n",
    "        \n",
    "    def get_menu(self):\n",
    "        #코드작성2\n",
    "\n",
    "menu = SelectMenu(['짬뽕', '초밥', '쌀국수', '주꾸미'])\n",
    "print(menu.get_menu())\n"
   ]
  },
  {
   "cell_type": "code",
   "execution_count": 6,
   "metadata": {},
   "outputs": [
    {
     "name": "stdout",
     "output_type": "stream",
     "text": [
      "초밥\n"
     ]
    }
   ],
   "source": [
    "import random\n",
    "class SelectMenu:\n",
    "    def __init__(self, menu_ls):\n",
    "        self.menu_ls = menu_ls\n",
    "        \n",
    "    def get_menu(self):\n",
    "        choice = random.choice(self.menu_ls)\n",
    "        return choice\n",
    "'''\n",
    "    def get_menu(self):\n",
    "        choice = self.menu_ls[random.randint(0,len(self.menu_ls)-1)]\n",
    "        return choice\n",
    "'''        \n",
    "\n",
    "menu = SelectMenu(['짬뽕', '초밥', '쌀국수', '주꾸미'])\n",
    "print(menu.get_menu())\n"
   ]
  },
  {
   "cell_type": "code",
   "execution_count": 13,
   "metadata": {},
   "outputs": [
    {
     "name": "stdout",
     "output_type": "stream",
     "text": [
      "Writing Calc.py\n"
     ]
    }
   ],
   "source": [
    "%%writefile Calc.py\n",
    "class Calculator:\n",
    "    def add (self, num1, num2):\n",
    "        self.num1 = num1\n",
    "        self.num2 = num2\n",
    "        return self.num1 + self.num2\n",
    "    \n",
    "    def multiple (self, num1, num2):\n",
    "        self.num1 = num1\n",
    "        self.num2 = num2\n",
    "        return self.num1 * self.num2"
   ]
  },
  {
   "cell_type": "code",
   "execution_count": 2,
   "metadata": {},
   "outputs": [
    {
     "data": {
      "text/plain": [
       "7"
      ]
     },
     "execution_count": 2,
     "metadata": {},
     "output_type": "execute_result"
    }
   ],
   "source": [
    "import Calc\n",
    "cal1 = Calc.Calculator()\n",
    "cal1.add(3,4)"
   ]
  },
  {
   "cell_type": "code",
   "execution_count": null,
   "metadata": {},
   "outputs": [],
   "source": []
  }
 ],
 "metadata": {
  "kernelspec": {
   "display_name": "Python 3",
   "language": "python",
   "name": "python3"
  },
  "language_info": {
   "codemirror_mode": {
    "name": "ipython",
    "version": 3
   },
   "file_extension": ".py",
   "mimetype": "text/x-python",
   "name": "python",
   "nbconvert_exporter": "python",
   "pygments_lexer": "ipython3",
   "version": "3.7.4"
  }
 },
 "nbformat": 4,
 "nbformat_minor": 2
}
