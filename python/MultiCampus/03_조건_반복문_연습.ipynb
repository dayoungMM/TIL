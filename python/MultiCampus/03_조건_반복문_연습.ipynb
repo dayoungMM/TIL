{
 "cells": [
  {
   "cell_type": "markdown",
   "metadata": {},
   "source": [
    "### 연습문제"
   ]
  },
  {
   "cell_type": "markdown",
   "metadata": {},
   "source": [
    " - 3과목 이상을 수강하였고 평점이 70점 이상인 경우 '학위 취득' → 2가지 조건 만족\n",
    " - 3과목 이상을 수강하였거나 평점이 70점 이상인 경우 '졸업' → 1가지 조건 만족\n",
    " - 그 외의 경우 '재수강'을 출력하는 조건문 작성\n"
   ]
  },
  {
   "cell_type": "code",
   "execution_count": 1,
   "metadata": {},
   "outputs": [
    {
     "name": "stdout",
     "output_type": "stream",
     "text": [
      "졸업\n"
     ]
    }
   ],
   "source": [
    "subjectList = ['운영체제', '데이터베이스', '객체지향언어'] # 수강한 과목 리스트\n",
    "average = 60 # 평점\n",
    "\n",
    "if (len(subjectList)>=3) and average >= 70:\n",
    "    print(\"학위 취득\")\n",
    "elif (len(subjectList)>=3) or average >= 70:\n",
    "    print(\"졸업\")\n",
    "else:\n",
    "    print(\"재수강\")\n",
    "# 코드 작성\n",
    "# 리스트 요소의 개수를 확인할 때 len() 함수 사용, ex) len(subjectList)"
   ]
  },
  {
   "cell_type": "markdown",
   "metadata": {},
   "source": [
    "- 이수한 과목 목록 중 '자료구조'가 있는지 확인하고\n",
    "- '자료구조'가 있다면 점수를 확인한 후\n",
    "- 60점 이상이면 '이수 완료'를 출력하는 조건문 작성"
   ]
  },
  {
   "cell_type": "code",
   "execution_count": 3,
   "metadata": {},
   "outputs": [
    {
     "name": "stdout",
     "output_type": "stream",
     "text": [
      "이수 완료\n"
     ]
    }
   ],
   "source": [
    "subject = {'자료구조' : 80, '알고리즘' : 60, '네트워크' : 90}\n",
    "# 코드 작성\n",
    "if \"자료구조\" in subject:\n",
    "    if subject['자료구조']>=60:\n",
    "        print(\"이수 완료\")"
   ]
  },
  {
   "cell_type": "markdown",
   "metadata": {},
   "source": [
    "### 반복문\n",
    "#### While"
   ]
  },
  {
   "cell_type": "code",
   "execution_count": 7,
   "metadata": {},
   "outputs": [
    {
     "name": "stdout",
     "output_type": "stream",
     "text": [
      "1\n",
      "3\n",
      "3\n",
      "3\n",
      "1\n",
      "2\n"
     ]
    }
   ],
   "source": [
    "import random\n",
    "\n",
    "while True:\n",
    "    num = random.randint(1,3)\n",
    "    print('%d' %num)\n",
    "    if num == 2: break\n",
    "    "
   ]
  },
  {
   "cell_type": "code",
   "execution_count": 9,
   "metadata": {},
   "outputs": [
    {
     "name": "stdout",
     "output_type": "stream",
     "text": [
      "1번 반복\n",
      "2번 반복\n",
      "3번 반복\n",
      "4번 반복\n",
      "5번 반복\n",
      "6번 반복\n",
      "7번 반복\n",
      "8번 반복\n",
      "9번 반복\n",
      "10번 반복\n"
     ]
    }
   ],
   "source": [
    "count = 0\n",
    "while count <10:\n",
    "    count = count + 1\n",
    "    print('%d번 반복' %count)"
   ]
  },
  {
   "cell_type": "code",
   "execution_count": 10,
   "metadata": {},
   "outputs": [
    {
     "name": "stdout",
     "output_type": "stream",
     "text": [
      "500500\n"
     ]
    }
   ],
   "source": [
    "###  1부터 1000 까지의 정수 합 구하기\n",
    "num = 1\n",
    "total  = 0\n",
    "\n",
    "while num <=1000:\n",
    "    total += num\n",
    "    num +=1\n",
    "    \n",
    "print(total)"
   ]
  },
  {
   "cell_type": "code",
   "execution_count": 11,
   "metadata": {},
   "outputs": [
    {
     "name": "stdout",
     "output_type": "stream",
     "text": [
      "166833\n"
     ]
    }
   ],
   "source": [
    "#1부터 1000 까지의 정수 중 3의 배수 합 구하기\n",
    "num = 1\n",
    "total  = 0\n",
    "\n",
    "while num <=1000:\n",
    "    if num%3 ==0:\n",
    "        total += num\n",
    "    num +=1\n",
    "    \n",
    "print(total)"
   ]
  },
  {
   "cell_type": "code",
   "execution_count": 28,
   "metadata": {},
   "outputs": [
    {
     "name": "stdout",
     "output_type": "stream",
     "text": [
      "481\n"
     ]
    }
   ],
   "source": [
    "#각 학생들의 점수를 표현한 리스트를 이용하여 50점 이상인 학생의 점수 합 구하기\n",
    "scoreList = [20, 55, 67, 82, 45, 33, 90, 87, 100, 25]\n",
    "total = 0\n",
    "# 코드 작성 - List pop() 함수 이용\n",
    "while len(scoreList)>0:\n",
    "    i=scoreList.pop()\n",
    "    if i >=50:\n",
    "        total += i\n",
    "print(total)"
   ]
  },
  {
   "cell_type": "code",
   "execution_count": 22,
   "metadata": {},
   "outputs": [
    {
     "data": {
      "text/plain": [
       "481"
      ]
     },
     "execution_count": 22,
     "metadata": {},
     "output_type": "execute_result"
    }
   ],
   "source": [
    "scoreList = [20, 55, 67, 82, 45, 33, 90, 87, 100, 25]\n",
    "total = 0\n",
    "for i in scoreList:\n",
    "    if i >=50:\n",
    "        total += i\n",
    "total"
   ]
  },
  {
   "cell_type": "code",
   "execution_count": 9,
   "metadata": {},
   "outputs": [],
   "source": []
  },
  {
   "cell_type": "code",
   "execution_count": 10,
   "metadata": {},
   "outputs": [
    {
     "name": "stdout",
     "output_type": "stream",
     "text": [
      "359\n"
     ]
    }
   ],
   "source": [
    "#각 학생들의 점수를 표현한 딕셔너리를 이용하여 80점 이상인 학생의 점수 합 구하기\n",
    "studentInfo = {\n",
    " 'a':33, 'b':55, 'c':67, 'd':82, 'e':45,\n",
    " 'f':33, 'g':90, 'h':87, 'i': 100, 'j':25\n",
    "}\n",
    "\n",
    "ls=list(studentInfo.values())\n",
    "total = 0\n",
    "\n",
    "while len(ls)>0:\n",
    "    i = ls.pop()\n",
    "    if i>=80:\n",
    "        total += i\n",
    "    \n",
    "# 코드 작성 - Dictionary values(), List pop() 등 이용\n",
    "print(total)"
   ]
  },
  {
   "cell_type": "code",
   "execution_count": 39,
   "metadata": {},
   "outputs": [
    {
     "name": "stdout",
     "output_type": "stream",
     "text": [
      "2 6\n",
      "4 5\n",
      "2 4\n",
      "3 2\n",
      "1 5\n",
      "5 1\n",
      "4 6\n",
      "2 5\n",
      "5 3\n",
      "4 1\n",
      "2 4\n",
      "3 5\n",
      "2 2\n",
      "두 눈이 같으므로 종료\n"
     ]
    }
   ],
   "source": [
    "# 두 개의 두사위를 던졌을때 나오는 눈을 출력하고 두 눈이 같으면 종료\n",
    "import random # random 모듈 import\n",
    "\n",
    "while True:\n",
    "    a = random.randint(1, 6)\n",
    "    b = random.randint(1, 6)\n",
    "    print(a,b)\n",
    "    if a == b: break\n",
    "        \n",
    "print(\"두 눈이 같으므로 종료\")\n",
    "    "
   ]
  },
  {
   "cell_type": "code",
   "execution_count": 42,
   "metadata": {},
   "outputs": [
    {
     "name": "stdout",
     "output_type": "stream",
     "text": [
      "[18, 39, 29, 4, 13, 33]\n"
     ]
    }
   ],
   "source": [
    "# 랜덤 기능을 이용하여 6개의 로또 번호 만들기\n",
    "import random\n",
    "lottoList = list() # 빈 List 생성\n",
    "# 코드 작성\n",
    "# 반복문 조건으로 len() 함수 이용\n",
    "# random.randint(1, 45) 함수 이용\n",
    "# 번호 생성 후 lottoList에 append\n",
    "while True:\n",
    "    i = random.randint(1,45)\n",
    "    if i not in lottoList:\n",
    "        lottoList.append(i)\n",
    "    if len(lottoList) == 6:\n",
    "        break\n",
    "print(lottoList)"
   ]
  },
  {
   "cell_type": "code",
   "execution_count": 16,
   "metadata": {},
   "outputs": [
    {
     "name": "stdout",
     "output_type": "stream",
     "text": [
      "{4, 5, 38, 10, 44, 25}\n"
     ]
    }
   ],
   "source": [
    "# 랜덤 기능을 이용하여 6개의 로또 번호 만들기\n",
    "import random\n",
    "lottoSet = set() \n",
    "\n",
    "while True:\n",
    "    i = random.randint(1,45)\n",
    " \n",
    "    lottoSet.add(i)\n",
    "    if len(lottoSet) == 6:\n",
    "        break\n",
    "print(lottoSet)"
   ]
  },
  {
   "cell_type": "code",
   "execution_count": 45,
   "metadata": {},
   "outputs": [
    {
     "name": "stdout",
     "output_type": "stream",
     "text": [
      "*\n",
      "**\n",
      "***\n",
      "****\n",
      "*****\n"
     ]
    }
   ],
   "source": [
    "# 아래와 같은 모습의 삼각형 모습 출력\n",
    "\n",
    "i = 1 \n",
    "\n",
    "while i <6:\n",
    "    print('*'*i)\n",
    "    i+=1\n"
   ]
  },
  {
   "cell_type": "code",
   "execution_count": 47,
   "metadata": {},
   "outputs": [
    {
     "name": "stdout",
     "output_type": "stream",
     "text": [
      "     *\n",
      "    **\n",
      "   ***\n",
      "  ****\n",
      " *****\n"
     ]
    }
   ],
   "source": [
    "# 반대로\n",
    "i = 1 # '*' 개수\n",
    "space = 0 # 여백의 크기\n",
    "# 코드 작성\n",
    "# print() 후 줄바꿈 하지 않음 → print('내용', end='')\n",
    "# 문자열 * 숫자 기능 이용\n",
    "while i<6:\n",
    "    print(\" \"*(5-space), end = \"\")\n",
    "    print(\"*\"*i)\n",
    "    i+=1\n",
    "    space+=1\n",
    "\n",
    "    "
   ]
  },
  {
   "cell_type": "code",
   "execution_count": 52,
   "metadata": {},
   "outputs": [
    {
     "name": "stdout",
     "output_type": "stream",
     "text": [
      "     *\n",
      "    **\n",
      "   ***\n",
      "  ****\n",
      " *****\n"
     ]
    }
   ],
   "source": [
    "# 반대로\n",
    "i = 1 # '*' 개수\n",
    "space = 0 # 여백의 크기\n",
    "\n",
    "while i<6:\n",
    "    print(\" \"*(5-i),\"*\"*i)\n",
    "    i+=1\n"
   ]
  },
  {
   "cell_type": "markdown",
   "metadata": {},
   "source": [
    "### for"
   ]
  },
  {
   "cell_type": "code",
   "execution_count": 17,
   "metadata": {},
   "outputs": [
    {
     "name": "stdout",
     "output_type": "stream",
     "text": [
      "0\n",
      "2\n",
      "4\n",
      "6\n",
      "8\n"
     ]
    }
   ],
   "source": [
    "for i in range(0,10,2):\n",
    "    print(i)"
   ]
  },
  {
   "cell_type": "code",
   "execution_count": 18,
   "metadata": {},
   "outputs": [
    {
     "name": "stdout",
     "output_type": "stream",
     "text": [
      "10\n",
      "8\n",
      "6\n",
      "4\n",
      "2\n"
     ]
    }
   ],
   "source": [
    "for i in range(10,0,-2):\n",
    "    print(i)"
   ]
  },
  {
   "cell_type": "markdown",
   "metadata": {},
   "source": [
    "## list comprehension"
   ]
  },
  {
   "cell_type": "code",
   "execution_count": 3,
   "metadata": {},
   "outputs": [
    {
     "data": {
      "text/plain": [
       "[17, 34, 51, 68, 85]"
      ]
     },
     "execution_count": 3,
     "metadata": {},
     "output_type": "execute_result"
    }
   ],
   "source": [
    "data = list(range(1,101))\n",
    "result = [x for x in data if x%17 ==0]\n",
    "result"
   ]
  },
  {
   "cell_type": "code",
   "execution_count": 5,
   "metadata": {},
   "outputs": [
    {
     "data": {
      "text/plain": [
       "['a', 'b', 'c', 'd', 'e', 'f', 'g']"
      ]
     },
     "execution_count": 5,
     "metadata": {},
     "output_type": "execute_result"
    }
   ],
   "source": [
    "a = 'a b c d e f g'.split()\n",
    "b = 'a b e w e h g'.split()\n",
    "\n"
   ]
  },
  {
   "cell_type": "code",
   "execution_count": 6,
   "metadata": {},
   "outputs": [
    {
     "name": "stdout",
     "output_type": "stream",
     "text": [
      "3\n",
      "13\n",
      "23\n",
      "30\n",
      "31\n",
      "32\n",
      "33\n",
      "34\n",
      "35\n",
      "36\n",
      "37\n",
      "38\n",
      "39\n",
      "43\n",
      "53\n",
      "63\n",
      "73\n",
      "83\n",
      "93\n",
      "개수: 19\n"
     ]
    }
   ],
   "source": [
    " #1 ~ 100 사이의 숫자 중 3을 포함하고 있는 숫자와 그 개수를 출력\n",
    "count = 0\n",
    "for i in range(101):\n",
    "    if \"3\" in str(i):\n",
    "        print(i)\n",
    "        count += 1\n",
    "print(f\"개수: {count}\")"
   ]
  },
  {
   "cell_type": "code",
   "execution_count": 14,
   "metadata": {},
   "outputs": [
    {
     "data": {
      "text/plain": [
       "[10, 20, 40, 50, 70]"
      ]
     },
     "execution_count": 14,
     "metadata": {},
     "output_type": "execute_result"
    }
   ],
   "source": [
    "#아래와 같은 리스트가 있을 때 각 요소가 3의 배수인지 확인하여 삭제하는 코드 작성\n",
    "list1 = [10, 20, 30, 40, 50, 60, 70]\n",
    "for i in list1:\n",
    "    if  i%3==0:\n",
    "        list1.remove(i)\n",
    "list1"
   ]
  },
  {
   "cell_type": "code",
   "execution_count": 28,
   "metadata": {},
   "outputs": [
    {
     "data": {
      "text/plain": [
       "[10, 20, 40, 50, 70]"
      ]
     },
     "execution_count": 28,
     "metadata": {},
     "output_type": "execute_result"
    }
   ],
   "source": [
    "list1 = [10, 20, 30, 40, 50, 60, 70]\n",
    "result=[]\n",
    "for _ in range(len(list1)):\n",
    "    i=list1.pop()\n",
    "    if i %3 !=0:\n",
    "        result.append(i)\n",
    "result.sort()\n",
    "result\n"
   ]
  },
  {
   "cell_type": "code",
   "execution_count": 9,
   "metadata": {
    "slideshow": {
     "slide_type": "-"
    }
   },
   "outputs": [
    {
     "data": {
      "text/plain": [
       "[10, 20, 30, 50, 60]"
      ]
     },
     "execution_count": 9,
     "metadata": {},
     "output_type": "execute_result"
    }
   ],
   "source": [
    "list1 = [10, 20, 30, 40, 50, 60, 70]\n",
    "result=[]\n",
    "for i in range(len(list1),0,-1):\n",
    "    if i %3 ==0:\n",
    "        list1.pop(i)\n",
    "\n",
    "list1\n"
   ]
  },
  {
   "cell_type": "code",
   "execution_count": null,
   "metadata": {
    "slideshow": {
     "slide_type": "-"
    }
   },
   "outputs": [],
   "source": [
    "# ! jupyter nbconvert --to slides 03_조건_반복문_연습.ipynb --post serve\n"
   ]
  },
  {
   "cell_type": "code",
   "execution_count": 2,
   "metadata": {},
   "outputs": [
    {
     "data": {
      "text/plain": [
       "False"
      ]
     },
     "execution_count": 2,
     "metadata": {},
     "output_type": "execute_result"
    }
   ],
   "source": [
    "# 홀 / 짝 수를 판단해주는 함수 작성\n",
    "def Odd_Even(num):\n",
    "    if num%2 == 0:\n",
    "        return True\n",
    "    if num%2 == 1:\n",
    "        return False\n",
    "Odd_Even(3)"
   ]
  },
  {
   "cell_type": "code",
   "execution_count": 7,
   "metadata": {},
   "outputs": [
    {
     "name": "stdout",
     "output_type": "stream",
     "text": [
      "8\n",
      "6\n"
     ]
    }
   ],
   "source": [
    "def plus(num1,num2):\n",
    "    return num1 + num2\n",
    "\n",
    "def minus(num1, num2):\n",
    "    return abs(num1 - num2)\n",
    "result1 = plus(5, 3)\n",
    "result2 = minus(3, 9)\n",
    "print(result1)\n",
    "print(result2)"
   ]
  },
  {
   "cell_type": "code",
   "execution_count": 13,
   "metadata": {},
   "outputs": [
    {
     "name": "stdout",
     "output_type": "stream",
     "text": [
      "10\n"
     ]
    },
    {
     "data": {
      "text/plain": [
       "55"
      ]
     },
     "execution_count": 13,
     "metadata": {},
     "output_type": "execute_result"
    }
   ],
   "source": [
    "# 1 이상의 정수 N을 입력받은 후 1 ~ N 까지의 합을 구하는 함수 작성\n",
    "def total_sum(n):\n",
    "    result = 0\n",
    "    for i  in range(1,n+1):\n",
    "        result +=i\n",
    "    return result\n",
    "n= int(input())\n",
    "total_sum(n)"
   ]
  },
  {
   "cell_type": "code",
   "execution_count": 5,
   "metadata": {},
   "outputs": [
    {
     "name": "stdout",
     "output_type": "stream",
     "text": [
      "(30, 7.5)\n"
     ]
    }
   ],
   "source": [
    "def calculator(ls):\n",
    "    ls_sum = sum(ls)\n",
    "    ls_avg = ls_sum/len(ls)\n",
    "    return (ls_sum, ls_avg)\n",
    "result = calculator([3, 7, 9, 11])\n",
    "print(result)"
   ]
  },
  {
   "cell_type": "markdown",
   "metadata": {},
   "source": [
    "### Lambda : 함수를 간결하게 생성할 때 사용"
   ]
  },
  {
   "cell_type": "code",
   "execution_count": 39,
   "metadata": {},
   "outputs": [
    {
     "data": {
      "text/plain": [
       "80"
      ]
     },
     "execution_count": 39,
     "metadata": {},
     "output_type": "execute_result"
    }
   ],
   "source": [
    "ls_1 = [10,20,30,40]\n",
    "func=lambda num : num*2\n",
    "func(ls_1[3])"
   ]
  },
  {
   "cell_type": "code",
   "execution_count": 41,
   "metadata": {},
   "outputs": [
    {
     "data": {
      "text/plain": [
       "[20, 40, 60, 80]"
      ]
     },
     "execution_count": 41,
     "metadata": {},
     "output_type": "execute_result"
    }
   ],
   "source": [
    "list2 = [func(i) for i in ls_1]\n",
    "list2"
   ]
  },
  {
   "cell_type": "code",
   "execution_count": 44,
   "metadata": {},
   "outputs": [
    {
     "data": {
      "text/plain": [
       "[20, 40, 60, 80]"
      ]
     },
     "execution_count": 44,
     "metadata": {},
     "output_type": "execute_result"
    }
   ],
   "source": [
    "ls_1 = [10,20,30,40]\n",
    "list2 = [i*2 for i in ls_1]\n",
    "list2"
   ]
  },
  {
   "cell_type": "markdown",
   "metadata": {},
   "source": [
    "#### 연습문제\n",
    ">3개의 숫자를 입력받아 숫자들의 합과 그 숫자들을 제곱한 숫자들의 합의 차이를\n",
    " 계산하는 함수 diff_sum 만들기"
   ]
  },
  {
   "cell_type": "code",
   "execution_count": 49,
   "metadata": {},
   "outputs": [
    {
     "name": "stdout",
     "output_type": "stream",
     "text": [
      "0\n",
      "26\n"
     ]
    }
   ],
   "source": [
    "def diff_sum(a,b,c):\n",
    "    double_sum = sum([a**2, b**2, c**2])\n",
    "    org_sum = sum([a,b,c])\n",
    "    return double_sum - org_sum\n",
    "print(diff_sum(1,1,1))\n",
    "print(diff_sum(5,3,1))"
   ]
  },
  {
   "cell_type": "markdown",
   "metadata": {},
   "source": [
    "#### 다음과 같은 수열이 있을 때 N 번째의 수열의 값을 구하는 get_sequence 함수 만들기"
   ]
  },
  {
   "cell_type": "code",
   "execution_count": 58,
   "metadata": {},
   "outputs": [
    {
     "data": {
      "text/plain": [
       "20"
      ]
     },
     "execution_count": 58,
     "metadata": {},
     "output_type": "execute_result"
    }
   ],
   "source": [
    "def get_sequence(n):\n",
    "    count_ls= []\n",
    "    result_ls=[]\n",
    "    for i in range(n+1):\n",
    "        count_ls.append(i)\n",
    "        result=sum(count_ls)\n",
    "        result_ls.append(result)\n",
    "    return sum(result_ls)\n",
    "\n",
    "get_sequence(4)"
   ]
  },
  {
   "cell_type": "code",
   "execution_count": 57,
   "metadata": {},
   "outputs": [
    {
     "data": {
      "text/plain": [
       "20"
      ]
     },
     "execution_count": 57,
     "metadata": {},
     "output_type": "execute_result"
    }
   ],
   "source": [
    "1+(1+2)+(1+2+3)+(1+2+3+4)"
   ]
  },
  {
   "cell_type": "markdown",
   "metadata": {},
   "source": [
    "#### 3. 단어 s의 가운데 글자를 반환하는 get_mid_char 함수 만들기\n",
    "- 조건 1) functions 와 같은 홀수 길이 단어가 입력되면 가운데 한글자 반환 ex) t\n",
    "- 조건 2) python 과 같은 짝수 길이 단어가 입력되면 가운데 두 글자 반환 ex) th\n"
   ]
  },
  {
   "cell_type": "code",
   "execution_count": 91,
   "metadata": {},
   "outputs": [
    {
     "name": "stdout",
     "output_type": "stream",
     "text": [
      "t\n",
      "th\n"
     ]
    }
   ],
   "source": [
    "def get_mid_char(word):\n",
    "    if len(word)%2 ==0:\n",
    "        idx = len(word)//2\n",
    "        return word[idx-1:idx+1]\n",
    "    \n",
    "    else:\n",
    "        idx = len(word)//2\n",
    "        return word[idx]\n",
    "print(get_mid_char('functions'))\n",
    "print(get_mid_char('python'))\n",
    "        "
   ]
  },
  {
   "cell_type": "markdown",
   "metadata": {},
   "source": [
    "#### 길이가 N이고, 수박수박수박수... 와 같은 패턴을 유지하는 문자열을 반환하는print_str 함수 만들기\n"
   ]
  },
  {
   "cell_type": "code",
   "execution_count": 69,
   "metadata": {},
   "outputs": [
    {
     "name": "stdout",
     "output_type": "stream",
     "text": [
      "수박수박수박수"
     ]
    }
   ],
   "source": [
    "def print_str(n):\n",
    "    for i in range(1,n+1):\n",
    "        if i%2==1:\n",
    "            print(\"수\", end=\"\")\n",
    "        else:\n",
    "            print(\"박\", end=\"\")\n",
    "print_str(7)"
   ]
  },
  {
   "cell_type": "code",
   "execution_count": 93,
   "metadata": {},
   "outputs": [
    {
     "name": "stdout",
     "output_type": "stream",
     "text": [
      "수박수박수박수\n"
     ]
    }
   ],
   "source": [
    "def print_str(n):\n",
    "    word = '수박'\n",
    "    if n%2==0:\n",
    "        print (word*(n//2))\n",
    "    else:\n",
    "        print((word*(n//2))+\"수\")\n",
    "        \n",
    "    \n",
    "print_str(7)"
   ]
  },
  {
   "cell_type": "markdown",
   "metadata": {},
   "source": [
    "#### 자연수 N이 주어지면 N의 각 자리수 합을 구해서 반환하는 get_total 함수 만들기"
   ]
  },
  {
   "cell_type": "code",
   "execution_count": 84,
   "metadata": {},
   "outputs": [
    {
     "name": "stdout",
     "output_type": "stream",
     "text": [
      "15\n",
      "25\n"
     ]
    }
   ],
   "source": [
    "def get_total(n):\n",
    "    result =sum([int(i) for i in str(n)])\n",
    "    \n",
    "    return result\n",
    "\n",
    "print(get_total(12345))\n",
    "print(get_total(13579))\n",
    "        "
   ]
  },
  {
   "cell_type": "code",
   "execution_count": 88,
   "metadata": {},
   "outputs": [
    {
     "name": "stdout",
     "output_type": "stream",
     "text": [
      "15\n",
      "25\n"
     ]
    }
   ],
   "source": [
    "def get_total(n):\n",
    "    count= 0\n",
    "    for i in [int(i) for i in str(n)]:\n",
    "        count += i\n",
    "    \n",
    "    return count\n",
    "\n",
    "print(get_total(12345))\n",
    "print(get_total(13579))"
   ]
  },
  {
   "cell_type": "markdown",
   "metadata": {},
   "source": [
    "#### 실행결과와 같이 출력될 수 있도록 함수 작성"
   ]
  },
  {
   "cell_type": "code",
   "execution_count": 116,
   "metadata": {},
   "outputs": [
    {
     "data": {
      "text/plain": [
       "'1234'"
      ]
     },
     "execution_count": 116,
     "metadata": {},
     "output_type": "execute_result"
    }
   ],
   "source": [
    "text1 = '' #전역변수\n",
    "\n",
    "def str_adder (*args):\n",
    "    global text1\n",
    "    for i in args:\n",
    "        text1 += i\n",
    "    return text1\n",
    "        \n",
    "str_adder('1', '2', '3', '4') # → 1234\n",
    "# str_adder('p', 'y', 't', 'h', 'o', 'n') # → python\n"
   ]
  },
  {
   "cell_type": "markdown",
   "metadata": {},
   "source": [
    " ### 아래의 5보다 큰 수만 필터링하여 돌려주는 함수를  lambda와 List Comprehension을 이용하는 함수로 작성"
   ]
  },
  {
   "cell_type": "code",
   "execution_count": 109,
   "metadata": {},
   "outputs": [
    {
     "name": "stdout",
     "output_type": "stream",
     "text": [
      "[6, 7, 8]\n"
     ]
    }
   ],
   "source": [
    "def myfunc(numbers):\n",
    "    result = []\n",
    "    for number in numbers:\n",
    "        if number >5:\n",
    "            result.append(number)\n",
    "    return result\n",
    "    \n",
    "result = myfunc([2, 3, 4, 5, 6, 7, 8])\n",
    "print(result)\n"
   ]
  },
  {
   "cell_type": "code",
   "execution_count": 114,
   "metadata": {},
   "outputs": [
    {
     "data": {
      "text/plain": [
       "[6, 7, 8]"
      ]
     },
     "execution_count": 114,
     "metadata": {},
     "output_type": "execute_result"
    }
   ],
   "source": [
    "myfunc2 = lambda x: [ i for i in x if i>5]\n",
    "myfunc2([2, 3, 4, 5, 6, 7, 8])"
   ]
  },
  {
   "cell_type": "markdown",
   "metadata": {},
   "source": [
    "### Lambda Examples"
   ]
  },
  {
   "cell_type": "code",
   "execution_count": 104,
   "metadata": {},
   "outputs": [
    {
     "name": "stdout",
     "output_type": "stream",
     "text": [
      "False\n"
     ]
    }
   ],
   "source": [
    "#3의 배수인지 판단하는 함수\n",
    "lambda1 = lambda n : n % 2 == 0\n",
    "print(lambda1(3))"
   ]
  },
  {
   "cell_type": "code",
   "execution_count": 103,
   "metadata": {},
   "outputs": [
    {
     "name": "stdout",
     "output_type": "stream",
     "text": [
      "2\n"
     ]
    }
   ],
   "source": [
    "#지정된 범위 내의 난수 발생 함수\n",
    "import random\n",
    "lambda2 = lambda a, b : random.randint(a, b)\n",
    "print(lambda2(1, 3))\n"
   ]
  },
  {
   "cell_type": "code",
   "execution_count": 105,
   "metadata": {},
   "outputs": [
    {
     "name": "stdout",
     "output_type": "stream",
     "text": [
      "[2, 4, 6, 8]\n"
     ]
    }
   ],
   "source": [
    "# 리스트의 각 요소에 2를 곱한 새로운 리스트 생성\n",
    "list1 = [1, 2, 3, 4]\n",
    "result1 = [n * 2 for n in list1]\n",
    "print(result1)"
   ]
  },
  {
   "cell_type": "code",
   "execution_count": 106,
   "metadata": {},
   "outputs": [
    {
     "name": "stdout",
     "output_type": "stream",
     "text": [
      "[2, 3, 4]\n"
     ]
    }
   ],
   "source": [
    "# 리스트의 각 요소 중 2 또는 3의 배수인 요소만 필터링\n",
    "list2 = [1, 2, 3, 4]\n",
    "result2 = [n for n in list2 if n % 2 == 0 or n % 3 == 0]\n",
    "print(result2)"
   ]
  },
  {
   "cell_type": "code",
   "execution_count": null,
   "metadata": {},
   "outputs": [],
   "source": []
  }
 ],
 "metadata": {
  "kernelspec": {
   "display_name": "Python 3",
   "language": "python",
   "name": "python3"
  },
  "language_info": {
   "codemirror_mode": {
    "name": "ipython",
    "version": 3
   },
   "file_extension": ".py",
   "mimetype": "text/x-python",
   "name": "python",
   "nbconvert_exporter": "python",
   "pygments_lexer": "ipython3",
   "version": "3.7.4"
  }
 },
 "nbformat": 4,
 "nbformat_minor": 2
}
