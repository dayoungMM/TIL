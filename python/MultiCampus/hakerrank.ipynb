{
 "cells": [
  {
   "cell_type": "code",
   "execution_count": 9,
   "metadata": {},
   "outputs": [
    {
     "name": "stdout",
     "output_type": "stream",
     "text": [
      "75\n",
      "67\n",
      "40\n",
      "33\n"
     ]
    }
   ],
   "source": [
    "scores = [73,67,38,33]\n",
    "\n",
    "def gradingStudents(grades):\n",
    "    for i in grades:\n",
    "        thr=(i//5+1)*5\n",
    "        if i <38:\n",
    "            result = i\n",
    "        elif thr - i <3:\n",
    "            result= thr\n",
    "        elif thr - i >=3:\n",
    "            result = i\n",
    "        print(result)\n",
    "        \n",
    "gradingStudents(scores)"
   ]
  },
  {
   "cell_type": "code",
   "execution_count": 4,
   "metadata": {},
   "outputs": [
    {
     "data": {
      "text/plain": [
       "75"
      ]
     },
     "execution_count": 4,
     "metadata": {},
     "output_type": "execute_result"
    }
   ],
   "source": [
    "(73//5+1)*5"
   ]
  },
  {
   "cell_type": "code",
   "execution_count": null,
   "metadata": {},
   "outputs": [],
   "source": []
  }
 ],
 "metadata": {
  "kernelspec": {
   "display_name": "Python 3",
   "language": "python",
   "name": "python3"
  },
  "language_info": {
   "codemirror_mode": {
    "name": "ipython",
    "version": 3
   },
   "file_extension": ".py",
   "mimetype": "text/x-python",
   "name": "python",
   "nbconvert_exporter": "python",
   "pygments_lexer": "ipython3",
   "version": "3.7.4"
  }
 },
 "nbformat": 4,
 "nbformat_minor": 2
}
