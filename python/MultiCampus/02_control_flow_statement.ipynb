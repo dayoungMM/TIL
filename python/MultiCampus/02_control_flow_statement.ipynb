{
 "cells": [
  {
   "cell_type": "code",
   "execution_count": 1,
   "metadata": {},
   "outputs": [
    {
     "name": "stdout",
     "output_type": "stream",
     "text": [
      "계속 근무!\n"
     ]
    }
   ],
   "source": [
    "workingTime=7\n",
    "print(\"퇴근\") if workingTime >=8 else print(\"계속 근무!\")"
   ]
  },
  {
   "cell_type": "code",
   "execution_count": 2,
   "metadata": {},
   "outputs": [
    {
     "name": "stdout",
     "output_type": "stream",
     "text": [
      "C학점\n"
     ]
    }
   ],
   "source": [
    "score = 70\n",
    "if score >=90:\n",
    "    print('A학점')\n",
    "elif score >=70:\n",
    "    print('C학점')\n",
    "else:\n",
    "    print('F학점')"
   ]
  },
  {
   "cell_type": "code",
   "execution_count": 3,
   "metadata": {},
   "outputs": [
    {
     "name": "stdout",
     "output_type": "stream",
     "text": [
      "그냥 결제\n"
     ]
    }
   ],
   "source": [
    "cardList = ['우리카드', '신한카드', 'KB카드']\n",
    "card = '하나카드'\n",
    "\n",
    "if card in cardList:\n",
    "    print(\"10% 할인 후 결제\")\n",
    "else:\n",
    "    print(\"그냥 결제\")"
   ]
  },
  {
   "cell_type": "markdown",
   "metadata": {},
   "source": [
    "### 거북이로 도형 그리기"
   ]
  },
  {
   "cell_type": "code",
   "execution_count": 10,
   "metadata": {},
   "outputs": [],
   "source": [
    "import turtle as t\n",
    "t.shape('turtle')\n",
    "t.speed(1) #1 느리게, 10 빠르게\n",
    "for i in range(4):\n",
    "    t.forward(100)\n",
    "    t.right(90)"
   ]
  },
  {
   "cell_type": "code",
   "execution_count": null,
   "metadata": {},
   "outputs": [],
   "source": []
  }
 ],
 "metadata": {
  "kernelspec": {
   "display_name": "Python 3",
   "language": "python",
   "name": "python3"
  },
  "language_info": {
   "codemirror_mode": {
    "name": "ipython",
    "version": 3
   },
   "file_extension": ".py",
   "mimetype": "text/x-python",
   "name": "python",
   "nbconvert_exporter": "python",
   "pygments_lexer": "ipython3",
   "version": "3.7.4"
  }
 },
 "nbformat": 4,
 "nbformat_minor": 2
}
