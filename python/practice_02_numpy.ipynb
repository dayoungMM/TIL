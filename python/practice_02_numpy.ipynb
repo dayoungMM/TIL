{
 "cells": [
  {
   "cell_type": "markdown",
   "metadata": {},
   "source": [
    "## numpy 브로드 캐스팅 실습\n"
   ]
  },
  {
   "cell_type": "markdown",
   "metadata": {},
   "source": [
    "### Fizz Buzz 문제\n",
    "- 100~130까지 랜덤한 숫자를 가지는 8*8행렬을 만들고\n",
    "- 3의 배수는 fiz, 5의 배수는 buz, 3,5의 배수는 fbz 문자로 변환"
   ]
  },
  {
   "cell_type": "code",
   "execution_count": 7,
   "metadata": {},
   "outputs": [
    {
     "data": {
      "text/plain": [
       "array([[117, 102, 121, 123, 117, 116, 127, 106],\n",
       "       [120, 124, 116, 127, 112, 128, 106, 100],\n",
       "       [127, 107, 102, 109, 124, 125, 117, 116],\n",
       "       [107, 125, 125, 120, 118, 116, 122, 101],\n",
       "       [106, 111, 101, 102, 124, 104, 114, 122],\n",
       "       [107, 110, 107, 111, 112, 123, 114, 129],\n",
       "       [111, 111, 105, 121, 128, 108, 114, 116],\n",
       "       [113, 103, 124, 125, 112, 115, 106, 119]])"
      ]
     },
     "execution_count": 7,
     "metadata": {},
     "output_type": "execute_result"
    }
   ],
   "source": [
    "import numpy as np\n",
    "import random\n",
    "datas= np.random.randint(100,131,size=(8,8))\n",
    "datas"
   ]
  },
  {
   "cell_type": "code",
   "execution_count": 21,
   "metadata": {},
   "outputs": [],
   "source": [
    "idx_03=datas%3==0\n",
    "idx_05=datas%5==0\n",
    "idx_15=(datas%3==0) & (datas%5)==0"
   ]
  },
  {
   "cell_type": "code",
   "execution_count": 22,
   "metadata": {},
   "outputs": [],
   "source": [
    "datas_str=datas.astype('str')"
   ]
  },
  {
   "cell_type": "code",
   "execution_count": 23,
   "metadata": {},
   "outputs": [
    {
     "data": {
      "text/plain": [
       "array([['fbz', 'fbz', 'fbz', 'fiz', 'fbz', 'fbz', 'fbz', 'fbz'],\n",
       "       ['fbz', 'fbz', 'fbz', 'fbz', 'fbz', 'fbz', 'fbz', 'fbz'],\n",
       "       ['fbz', 'fbz', 'fbz', 'fbz', 'fbz', 'fbz', 'fbz', 'fbz'],\n",
       "       ['fbz', 'fbz', 'fbz', 'fbz', 'fbz', 'fbz', 'fbz', 'fbz'],\n",
       "       ['fbz', 'fiz', 'fbz', 'fbz', 'fbz', 'fbz', 'fbz', 'fbz'],\n",
       "       ['fbz', 'fbz', 'fbz', 'fiz', 'fbz', 'fiz', 'fbz', 'fbz'],\n",
       "       ['fiz', 'fiz', 'fbz', 'fbz', 'fbz', 'fiz', 'fbz', 'fbz'],\n",
       "       ['fbz', 'fbz', 'fbz', 'fbz', 'fbz', 'fbz', 'fbz', 'fbz']],\n",
       "      dtype='<U11')"
      ]
     },
     "execution_count": 23,
     "metadata": {},
     "output_type": "execute_result"
    }
   ],
   "source": [
    "datas_str[idx_03]=\"fiz\"\n",
    "datas_str[idx_05]=\"buz\"\n",
    "datas_str[idx_15]=\"fbz\"\n",
    "datas_str\n"
   ]
  },
  {
   "cell_type": "markdown",
   "metadata": {},
   "source": [
    "### quiz\n",
    "- 1~20까지 랜덤한 숫자를 가지는 5*5 행렬 생성\n",
    "- 최대값에는 MAX, 최소값에는 MIN문자열이 들어가도록 치환하는 코드 작성\n",
    "- 최대값과 최소값 함수\n",
    "```\n",
    "np.min(ndarray), np.max(ndarray)\n",
    "```"
   ]
  },
  {
   "cell_type": "code",
   "execution_count": 22,
   "metadata": {},
   "outputs": [
    {
     "data": {
      "text/plain": [
       "array([[ 4, 19, 11, 15,  4],\n",
       "       [ 6, 15, 16,  5,  7],\n",
       "       [14, 18, 15, 15, 12],\n",
       "       [11, 15, 14, 20, 15],\n",
       "       [ 3, 12, 18,  3,  9]])"
      ]
     },
     "execution_count": 22,
     "metadata": {},
     "output_type": "execute_result"
    }
   ],
   "source": [
    "datas=np.random.randint(1,21,(5,5))\n",
    "datas"
   ]
  },
  {
   "cell_type": "code",
   "execution_count": 23,
   "metadata": {},
   "outputs": [],
   "source": [
    "min_num = np.min(datas)\n",
    "max_num = np.max(datas)"
   ]
  },
  {
   "cell_type": "code",
   "execution_count": 24,
   "metadata": {},
   "outputs": [],
   "source": [
    "idx_min_num=datas==min_num\n",
    "idx_max_num=datas==max_num\n",
    "#idx_min_num\n"
   ]
  },
  {
   "cell_type": "code",
   "execution_count": 25,
   "metadata": {},
   "outputs": [],
   "source": [
    "result=datas.astype('str')"
   ]
  },
  {
   "cell_type": "code",
   "execution_count": 29,
   "metadata": {},
   "outputs": [
    {
     "data": {
      "text/plain": [
       "array([['4', '19', '11', '15', '4'],\n",
       "       ['6', '15', '16', '5', '7'],\n",
       "       ['14', '18', '15', '15', '12'],\n",
       "       ['11', '15', '14', '20', '15'],\n",
       "       ['min', '12', '18', 'min', '9']], dtype='<U11')"
      ]
     },
     "execution_count": 29,
     "metadata": {},
     "output_type": "execute_result"
    }
   ],
   "source": [
    "result[idx_min_num]='min'\n",
    "result\n"
   ]
  },
  {
   "cell_type": "code",
   "execution_count": 30,
   "metadata": {},
   "outputs": [
    {
     "data": {
      "text/plain": [
       "array([['4', '19', '11', '15', '4'],\n",
       "       ['6', '15', '16', '5', '7'],\n",
       "       ['14', '18', '15', '15', '12'],\n",
       "       ['11', '15', '14', 'max', '15'],\n",
       "       ['min', '12', '18', 'min', '9']], dtype='<U11')"
      ]
     },
     "execution_count": 30,
     "metadata": {},
     "output_type": "execute_result"
    }
   ],
   "source": [
    "result[idx_max_num]='max'\n",
    "result"
   ]
  },
  {
   "cell_type": "code",
   "execution_count": null,
   "metadata": {},
   "outputs": [],
   "source": [
    "### linspace, logspace 함수\n",
    "- linspace:설정한 범위에서 선형적으로 분할한 위치의 값을 출력\n",
    "- logspace: 설정한 범위에서 로그로 분할한 위치의 값을 출력 "
   ]
  },
  {
   "cell_type": "code",
   "execution_count": 31,
   "metadata": {},
   "outputs": [
    {
     "data": {
      "text/plain": [
       "array([  0.,  25.,  50.,  75., 100.])"
      ]
     },
     "execution_count": 31,
     "metadata": {},
     "output_type": "execute_result"
    }
   ],
   "source": [
    "#linspace\n",
    "np.linspace(0,100,5)"
   ]
  },
  {
   "cell_type": "code",
   "execution_count": 32,
   "metadata": {},
   "outputs": [
    {
     "data": {
      "text/plain": [
       "array([  100.,  1000., 10000.])"
      ]
     },
     "execution_count": 32,
     "metadata": {},
     "output_type": "execute_result"
    }
   ],
   "source": [
    "#logspace\n",
    "np.logspace(2,4,3)"
   ]
  },
  {
   "cell_type": "code",
   "execution_count": 34,
   "metadata": {},
   "outputs": [],
   "source": [
    "### 30세에 연봉이 $100000이고 60세의 연봉이 $1000000일때\n",
    "#연봉이 선형으로 증가. 지수함수로 증가하는 두 경우에서 40, 50세 연봉을 출력"
   ]
  },
  {
   "cell_type": "code",
   "execution_count": 35,
   "metadata": {},
   "outputs": [
    {
     "data": {
      "text/plain": [
       "array([ 100000.,  400000.,  700000., 1000000.])"
      ]
     },
     "execution_count": 35,
     "metadata": {},
     "output_type": "execute_result"
    }
   ],
   "source": [
    "#linspace\n",
    "age_30=100000\n",
    "age_60=1000000\n",
    "\n",
    "np.linspace(age_30,age_60,4)"
   ]
  },
  {
   "cell_type": "code",
   "execution_count": 38,
   "metadata": {},
   "outputs": [
    {
     "data": {
      "text/plain": [
       "array([ 100000.        ,  215443.46900319,  464158.88336128,\n",
       "       1000000.        ])"
      ]
     },
     "execution_count": 38,
     "metadata": {},
     "output_type": "execute_result"
    }
   ],
   "source": [
    "#logspace\n",
    "np.logspace(np.log10(age_30), np.log10(age_60),4)"
   ]
  },
  {
   "cell_type": "markdown",
   "metadata": {},
   "source": [
    "### numpy random"
   ]
  },
  {
   "cell_type": "code",
   "execution_count": 39,
   "metadata": {},
   "outputs": [
    {
     "data": {
      "text/plain": [
       "(array([47, 22, 82, 19, 85, 15, 89, 74, 26, 11]),\n",
       " array([50, 25, 82, 32, 53, 92, 85, 17, 44, 59]),\n",
       " array([47, 22, 82, 19, 85, 15, 89, 74, 26, 11]))"
      ]
     },
     "execution_count": 39,
     "metadata": {},
     "output_type": "execute_result"
    }
   ],
   "source": [
    "#seed : 랜덤값의 설정값\n",
    "np. random.seed(1)\n",
    "result1= np.random.randint(10,101,10)\n",
    "\n",
    "np. random.seed(2)\n",
    "result2= np.random.randint(10,101,10)\n",
    "\n",
    "np. random.seed(1)\n",
    "result3= np.random.randint(10,101,10)\n",
    "\n",
    "result1, result2, result3"
   ]
  },
  {
   "cell_type": "code",
   "execution_count": 45,
   "metadata": {},
   "outputs": [
    {
     "data": {
      "text/plain": [
       "array([0.98907569, 0.31845712, 0.02390378, 0.80856415, 0.97325255,\n",
       "       0.73758851, 0.00273581, 0.06336051, 0.58426941, 0.33571511])"
      ]
     },
     "execution_count": 45,
     "metadata": {},
     "output_type": "execute_result"
    }
   ],
   "source": [
    "#rand: 군등분포로 난수생성\n",
    "np.random.rand(10)\n"
   ]
  },
  {
   "cell_type": "code",
   "execution_count": 46,
   "metadata": {},
   "outputs": [
    {
     "data": {
      "text/plain": [
       "array([-0.36583665,  0.76450212, -0.70262028, -1.71176487,  1.18113873,\n",
       "        1.64113619, -1.86053074, -1.29227662,  0.09417316, -1.04936032])"
      ]
     },
     "execution_count": 46,
     "metadata": {},
     "output_type": "execute_result"
    }
   ],
   "source": [
    "#randn: 정규분포로 난수를 발생\n",
    "np.random.randn(10)"
   ]
  },
  {
   "cell_type": "code",
   "execution_count": 50,
   "metadata": {},
   "outputs": [
    {
     "data": {
      "text/plain": [
       "array([[1, 2, 3],\n",
       "       [4, 5, 6],\n",
       "       [7, 8, 9]])"
      ]
     },
     "execution_count": 50,
     "metadata": {},
     "output_type": "execute_result"
    }
   ],
   "source": [
    "#shuffle: 행렬 데이터 섞어주기\n",
    "data=np.arange(1,10).reshape(3,3)\n",
    "data"
   ]
  },
  {
   "cell_type": "code",
   "execution_count": 61,
   "metadata": {},
   "outputs": [
    {
     "data": {
      "text/plain": [
       "array([[4, 5, 6],\n",
       "       [1, 2, 3],\n",
       "       [7, 8, 9]])"
      ]
     },
     "execution_count": 61,
     "metadata": {},
     "output_type": "execute_result"
    }
   ],
   "source": [
    "np.random.shuffle(data)\n",
    "data"
   ]
  },
  {
   "cell_type": "code",
   "execution_count": 76,
   "metadata": {},
   "outputs": [
    {
     "data": {
      "text/plain": [
       "array([3, 2, 3, 4, 4, 4, 3, 2, 2, 4], dtype=int64)"
      ]
     },
     "execution_count": 76,
     "metadata": {},
     "output_type": "execute_result"
    }
   ],
   "source": [
    "#choice: 특정확률로 데이터를 선택\n",
    "a=np.random.choice(5,10,p=[0.1,0,0.4,0.2,0.3])\n",
    "a"
   ]
  },
  {
   "cell_type": "code",
   "execution_count": 80,
   "metadata": {},
   "outputs": [
    {
     "name": "stdout",
     "output_type": "stream",
     "text": [
      "[2 3 4]\n",
      "[3 3 4]\n"
     ]
    }
   ],
   "source": [
    "#unique: 배열 내 중복된 원소 제거 후 유일한 원소를 정렬하여 반환\n",
    "numbers, counts= np.unique(a, return_counts=True)\n",
    "print(numbers)\n",
    "print(counts)"
   ]
  },
  {
   "cell_type": "markdown",
   "metadata": {},
   "source": [
    "### 행렬데이터의 결합"
   ]
  },
  {
   "cell_type": "code",
   "execution_count": 81,
   "metadata": {},
   "outputs": [],
   "source": [
    "na1= np.random.randint(10, size=(4,3))\n",
    "na2= np.random.randint(10, size=(3,4))\n",
    "na3= np.random.randint(10, size=(3,3))\n"
   ]
  },
  {
   "cell_type": "code",
   "execution_count": 82,
   "metadata": {},
   "outputs": [
    {
     "data": {
      "text/plain": [
       "array([[9, 7, 8],\n",
       "       [4, 9, 9],\n",
       "       [4, 2, 9],\n",
       "       [0, 4, 5]])"
      ]
     },
     "execution_count": 82,
     "metadata": {},
     "output_type": "execute_result"
    }
   ],
   "source": [
    "na1"
   ]
  },
  {
   "cell_type": "code",
   "execution_count": 83,
   "metadata": {},
   "outputs": [
    {
     "data": {
      "text/plain": [
       "array([[6, 9, 9, 2],\n",
       "       [0, 6, 3, 1],\n",
       "       [1, 1, 2, 6]])"
      ]
     },
     "execution_count": 83,
     "metadata": {},
     "output_type": "execute_result"
    }
   ],
   "source": [
    "na2"
   ]
  },
  {
   "cell_type": "code",
   "execution_count": 84,
   "metadata": {},
   "outputs": [
    {
     "data": {
      "text/plain": [
       "array([[9, 2, 0],\n",
       "       [5, 4, 0],\n",
       "       [3, 7, 6]])"
      ]
     },
     "execution_count": 84,
     "metadata": {},
     "output_type": "execute_result"
    }
   ],
   "source": [
    "na3"
   ]
  },
  {
   "cell_type": "code",
   "execution_count": 85,
   "metadata": {},
   "outputs": [
    {
     "data": {
      "text/plain": [
       "array([[9, 7, 8],\n",
       "       [4, 9, 9],\n",
       "       [4, 2, 9],\n",
       "       [0, 4, 5],\n",
       "       [9, 2, 0],\n",
       "       [5, 4, 0],\n",
       "       [3, 7, 6]])"
      ]
     },
     "execution_count": 85,
     "metadata": {},
     "output_type": "execute_result"
    }
   ],
   "source": [
    "#세로결합\n",
    "np.concatenate((na1,na3))"
   ]
  },
  {
   "cell_type": "code",
   "execution_count": 90,
   "metadata": {},
   "outputs": [
    {
     "data": {
      "text/plain": [
       "array([[6, 9, 9, 2, 9, 2, 0],\n",
       "       [0, 6, 3, 1, 5, 4, 0],\n",
       "       [1, 1, 2, 6, 3, 7, 6]])"
      ]
     },
     "execution_count": 90,
     "metadata": {},
     "output_type": "execute_result"
    }
   ],
   "source": [
    "#가로결합\n",
    "np.concatenate((na2,na3), axis=1)"
   ]
  },
  {
   "cell_type": "code",
   "execution_count": 101,
   "metadata": {},
   "outputs": [
    {
     "data": {
      "text/plain": [
       "array([[1, 4],\n",
       "       [2, 5],\n",
       "       [3, 6]])"
      ]
     },
     "execution_count": 101,
     "metadata": {},
     "output_type": "execute_result"
    }
   ],
   "source": [
    "#c_ 또는 #r_로 결합하기\n",
    "np.c_[np.array([1,2,3]), np.array([4,5,6])]"
   ]
  },
  {
   "cell_type": "code",
   "execution_count": 106,
   "metadata": {},
   "outputs": [
    {
     "data": {
      "text/plain": [
       "array([[9, 2, 0, 9, 2, 0],\n",
       "       [5, 4, 0, 5, 4, 0],\n",
       "       [3, 7, 6, 3, 7, 6]])"
      ]
     },
     "execution_count": 106,
     "metadata": {},
     "output_type": "execute_result"
    }
   ],
   "source": [
    "np.c_[na3,na3]"
   ]
  },
  {
   "cell_type": "code",
   "execution_count": 108,
   "metadata": {},
   "outputs": [
    {
     "data": {
      "text/plain": [
       "array([1, 2, 3, 4, 5, 6])"
      ]
     },
     "execution_count": 108,
     "metadata": {},
     "output_type": "execute_result"
    }
   ],
   "source": [
    "np.r_[np.array([1,2,3]), np.array([4,5,6])]"
   ]
  },
  {
   "cell_type": "code",
   "execution_count": 113,
   "metadata": {},
   "outputs": [
    {
     "data": {
      "text/plain": [
       "array([[9, 7, 8],\n",
       "       [4, 9, 9],\n",
       "       [4, 2, 9],\n",
       "       [0, 4, 5],\n",
       "       [9, 2, 0],\n",
       "       [5, 4, 0],\n",
       "       [3, 7, 6]])"
      ]
     },
     "execution_count": 113,
     "metadata": {},
     "output_type": "execute_result"
    }
   ],
   "source": [
    "np.r_[na1, na3]"
   ]
  },
  {
   "cell_type": "code",
   "execution_count": null,
   "metadata": {},
   "outputs": [],
   "source": []
  }
 ],
 "metadata": {
  "kernelspec": {
   "display_name": "Python 3",
   "language": "python",
   "name": "python3"
  },
  "language_info": {
   "codemirror_mode": {
    "name": "ipython",
    "version": 3
   },
   "file_extension": ".py",
   "mimetype": "text/x-python",
   "name": "python",
   "nbconvert_exporter": "python",
   "pygments_lexer": "ipython3",
   "version": "3.7.3"
  }
 },
 "nbformat": 4,
 "nbformat_minor": 2
}
