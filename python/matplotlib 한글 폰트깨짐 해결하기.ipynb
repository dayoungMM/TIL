{
 "cells": [
  {
   "cell_type": "markdown",
   "metadata": {},
   "source": [
    "## 방법1. config파일 설정"
   ]
  },
  {
   "cell_type": "markdown",
   "metadata": {},
   "source": [
    "- 터미널에서 프로필 디렉터리 설정하기\n",
    "```\n",
    "$ipython profile create\n",
    "```\n",
    "- 맑은고딕 폰트 있는지 확인하기\n",
    "```\n",
    "import matplotlib\n",
    "\n",
    "[f.name for f in matplotlib.font_manager.fontManager.ttflist if f.name.startswith(\"M\")]\n",
    "```\n",
    "\n",
    "-다음의 폴더에서 ipython_config.py 파일 열기\n",
    "```\n",
    "/.ipython/profile_default/\n",
    "```\n",
    "\n"
   ]
  },
  {
   "cell_type": "markdown",
   "metadata": {},
   "source": [
    "- 다음의 내용 입력\n",
    "\n",
    "```\n",
    "c = get_config()\n",
    "```\n",
    "```\n",
    "c.InteractiveShellApp.exec_lines = [\n",
    "    \"mpl.rc('font', family='Malgun Gothic')\",  # 맑은고딕 폰트 사용\n",
    "    \"mpl.rc('axes', unicode_minus=False)\", # 유니코드 음수 기호 사용\n",
    "    \"mpl.rc('figure', figsize=(8, 5))\",  # 그림 크기 (단위: 인치)\n",
    "    \"mpl.rc('figure', dpi=300)\",  # 그림 해상도\n",
    "]\n",
    "```\n"
   ]
  },
  {
   "cell_type": "markdown",
   "metadata": {},
   "source": [
    "## 방법2. plc.rc 이용하기"
   ]
  },
  {
   "cell_type": "markdown",
   "metadata": {},
   "source": [
    "- 폰트 확인하기\n",
    "```\n",
    "print ('버전: ', mpl.__version__)\n",
    "print ('설치 위치: ', mpl.__file__)\n",
    "print ('설정 위치: ', mpl.get_configdir())\n",
    "print ('캐시 위치: ', mpl.get_cachedir())\n",
    "print ('설정 파일 위치: ', mpl.matplotlib_fname())\n",
    "font_list = fm.findSystemFonts(fontpaths=None, fontext='ttf')\n",
    "```"
   ]
  },
  {
   "cell_type": "markdown",
   "metadata": {},
   "source": [
    "* 폰트 위치 확인하기"
   ]
  },
  {
   "cell_type": "markdown",
   "metadata": {},
   "source": [
    "\n",
    "print(len(font_list)) # ttf 폰트 전체개수\n",
    "[(f.name, f.fname) for f in fm.fontManager.ttflist if 'Malgun Gothic' in f.name]\n"
   ]
  },
  {
   "cell_type": "markdown",
   "metadata": {},
   "source": [
    "* 설정하기\n",
    "```\n",
    "path = 'C:/Windows/Fonts/malgun.ttf'\n",
    "font_name = fm.FontProperties(fname=path, size=50).get_name()\n",
    "print(font_name)\n",
    "plt.rc('font', family=font_name)\n",
    "```"
   ]
  },
  {
   "cell_type": "code",
   "execution_count": null,
   "metadata": {},
   "outputs": [],
   "source": []
  },
  {
   "cell_type": "code",
   "execution_count": null,
   "metadata": {},
   "outputs": [],
   "source": []
  }
 ],
 "metadata": {
  "kernelspec": {
   "display_name": "Python 3",
   "language": "python",
   "name": "python3"
  },
  "language_info": {
   "codemirror_mode": {
    "name": "ipython",
    "version": 3
   },
   "file_extension": ".py",
   "mimetype": "text/x-python",
   "name": "python",
   "nbconvert_exporter": "python",
   "pygments_lexer": "ipython3",
   "version": "3.7.4"
  }
 },
 "nbformat": 4,
 "nbformat_minor": 2
}
