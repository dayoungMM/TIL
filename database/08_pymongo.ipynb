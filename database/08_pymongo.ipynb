{
 "cells": [
  {
   "cell_type": "code",
   "execution_count": 4,
   "metadata": {},
   "outputs": [
    {
     "name": "stdout",
     "output_type": "stream",
     "text": [
      "99.0\n",
      "0.0\n",
      "1.0\n",
      "2.0\n",
      "3.0\n",
      "4.0\n",
      "5.0\n",
      "5.0\n"
     ]
    }
   ],
   "source": [
    "from pymongo import MongoClient\n",
    "client = MongoClient(host='localhost', port=27017)\n",
    "db = client['test']\n",
    "cursor = db.score.find()\n",
    "for data in list(cursor):\n",
    "    print(data['a'])"
   ]
  },
  {
   "cell_type": "code",
   "execution_count": 6,
   "metadata": {},
   "outputs": [
    {
     "name": "stderr",
     "output_type": "stream",
     "text": [
      "C:\\ProgramData\\Anaconda3\\lib\\site-packages\\ipykernel_launcher.py:1: DeprecationWarning: save is deprecated. Use insert_one or replace_one instead\n",
      "  \"\"\"Entry point for launching an IPython kernel.\n"
     ]
    },
    {
     "data": {
      "text/plain": [
       "ObjectId('5e2ff20eae8b72b003d0b13b')"
      ]
     },
     "execution_count": 6,
     "metadata": {},
     "output_type": "execute_result"
    }
   ],
   "source": [
    "db.score.save({'a':6, 'exam': 6})"
   ]
  },
  {
   "cell_type": "code",
   "execution_count": 8,
   "metadata": {},
   "outputs": [
    {
     "name": "stdout",
     "output_type": "stream",
     "text": [
      "99.0\n",
      "0.0\n",
      "1.0\n",
      "2.0\n",
      "3.0\n",
      "4.0\n",
      "5.0\n",
      "5.0\n",
      "6\n"
     ]
    }
   ],
   "source": [
    "#내려간 커서를 다시 위로 끌어올림\n",
    "cursor.rewind()\n",
    "for data in list(cursor):\n",
    "    print(data['a'])"
   ]
  },
  {
   "cell_type": "code",
   "execution_count": 9,
   "metadata": {},
   "outputs": [
    {
     "name": "stdout",
     "output_type": "stream",
     "text": [
      "{'_id': ObjectId('5e2fdcd609d7368d39e3b799'), 'a': 99.0}\n",
      "{'_id': ObjectId('5e2fdd0109d7368d39e3b79a'), 'a': 0.0}\n",
      "{'_id': ObjectId('5e2fdd0109d7368d39e3b79b'), 'a': 1.0}\n",
      "{'_id': ObjectId('5e2fdd0109d7368d39e3b79c'), 'a': 2.0}\n",
      "{'_id': ObjectId('5e2fdd0109d7368d39e3b79d'), 'a': 3.0}\n",
      "{'_id': ObjectId('5e2fdd0109d7368d39e3b79e'), 'a': 4.0}\n",
      "{'_id': ObjectId('5e2fde8f09d7368d39e3b79f'), 'a': 5.0, 'exam': 10}\n",
      "{'_id': ObjectId('5e2fdeb609d7368d39e3b7a0'), 'a': 5.0, 'exam': 5.0}\n",
      "{'_id': ObjectId('5e2ff20eae8b72b003d0b13b'), 'a': 6, 'exam': 6}\n"
     ]
    },
    {
     "name": "stderr",
     "output_type": "stream",
     "text": [
      "C:\\ProgramData\\Anaconda3\\lib\\site-packages\\ipykernel_launcher.py:2: DeprecationWarning: update is deprecated. Use replace_one, update_one or update_many instead.\n",
      "  \n"
     ]
    }
   ],
   "source": [
    "# 데이터 수정\n",
    "db.score.update( { 'a' : 5 }, { '$set' : { 'exam' : 10 } } )\n",
    "\n",
    "cursor.rewind()\n",
    "for data in list(cursor):\n",
    "    print(data)"
   ]
  },
  {
   "cell_type": "code",
   "execution_count": 10,
   "metadata": {},
   "outputs": [
    {
     "name": "stdout",
     "output_type": "stream",
     "text": [
      "{'_id': ObjectId('5e2fdcd609d7368d39e3b799'), 'a': 99.0}\n",
      "{'_id': ObjectId('5e2fdd0109d7368d39e3b79a'), 'a': 0.0}\n",
      "{'_id': ObjectId('5e2fdd0109d7368d39e3b79b'), 'a': 1.0}\n",
      "{'_id': ObjectId('5e2fdd0109d7368d39e3b79c'), 'a': 2.0}\n",
      "{'_id': ObjectId('5e2fdd0109d7368d39e3b79d'), 'a': 3.0}\n",
      "{'_id': ObjectId('5e2fdd0109d7368d39e3b79e'), 'a': 4.0}\n",
      "{'_id': ObjectId('5e2fdeb609d7368d39e3b7a0'), 'a': 5.0, 'exam': 5.0}\n",
      "{'_id': ObjectId('5e2ff20eae8b72b003d0b13b'), 'a': 6, 'exam': 6}\n"
     ]
    }
   ],
   "source": [
    "# 데이터 1개 삭제\n",
    "db.score.delete_one( { 'a' : 5 } )\n",
    "\n",
    "cursor.rewind()\n",
    "for data in list(cursor):\n",
    " print(data)\n"
   ]
  },
  {
   "cell_type": "markdown",
   "metadata": {},
   "source": [
    "### 연습문제\n",
    "- 인터파크 투어에서 조회한 결과를 MongoDB로 저장하기\n",
    " 컬렉션 : tour\n",
    "- 필드 : 이미지경로-img, 상세페이지경로-link, 상품명-title,\n",
    " 상품설명-desc, 가격-price"
   ]
  },
  {
   "cell_type": "code",
   "execution_count": 29,
   "metadata": {},
   "outputs": [],
   "source": [
    "from selenium import webdriver as wd\n",
    "driver = wd.Chrome(executable_path='C:/Code/chromedriver.exe')\n",
    "from selenium.webdriver.common.by import By\n",
    "from selenium.webdriver.support.ui import WebDriverWait\n",
    "from selenium.webdriver.support import expected_conditions as EC\n",
    "import time\n",
    "\n",
    "from pymongo import MongoClient\n",
    "client = MongoClient(host='localhost', port=27017)\n",
    "db = client['test']\n",
    "\n",
    "\n",
    "driver.get('http://tour.interpark.com')\n",
    "driver.implicitly_wait(10)\n",
    "driver.find_element_by_id('SearchGNBText').send_keys('달랏')\n",
    "driver.find_element_by_css_selector('button.search-btn').click()\n",
    "WebDriverWait(driver, 10).until(\n",
    " EC.presence_of_element_located((By.CLASS_NAME, 'oTravelBox'))\n",
    ")\n",
    "driver.find_element_by_css_selector('.oTravelBox .moreBtn').click()"
   ]
  },
  {
   "cell_type": "code",
   "execution_count": 30,
   "metadata": {},
   "outputs": [
    {
     "name": "stderr",
     "output_type": "stream",
     "text": [
      "C:\\ProgramData\\Anaconda3\\lib\\site-packages\\ipykernel_launcher.py:12: DeprecationWarning: save is deprecated. Use insert_one or replace_one instead\n",
      "  if sys.path[0] == '':\n"
     ]
    }
   ],
   "source": [
    "\n",
    "for page in range(1, 2):\n",
    "    driver.execute_script(\"searchModule.SetCategoryList(%s, '')\" % page)\n",
    "    time.sleep(2)\n",
    "    boxItems = driver.find_elements_by_css_selector('.panelZone > .oTravelBox > .boxList > li')\n",
    "    for li in boxItems:\n",
    "        tour_dict = {}\n",
    "        tour_dict['이미지']= li.find_element_by_css_selector('img.img').get_attribute('src')\n",
    "        tour_dict['링크'] = li.find_element_by_css_selector('a').get_attribute('onclick')\n",
    "        tour_dict['상품명'] = li.find_element_by_css_selector('h5.proTit').text\n",
    "        tour_dict['추가설명'] = li.find_element_by_css_selector('.proSub').text\n",
    "        tour_dict['가격'] = li.find_element_by_css_selector('strong.proPrice').text\n",
    "        db.tour.save(tour_dict)\n",
    "# for info in li.find_elements_by_css_selector('.info-row .proInfo'):\n",
    "#     print(info.text)\n",
    "#     print('=' * 20)\n"
   ]
  },
  {
   "cell_type": "code",
   "execution_count": 32,
   "metadata": {},
   "outputs": [],
   "source": [
    "driver.close()"
   ]
  },
  {
   "cell_type": "code",
   "execution_count": 31,
   "metadata": {},
   "outputs": [
    {
     "name": "stdout",
     "output_type": "stream",
     "text": [
      "{'_id': ObjectId('5e2ff5a7ae8b72b003d0b13d'), '이미지': 'http://img.modetour.com/eagle/photoimg/56584/bfile/636453195339574051.JPG', '링크': \"searchModule.OnClickDetail('http://tour.interpark.com/goods/detail/?BaseGoodsCd=Q1011029','')\", '상품명': '●연중 봄의 도시, 달랏● [5성호텔] 달랏 3색 골프(54홀) + 관광 3박 5일', '추가설명': '', '가격': '1,480,000 원~'}\n",
      "{'_id': ObjectId('5e2ff5f9ae8b72b003d0b13f'), '이미지': 'http://tourimage.interpark.com/product/tour/00161/A10/280/A1031420_1_027.jpg', '링크': \"searchModule.OnClickDetail('http://tour.interpark.com/goods/detail/?BaseGoodsCd=A1031420','')\", '상품명': '[달랏4일] 낭만도시 달랏 직항+랑비앙 포함 3박4일', '추가설명': '★직항 취항 기념 초특가★', '가격': '365,000 원~'}\n",
      "{'_id': ObjectId('5e2ff5faae8b72b003d0b140'), '이미지': 'http://tourimage.interpark.com/product/tour/00161/A10/280/A1024924_1_620.jpg', '링크': \"searchModule.OnClickDetail('http://tour.interpark.com/goods/detail/?BaseGoodsCd=A1024924','')\", '상품명': '[나트랑/달랏5일] 시원한 낭만도시 랑비앙관광 5일', '추가설명': '★떠오르는 베트남 인생여행지★', '가격': '434,700 원~'}\n",
      "{'_id': ObjectId('5e2ff5faae8b72b003d0b141'), '이미지': 'http://tourimage.interpark.com/product/tour/00161/A10/280/A1025044_3_337.jpg', '링크': \"searchModule.OnClickDetail('http://tour.interpark.com/goods/detail/?BaseGoodsCd=A1025044','')\", '상품명': '[대구출발_나트랑5일] 지금 핫한 그곳! 아름다운 나트랑/달랏 관광', '추가설명': '머드온천&나트랑 시내관광 포함-동양의 나폴리 나트랑&달랏여행♥', '가격': '499,000 원~'}\n",
      "{'_id': ObjectId('5e2ff5faae8b72b003d0b142'), '이미지': 'http://tourimage.interpark.com/product/tour/00161/A10/280/A1031349_1_470.jpg', '링크': \"searchModule.OnClickDetail('http://tour.interpark.com/goods/detail/?BaseGoodsCd=A1031349','')\", '상품명': '[나트랑 5일★연합] 나트랑 1박/ 달랏 2박 꽉찬 관광일정', '추가설명': '신규취항★뱀부항공/기내식제공/수하물20KG', '가격': '349,000 원~'}\n",
      "{'_id': ObjectId('5e2ff5faae8b72b003d0b143'), '이미지': 'http://img.modetour.com/eagle/photoimg/42164/bfile/636724338253061415.JPG', '링크': \"searchModule.OnClickDetail('http://tour.interpark.com/goods/detail/?BaseGoodsCd=A1023759','')\", '상품명': '*출발확정*[관광형] 나트랑x달랏 3박5일 [4성(1박)+달랏(2박)]', '추가설명': '최대 7만원 쿠폰할인 (출발일 2020.01.01~2020.03.31)', '가격': '405,000 원~'}\n",
      "{'_id': ObjectId('5e2ff5faae8b72b003d0b144'), '이미지': 'http://tourimage.interpark.com/product/tour/00161/A10/280/A1025396_7_460.jpg', '링크': \"searchModule.OnClickDetail('http://tour.interpark.com/goods/detail/?BaseGoodsCd=A1025396','')\", '상품명': '[부산출발_나트랑5일] 떠오르는 여행지 나트랑 + 봄의 도시 달랏을 동시에!! 실속 관광형', '추가설명': '전 일전 준특급호텔 + 아름다운 나트랑 달랏 관광♡', '가격': '499,000 원~'}\n",
      "{'_id': ObjectId('5e2ff5fbae8b72b003d0b145'), '이미지': 'http://img.modetour.com/eagle/photoimg/59122/bfile/636724338211701392.JPG', '링크': \"searchModule.OnClickDetail('http://tour.interpark.com/goods/detail/?BaseGoodsCd=A1031529','')\", '상품명': '[영원한봄의도시] 달랏 패키지 3박4일 [5성호텔]', '추가설명': '', '가격': '471,000 원~'}\n",
      "{'_id': ObjectId('5e2ff5fbae8b72b003d0b146'), '이미지': 'http://img.modetour.com/eagle/photoimg/42164/bfile/636724338249268660.JPG', '링크': \"searchModule.OnClickDetail('http://tour.interpark.com/goods/detail/?BaseGoodsCd=A1025809','')\", '상품명': '*출발확정*[증편기][관광형] 나트랑x달랏 3박5일 [4성(1박)+달랏(2박)]', '추가설명': '', '가격': '352,000 원~'}\n",
      "{'_id': ObjectId('5e2ff5fbae8b72b003d0b147'), '이미지': 'http://img.modetour.com/eagle/photoimg/42171/bfile/636724338177366577.JPG', '링크': \"searchModule.OnClickDetail('http://tour.interpark.com/goods/detail/?BaseGoodsCd=A1025810','')\", '상품명': '[증편기][관광형] 나트랑x달랏 3박5일 [5성(1박)+달랏(2박)]', '추가설명': '', '가격': '405,000 원~'}\n",
      "{'_id': ObjectId('5e2ff5fbae8b72b003d0b148'), '이미지': 'http://img.modetour.com/eagle/photoimg/56584/bfile/636453195339574051.JPG', '링크': \"searchModule.OnClickDetail('http://tour.interpark.com/goods/detail/?BaseGoodsCd=Q1011029','')\", '상품명': '●연중 봄의 도시, 달랏● [5성호텔] 달랏 3색 골프(54홀) + 관광 3박 5일', '추가설명': '', '가격': '1,480,000 원~'}\n"
     ]
    }
   ],
   "source": [
    "cursor = db.tour.find()\n",
    "for data in list(cursor):\n",
    "    print(data)"
   ]
  },
  {
   "cell_type": "code",
   "execution_count": null,
   "metadata": {},
   "outputs": [],
   "source": []
  }
 ],
 "metadata": {
  "kernelspec": {
   "display_name": "Python 3",
   "language": "python",
   "name": "python3"
  },
  "language_info": {
   "codemirror_mode": {
    "name": "ipython",
    "version": 3
   },
   "file_extension": ".py",
   "mimetype": "text/x-python",
   "name": "python",
   "nbconvert_exporter": "python",
   "pygments_lexer": "ipython3",
   "version": "3.7.4"
  }
 },
 "nbformat": 4,
 "nbformat_minor": 2
}
