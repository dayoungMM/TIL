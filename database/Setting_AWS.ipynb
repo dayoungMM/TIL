{
 "cells": [
  {
   "cell_type": "markdown",
   "metadata": {},
   "source": [
    "##### AWS 가입, EC2 를 완료했다는 가정하에 정리\n",
    "\n",
    "\n",
    "### 1. pem파일로 인증하여 AWS서버에 접속하기\n",
    "\n",
    "##### 프롬프트에 다음을 입력하기\n",
    "\n",
    "```\n",
    "cd ~/.ssh\n",
    "ls\n",
    "chmod 400 ~/.ssh/dss.pem\n",
    "ssh -i ~/ssh/dss.pem ubuntu@   # 서버접속\n",
    "\n",
    "```\n",
    "\n"
   ]
  },
  {
   "cell_type": "markdown",
   "metadata": {},
   "source": [
    "### 2. FTP서비스 이용하기 (cyberduck 사용)\n",
    "\n",
    "##### 서버접속설정\n",
    "- SFTP\n",
    "- 서버: public ip 설정\n",
    "- 사용자 이름: \n",
    "- SSH Private Key: 내 pem파일 선택"
   ]
  },
  {
   "cell_type": "markdown",
   "metadata": {},
   "source": [
    "### 3. pyenv 설정\n",
    "- pyenv.sh파일 다운로드\n",
    "- cyberduck이용하여 서버로 파일 이동\n",
    "```\n",
    "source pyenv.sh\n",
    "```\n"
   ]
  },
  {
   "cell_type": "markdown",
   "metadata": {},
   "source": [
    "### 4. jupyternotebook 설치 및 설정\n",
    "```\n",
    "pip install ipython jupyter\n",
    "jupyter notebook --generate-config\n",
    "ipython\n",
    "from notebook.auth import passwd\n",
    "passwd()\n",
    "#password입력\n",
    "#verify  password\n",
    "\n",
    "sudo vi /home/ubuntu/.jupyter/jupyter_notebook_config.py\n",
    "```\n",
    "\n",
    "#### vi로 설정파일 수정\n",
    "c.NotebookApp.ip = #내부 IP주소\n",
    "- open_browser= False\n",
    "- password = #비번\n",
    "\n",
    "#### 프롬프트\n",
    "-jupyter notebook\n",
    "\n",
    "#### 브라우저\n",
    "-public ip주소 : #포트번호\n",
    "    \n",
    "\n"
   ]
  },
  {
   "cell_type": "markdown",
   "metadata": {},
   "source": [
    "### 5. mysql 설치 및 설정\n",
    "```\n",
    "sudo apt install mysql-server\n",
    "sudo mysql_secure_installation\n",
    "\n",
    "nynyy\n",
    "\n",
    "```\n",
    "\n",
    "- 최초 패스워드 설정하기\n",
    "\n",
    "- 접속\n",
    "```\n",
    "mysql -u root -p\n",
    "```\n",
    "\n",
    "- 외부접속 허용\n",
    "```\n",
    "sudo vi /etc/mysql/mysql.conf.d/mysql.cnf\n",
    "bind-address= #입력\n",
    "grant all privileges on ~\n",
    "```\n",
    "\n",
    "- 재시작으로 설정 적용\n",
    "```\n",
    "sudo systemctl restart mysql.service\n",
    "\n"
   ]
  },
  {
   "cell_type": "markdown",
   "metadata": {},
   "source": [
    "### Sample data 다운로드\n",
    "- https://dev.mysql.com/doc/index-other.html\n",
    "- world database zip 파일 다운로드\n",
    "\n",
    "#### 저장하기\n",
    "```\n",
    "sql> create database world;\n",
    "sql> use world;\n",
    "sql> source world.sql\n",
    "```"
   ]
  },
  {
   "cell_type": "code",
   "execution_count": null,
   "metadata": {},
   "outputs": [],
   "source": []
  }
 ],
 "metadata": {
  "kernelspec": {
   "display_name": "Python 3",
   "language": "python",
   "name": "python3"
  },
  "language_info": {
   "codemirror_mode": {
    "name": "ipython",
    "version": 3
   },
   "file_extension": ".py",
   "mimetype": "text/x-python",
   "name": "python",
   "nbconvert_exporter": "python",
   "pygments_lexer": "ipython3",
   "version": "3.7.3"
  }
 },
 "nbformat": 4,
 "nbformat_minor": 2
}
