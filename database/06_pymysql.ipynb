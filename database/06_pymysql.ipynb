{
 "cells": [
  {
   "cell_type": "code",
   "execution_count": 1,
   "metadata": {},
   "outputs": [],
   "source": [
    "PW= ''"
   ]
  },
  {
   "cell_type": "code",
   "execution_count": 16,
   "metadata": {},
   "outputs": [
    {
     "name": "stdout",
     "output_type": "stream",
     "text": [
      "(1049, \"Unknown database 'python1'\")\n"
     ]
    },
    {
     "ename": "AttributeError",
     "evalue": "'NoneType' object has no attribute 'close'",
     "output_type": "error",
     "traceback": [
      "\u001b[1;31m---------------------------------------------------------------------------\u001b[0m",
      "\u001b[1;31mAttributeError\u001b[0m                            Traceback (most recent call last)",
      "\u001b[1;32m<ipython-input-16-d1c4fa815a1a>\u001b[0m in \u001b[0;36m<module>\u001b[1;34m\u001b[0m\n\u001b[0;32m     25\u001b[0m     \u001b[0mprint\u001b[0m\u001b[1;33m(\u001b[0m\u001b[0me\u001b[0m\u001b[1;33m)\u001b[0m\u001b[1;33m\u001b[0m\u001b[1;33m\u001b[0m\u001b[0m\n\u001b[0;32m     26\u001b[0m \u001b[1;32mfinally\u001b[0m\u001b[1;33m:\u001b[0m\u001b[1;33m\u001b[0m\u001b[1;33m\u001b[0m\u001b[0m\n\u001b[1;32m---> 27\u001b[1;33m     \u001b[0mconn\u001b[0m\u001b[1;33m.\u001b[0m\u001b[0mclose\u001b[0m\u001b[1;33m(\u001b[0m\u001b[1;33m)\u001b[0m\u001b[1;33m\u001b[0m\u001b[1;33m\u001b[0m\u001b[0m\n\u001b[0m",
      "\u001b[1;31mAttributeError\u001b[0m: 'NoneType' object has no attribute 'close'"
     ]
    }
   ],
   "source": [
    "import pymysql\n",
    "\n",
    "conn = None\n",
    "try:\n",
    "    conn = pymysql.connect(\n",
    "        host = 'localhost',\n",
    "        user = 'root',\n",
    "        password=PW,\n",
    "        db='python',\n",
    "        charset='utf8'\n",
    "    ) #데이터 베이스 접속\n",
    "\n",
    "    with conn.cursor() as cursor: #Cursor 객체 생성\n",
    "\n",
    "        sql = ''' CREATE TABLE mysql2(\n",
    "                    ID INTEGER PRIMARY KEY AUTO_INCREMENT,\n",
    "                    TITLE VARCHAR(100), CONTENT VARCHAR(100))'''\n",
    "\n",
    "        # '''는 문자열을 의미한다\n",
    "        cursor.execute(sql) #SQL실행\n",
    "        conn.commit()  #저장\n",
    "\n",
    "\n",
    "except pymysql.InternalError as e:\n",
    "    print(e)\n",
    "finally:\n",
    "    if conn:\n",
    "        conn.close() "
   ]
  },
  {
   "cell_type": "code",
   "execution_count": null,
   "metadata": {},
   "outputs": [],
   "source": [
    "#예외처리 없는 버전\n",
    "import pymysql\n",
    "\n",
    "\n",
    "conn = pymysql.connect(\n",
    "    host = 'localhost',\n",
    "    user = 'root',\n",
    "    password=PW,\n",
    "    db='python',\n",
    "    charset='utf8'\n",
    ") #데이터 베이스 접속\n",
    "\n",
    "cursor = conn.cursor() #Cursor 객체 생성\n",
    "\n",
    "sql = ''' CREATE TABLE mysql2(\n",
    "            ID INTEGER PRIMARY KEY AUTO_INCREMENT,\n",
    "            TITLE VARCHAR(100), CONTENT VARCHAR(100))'''\n",
    "\n",
    "# '''는 문자열을 의미한다\n",
    "cursor.execute(sql) #SQL실행\n",
    "conn.commit()  #저장\n",
    "cursor.close() \n",
    "conn.close()"
   ]
  },
  {
   "cell_type": "code",
   "execution_count": 24,
   "metadata": {},
   "outputs": [],
   "source": [
    "# placeholder 이용\n",
    "# %s밖에 실행이 되지 않는다\n",
    "\n",
    "#예외처리 없는 버전\n",
    "import pymysql\n",
    "\n",
    "\n",
    "conn = pymysql.connect(\n",
    "    host = 'localhost',\n",
    "    user = 'root',\n",
    "    password=PW,\n",
    "    db='python',\n",
    "    charset='utf8'\n",
    ") #데이터 베이스 접속\n",
    "\n",
    "cursor = conn.cursor() #Cursor 객체 생성\n",
    "\n",
    "sql = ''' INSERT INTO mysql(ID ,TITLE ,CONTENT)\n",
    "            VALUES (NULL, %s, %s)'''\n",
    "\n",
    "# '''는 문자열을 의미한다\n",
    "cursor.execute(sql, ('제목A', '내용Z')) #SQL실행\n",
    "conn.commit()  #저장\n",
    "cursor.close() \n",
    "conn.close()"
   ]
  },
  {
   "cell_type": "markdown",
   "metadata": {},
   "source": [
    "### 데이터 수정\n"
   ]
  },
  {
   "cell_type": "code",
   "execution_count": 20,
   "metadata": {},
   "outputs": [],
   "source": [
    "# placeholder 이용\n",
    "# %s밖에 실행이 되지 않는다\n",
    "\n",
    "#예외처리 없는 버전\n",
    "import pymysql\n",
    "\n",
    "\n",
    "conn = pymysql.connect(\n",
    "    host = 'localhost',\n",
    "    user = 'root',\n",
    "    password=PW,\n",
    "    db='python',\n",
    "    charset='utf8'\n",
    ") #데이터 베이스 접속\n",
    "\n",
    "cursor = conn.cursor() #Cursor 객체 생성\n",
    "\n",
    "sql = ''' UPDATE mysql SET TITLE = %s\n",
    "            WHERE ID =%s'''\n",
    "\n",
    "# '''는 문자열을 의미한다\n",
    "cursor.execute(sql, ('제목수정됨',1)) #id가 1이면 TITLE이 제목수정됨으로 수정\n",
    "conn.commit()  #저장\n",
    "cursor.close() \n",
    "conn.close()"
   ]
  },
  {
   "cell_type": "markdown",
   "metadata": {},
   "source": [
    "### 게시글 지우기"
   ]
  },
  {
   "cell_type": "code",
   "execution_count": 21,
   "metadata": {},
   "outputs": [],
   "source": [
    "# placeholder 이용\n",
    "# %s밖에 실행이 되지 않는다\n",
    "\n",
    "#예외처리 없는 버전\n",
    "import pymysql\n",
    "\n",
    "\n",
    "conn = pymysql.connect(\n",
    "    host = 'localhost',\n",
    "    user = 'root',\n",
    "    password=PW,\n",
    "    db='python',\n",
    "    charset='utf8'\n",
    ") #데이터 베이스 접속\n",
    "\n",
    "cursor = conn.cursor() #Cursor 객체 생성\n",
    "\n",
    "sql = ''' DELETE FROM mysql\n",
    "            WHERE ID =%s'''\n",
    "\n",
    "# '''는 문자열을 의미한다\n",
    "cursor.execute(sql, (2)) #id가 1이면 TITLE이 제목수정됨으로 수정\n",
    "conn.commit()  #저장\n",
    "cursor.close() \n",
    "conn.close()"
   ]
  },
  {
   "cell_type": "markdown",
   "metadata": {},
   "source": [
    "### 데이터 조회\n",
    "- fetchone() :데이터 1개 조회\n",
    "- fetchall() : 데이터 모두 조회\n",
    "- fetchmany(): 데이터 여러개 조회"
   ]
  },
  {
   "cell_type": "code",
   "execution_count": 25,
   "metadata": {},
   "outputs": [
    {
     "name": "stdout",
     "output_type": "stream",
     "text": [
      "((1, '제목수정됨', '내용Z'), (3, '제목A', '내용Z'))\n",
      "==========\n",
      "제목수정됨\n"
     ]
    }
   ],
   "source": [
    "\n",
    "import pymysql\n",
    "\n",
    "\n",
    "conn = pymysql.connect(\n",
    "    host = 'localhost',\n",
    "    user = 'root',\n",
    "    password=PW,\n",
    "    db='python',\n",
    "    charset='utf8'\n",
    ") #데이터 베이스 접속\n",
    "\n",
    "cursor = conn.cursor() #Cursor 객체 생성\n",
    "\n",
    "sql = ''' SELECT * FROM mysql'''\n",
    "\n",
    "# '''는 문자열을 의미한다\n",
    "cursor.execute(sql) \n",
    "result = cursor.fetchall()\n",
    "print(result)\n",
    "print('='*10)\n",
    "print(result[0][1])\n",
    "conn.commit()  #저장\n",
    "cursor.close() \n",
    "conn.close()"
   ]
  },
  {
   "cell_type": "code",
   "execution_count": 26,
   "metadata": {},
   "outputs": [
    {
     "name": "stdout",
     "output_type": "stream",
     "text": [
      "(('제목수정됨', '내용Z'), ('제목A', '내용Z'))\n",
      "==========\n",
      "내용Z\n"
     ]
    }
   ],
   "source": [
    "\n",
    "import pymysql\n",
    "\n",
    "\n",
    "conn = pymysql.connect(\n",
    "    host = 'localhost',\n",
    "    user = 'root',\n",
    "    password=PW,\n",
    "    db='python',\n",
    "    charset='utf8'\n",
    ") #데이터 베이스 접속\n",
    "\n",
    "cursor = conn.cursor() #Cursor 객체 생성\n",
    "\n",
    "sql = ''' SELECT TITLE,CONTENT FROM mysql'''\n",
    "\n",
    "# '''는 문자열을 의미한다\n",
    "cursor.execute(sql) \n",
    "result = cursor.fetchall()\n",
    "print(result)\n",
    "print('='*10)\n",
    "print(result[0][1])\n",
    "conn.commit()  #저장\n",
    "cursor.close() \n",
    "conn.close()"
   ]
  },
  {
   "cell_type": "code",
   "execution_count": 34,
   "metadata": {},
   "outputs": [
    {
     "name": "stdout",
     "output_type": "stream",
     "text": [
      "(('제목수정됨', '내용Z'), ('제목A', '내용Z'))\n",
      "None\n"
     ]
    }
   ],
   "source": [
    "#예외처리 없는 버전\n",
    "import pymysql\n",
    "\n",
    "conn = pymysql.connect(\n",
    "    host = 'localhost',\n",
    "    user = 'root',\n",
    "    password=PW,\n",
    "    db='python',\n",
    "    charset='utf8'\n",
    ") #데이터 베이스 접속\n",
    "\n",
    "cursor = conn.cursor() #Cursor 객체 생성\n",
    "\n",
    "sql = ''' SELECT TITLE,CONTENT FROM mysql'''\n",
    "\n",
    "# '''는 문자열을 의미한다\n",
    "cursor.execute(sql) \n",
    "result = cursor.fetchmany(2)\n",
    "result1 = cursor.fetchone()\n",
    "print(result)\n",
    "print(result1)\n",
    "\n",
    "conn.commit()  #저장\n",
    "cursor.close() \n",
    "conn.close()"
   ]
  },
  {
   "cell_type": "markdown",
   "metadata": {},
   "source": [
    "### 연습문제"
   ]
  },
  {
   "cell_type": "code",
   "execution_count": 36,
   "metadata": {},
   "outputs": [],
   "source": [
    "#1. MEMBER 테이블 만들기\n",
    "import pymysql\n",
    "\n",
    "conn = pymysql.connect(\n",
    "    host = 'localhost',\n",
    "    user = 'root',\n",
    "    password=PW,\n",
    "    db='python',\n",
    "    charset='utf8'\n",
    ") #데이터 베이스 접속\n",
    "\n",
    "cursor = conn.cursor() #Cursor 객체 생성\n",
    "\n",
    "\n",
    "sql = ''' CREATE TABLE member(\n",
    "        ID INTEGER PRIMARY KEY AUTO_INCREMENT,\n",
    "        NAME VARCHAR(30),\n",
    "        EMAIL VARCHAR(30),\n",
    "        C_DATE DATETIME\n",
    "        )'''\n",
    "\n",
    "# '''는 문자열을 의미한다\n",
    "cursor.execute(sql) \n",
    "\n",
    "conn.commit()  #저장\n",
    "cursor.close() \n",
    "conn.close()"
   ]
  },
  {
   "cell_type": "code",
   "execution_count": 37,
   "metadata": {},
   "outputs": [],
   "source": [
    "# 2. ARTICLE 테이블 만들기\n",
    "import pymysql\n",
    "\n",
    "conn = pymysql.connect(\n",
    "    host = 'localhost',\n",
    "    user = 'root',\n",
    "    password=PW,\n",
    "    db='python',\n",
    "    charset='utf8'\n",
    ") #데이터 베이스 접속\n",
    "\n",
    "cursor = conn.cursor() #Cursor 객체 생성\n",
    "\n",
    "\n",
    "sql = ''' CREATE TABLE article(\n",
    "        ID INTEGER PRIMARY KEY AUTO_INCREMENT,\n",
    "        TITLE VARCHAR(30),\n",
    "        CONTENT VARCHAR(30),\n",
    "        WRITER VARCHAR(30),\n",
    "        HIT INTEGER,\n",
    "        C_DATE DATETIME\n",
    "        )'''\n",
    "\n",
    "# '''는 문자열을 의미한다\n",
    "cursor.execute(sql) \n",
    "\n",
    "conn.commit()  #저장\n",
    "cursor.close() \n",
    "conn.close()\n"
   ]
  },
  {
   "cell_type": "markdown",
   "metadata": {},
   "source": [
    "### print 형식 정하기"
   ]
  },
  {
   "cell_type": "code",
   "execution_count": 12,
   "metadata": {},
   "outputs": [
    {
     "name": "stdout",
     "output_type": "stream",
     "text": [
      "(2016, '강원', 206)\n",
      "(2016, '경기', 749)\n",
      "(2016, '경남', 359)\n"
     ]
    }
   ],
   "source": [
    "# fetchmany, cursor()\n",
    "import pymysql\n",
    "\n",
    "conn = pymysql.connect(\n",
    "    host = 'localhost',\n",
    "    user = 'root',\n",
    "    password=PW,\n",
    "    db='mydb',\n",
    "    charset='utf8'\n",
    ") #데이터 베이스 접속\n",
    "\n",
    "cursor = conn.cursor() #Cursor 객체 생성\n",
    "\n",
    "sql = '''SELECT year, area1, COUNT(*)\n",
    "            FROM accident\n",
    "            GROUP BY AREA1, YEAR'''\n",
    "\n",
    "\n",
    "cursor.execute(sql) \n",
    "result = cursor.fetchmany(3)\n",
    "for row in result:\n",
    "    print(row)\n",
    "conn.commit()  #저장\n",
    "cursor.close() \n",
    "conn.close()\n"
   ]
  },
  {
   "cell_type": "code",
   "execution_count": 17,
   "metadata": {},
   "outputs": [
    {
     "name": "stdout",
     "output_type": "stream",
     "text": [
      "강원 2016 206\n",
      "경기 2016 749\n",
      "경남 2016 359\n"
     ]
    }
   ],
   "source": [
    "# fetchmany, DictCursor\n",
    "import pymysql\n",
    "\n",
    "conn = pymysql.connect(\n",
    "    host = 'localhost',\n",
    "    user = 'root',\n",
    "    password=PW,\n",
    "    db='mydb',\n",
    "    charset='utf8'\n",
    ") #데이터 베이스 접속\n",
    "\n",
    "cursor = conn.cursor(pymysql.cursors.DictCursor) #Cursor 객체 생성\n",
    "\n",
    "sql = '''SELECT year, area1, COUNT(*) as 'cnt'\n",
    "            FROM accident\n",
    "            GROUP BY AREA1, YEAR'''\n",
    "\n",
    "\n",
    "cursor.execute(sql) \n",
    "result = cursor.fetchmany(3)\n",
    "for row in result:\n",
    "    print(row['area1'],row['year'], row['cnt'])\n",
    "conn.commit()  #저장\n",
    "cursor.close() \n",
    "conn.close()\n"
   ]
  },
  {
   "cell_type": "markdown",
   "metadata": {},
   "source": [
    "### 연습문제"
   ]
  },
  {
   "cell_type": "code",
   "execution_count": 90,
   "metadata": {},
   "outputs": [],
   "source": [
    "\n",
    "import pymysql\n",
    "\n",
    "conn = pymysql.connect(\n",
    "    host = 'localhost',\n",
    "    user = 'root',\n",
    "    password=PW,\n",
    "    db='python',\n",
    "    charset='utf8'\n",
    ") #데이터 베이스 접속\n",
    "\n",
    "with conn.cursor() as cursor: #Cursor 객체 생성\n",
    "\n",
    "    sql = '''CREATE TABLE member(\n",
    "            ID INTEGER PRIMARY KEY AUTO_INCREMENT,\n",
    "            NAME VARCHAR(30),\n",
    "            EMAIL VARCHAR(80),\n",
    "            C_DATE DATETIME )\n",
    "    '''\n",
    "\n",
    "\n",
    "    cursor.execute(sql) \n",
    "\n",
    "    conn.commit()  #저장\n",
    "# cursor.close() \n",
    "conn.close()"
   ]
  },
  {
   "cell_type": "code",
   "execution_count": 48,
   "metadata": {},
   "outputs": [],
   "source": [
    "\n",
    "import pymysql\n",
    "\n",
    "conn = pymysql.connect(\n",
    "    host = 'localhost',\n",
    "    user = 'root',\n",
    "    password=PW,\n",
    "    db='python',\n",
    "    charset='utf8'\n",
    ") #데이터 베이스 접속\n",
    "\n",
    "with conn.cursor() as cursor: #Cursor 객체 생성\n",
    "\n",
    "    sql = '''INSERT INTO memeber VALUES(null, %s, %s, now())\n",
    "    '''\n",
    "\n",
    "\n",
    "    cursor.execute(sql,('a','a@a.com')) \n",
    "\n",
    "    conn.commit()  #저장\n",
    "# cursor.close() \n",
    "conn.close()"
   ]
  },
  {
   "cell_type": "code",
   "execution_count": 21,
   "metadata": {},
   "outputs": [],
   "source": [
    "\n",
    "import pymysql\n",
    "\n",
    "conn = pymysql.connect(\n",
    "    host = 'localhost',\n",
    "    user = 'root',\n",
    "    password=PW,\n",
    "    db='python',\n",
    "    charset='utf8'\n",
    ") #데이터 베이스 접속\n",
    "\n",
    "with conn.cursor() as cursor: #Cursor 객체 생성\n",
    "\n",
    "    sql = '''UPDATE memeber SET\n",
    "    NAME = %s, EMAIL = %s\n",
    "    WHERE ID = %s\n",
    "    '''\n",
    "\n",
    "\n",
    "    cursor.execute(sql,('aa','a@aa.com',1)) \n",
    "\n",
    "    conn.commit()  #저장\n",
    "# cursor.close() \n",
    "conn.close()"
   ]
  },
  {
   "cell_type": "code",
   "execution_count": 27,
   "metadata": {},
   "outputs": [],
   "source": [
    "\n",
    "import pymysql\n",
    "\n",
    "conn = pymysql.connect(\n",
    "    host = 'localhost',\n",
    "    user = 'root',\n",
    "    password=PW,\n",
    "    db='python',\n",
    "    charset='utf8'\n",
    ") #데이터 베이스 접속\n",
    "\n",
    "with conn.cursor() as cursor: #Cursor 객체 생성\n",
    "\n",
    "    sql = '''CREATE TABLE article2(\n",
    "            ID INTEGER PRIMARY KEY AUTO_INCREMENT,\n",
    "            TITLE VARCHAR(30),\n",
    "            CONTENT VARCHAR(80),\n",
    "            WRITER VARCHAR(80),\n",
    "            HIT INTEGER,\n",
    "            C_DATE DATETIME )\n",
    "    '''\n",
    "\n",
    "\n",
    "    cursor.execute(sql) \n",
    "\n",
    "    conn.commit()  #저장\n",
    "\n",
    "# cursor.close() \n",
    "conn.close()"
   ]
  },
  {
   "cell_type": "code",
   "execution_count": 43,
   "metadata": {},
   "outputs": [],
   "source": [
    "\n",
    "import pymysql\n",
    "\n",
    "conn = pymysql.connect(\n",
    "    host = 'localhost',\n",
    "    user = 'root',\n",
    "    password=PW,\n",
    "    db='python',\n",
    "    charset='utf8'\n",
    ") #데이터 베이스 접속\n",
    "\n",
    "with conn.cursor() as cursor: #Cursor 객체 생성\n",
    "\n",
    "    sql = '''INSERT INTO article2 VALUES(null, %s, %s,%s,%s, now())'''\n",
    "\n",
    "\n",
    "    cursor.execute(sql,('제목','내용','파이썬',0)) \n",
    "    cursor.execute(sql,('제목2','내용2','파이썬2',0)) \n",
    "\n",
    "    conn.commit()  #저장\n",
    "# cursor.close() \n",
    "conn.close()"
   ]
  },
  {
   "cell_type": "code",
   "execution_count": 42,
   "metadata": {},
   "outputs": [],
   "source": [
    "\n",
    "import pymysql\n",
    "\n",
    "conn = pymysql.connect(\n",
    "    host = 'localhost',\n",
    "    user = 'root',\n",
    "    password=PW,\n",
    "    db='python',\n",
    "    charset='utf8'\n",
    ") #데이터 베이스 접속\n",
    "\n",
    "with conn.cursor() as cursor: #Cursor 객체 생성\n",
    "\n",
    "    sql = '''UPDATE article2 SET\n",
    "    title = %s, content = %s, hit=%s\n",
    "    WHERE ID = %s\n",
    "    '''\n",
    "\n",
    "\n",
    "    cursor.execute(sql,('제목수정','내용수정',100,1)) \n",
    "\n",
    "    conn.commit()  #저장\n",
    "# cursor.close() \n",
    "conn.close()"
   ]
  },
  {
   "cell_type": "markdown",
   "metadata": {},
   "source": [
    "### delete"
   ]
  },
  {
   "cell_type": "code",
   "execution_count": 50,
   "metadata": {},
   "outputs": [],
   "source": [
    "\n",
    "import pymysql\n",
    "\n",
    "conn = pymysql.connect(\n",
    "    host = 'localhost',\n",
    "    user = 'root',\n",
    "    password=PW,\n",
    "    db='python',\n",
    "    charset='utf8'\n",
    ") #데이터 베이스 접속\n",
    "\n",
    "with conn.cursor() as cursor: #Cursor 객체 생성\n",
    "\n",
    "    sql = '''DELETE FROM memeber\n",
    "    WHERE ID = %s\n",
    "    '''\n",
    "\n",
    "\n",
    "    cursor.execute(sql,2) \n",
    "\n",
    "    conn.commit()  #저장\n",
    "# cursor.close() \n",
    "conn.close()"
   ]
  },
  {
   "cell_type": "code",
   "execution_count": 88,
   "metadata": {},
   "outputs": [],
   "source": [
    "# import pymysql\n",
    "\n",
    "# conn = pymysql.connect(\n",
    "#     host = 'localhost',\n",
    "#     user = 'root',\n",
    "#     password=PW,\n",
    "#     db='python',\n",
    "#     charset='utf8'\n",
    "# ) #데이터 베이스 접속\n",
    "\n",
    "# with conn.cursor() as cursor: #Cursor 객체 생성\n",
    "\n",
    "#     sql = '''DROP TABLE MEMBER\n",
    "#     '''\n",
    "\n",
    "\n",
    "#     cursor.execute(sql) \n",
    "\n",
    "#     conn.commit()  #저장\n",
    "# # cursor.close() \n",
    "# conn.close()"
   ]
  },
  {
   "cell_type": "code",
   "execution_count": 85,
   "metadata": {},
   "outputs": [],
   "source": [
    "\n",
    "# import pymysql\n",
    "\n",
    "# conn = pymysql.connect(\n",
    "#     host = 'localhost',\n",
    "#     user = 'root',\n",
    "#     password=PW,\n",
    "#     db='python',\n",
    "#     charset='utf8'\n",
    "# ) #데이터 베이스 접속\n",
    "\n",
    "# with conn.cursor() as cursor: #Cursor 객체 생성\n",
    "\n",
    "#     sql = '''DELETE FROM member\n",
    "#     '''\n",
    "\n",
    "\n",
    "#     cursor.execute(sql) \n",
    "\n",
    "#     conn.commit()  #저장\n",
    "# # cursor.close() \n",
    "# conn.close()"
   ]
  },
  {
   "cell_type": "markdown",
   "metadata": {},
   "source": [
    "### SELECT"
   ]
  },
  {
   "cell_type": "code",
   "execution_count": 54,
   "metadata": {},
   "outputs": [
    {
     "name": "stdout",
     "output_type": "stream",
     "text": [
      "14\n",
      "7369 SMITH\n",
      "7499 ALLEN\n",
      "7521 WARD\n"
     ]
    }
   ],
   "source": [
    "import pymysql\n",
    "\n",
    "conn = pymysql.connect(\n",
    "    host = 'localhost',\n",
    "    user = 'root',\n",
    "    password=PW,\n",
    "    db='mydb',\n",
    "    charset='utf8'\n",
    ") #데이터 베이스 접속\n",
    "\n",
    "cursor = conn.cursor(pymysql.cursors.DictCursor) #Cursor 객체 생성\n",
    "\n",
    "sql = '''SELECT *\n",
    "            FROM EMP'''\n",
    "\n",
    "\n",
    "cursor.execute(sql) \n",
    "result = cursor.fetchall() #fetchmany(3)\n",
    "print(len(result))\n",
    "for row in result[:3]:\n",
    "    print(row['EMPNO'],row['ENAME'])\n",
    "conn.commit()  #저장\n",
    "cursor.close() \n",
    "conn.close()"
   ]
  },
  {
   "cell_type": "code",
   "execution_count": 64,
   "metadata": {},
   "outputs": [
    {
     "name": "stdout",
     "output_type": "stream",
     "text": [
      "원하는 페이지 번호를 입력해주세요: 1\n"
     ]
    },
    {
     "data": {
      "text/plain": [
       "int"
      ]
     },
     "execution_count": 64,
     "metadata": {},
     "output_type": "execute_result"
    }
   ],
   "source": [
    "# page 설정\n",
    "import pymysql\n",
    "\n",
    "page_num = int(input('원하는 페이지 번호를 입력해주세요: '))\n",
    "end_num = page_num *10\n",
    "start_num = end_num-9\n",
    "\n",
    "\n",
    "conn = pymysql.connect(\n",
    "    host = 'localhost',\n",
    "    user = 'root',\n",
    "    password=PW,\n",
    "    db='mydb',\n",
    "    charset='utf8'\n",
    ") #데이터 베이스 접속\n",
    "\n",
    "cursor = conn.cursor(pymysql.cursors.DictCursor) #Cursor 객체 생성\n",
    "\n",
    "sql = '''SELECT *\n",
    "            FROM EMP\n",
    "            LIMIT $s, 10'''\n",
    "\n",
    "\n",
    "cursor.execute(sql, (start_num-1)) \n",
    "result = cursor.fetchall() #fetchmany(3)\n",
    "print(len(result))\n",
    "for row in result:\n",
    "    print(row['EMPNO'],row['ENAME'])\n",
    "conn.commit()  #저장\n",
    "cursor.close() \n",
    "conn.close()"
   ]
  },
  {
   "cell_type": "code",
   "execution_count": 61,
   "metadata": {},
   "outputs": [],
   "source": [
    "cursor.close() \n",
    "conn.close()"
   ]
  },
  {
   "cell_type": "markdown",
   "metadata": {},
   "source": [
    "### 연습문제"
   ]
  },
  {
   "cell_type": "code",
   "execution_count": 16,
   "metadata": {},
   "outputs": [
    {
     "name": "stdout",
     "output_type": "stream",
     "text": [
      "(1, '제목1', 'a@a.com', datetime.datetime(2020, 1, 28, 11, 35, 11))\n",
      "(2, '제목2', 'a@a.com', datetime.datetime(2020, 1, 28, 11, 35, 11))\n",
      "(3, '제목3', 'a@a.com', datetime.datetime(2020, 1, 28, 11, 35, 11))\n",
      "(4, '제목4', 'a@a.com', datetime.datetime(2020, 1, 28, 11, 35, 11))\n",
      "(5, '제목5', 'a@a.com', datetime.datetime(2020, 1, 28, 11, 35, 11))\n"
     ]
    }
   ],
   "source": [
    "import pymysql\n",
    "def insert(sql, data):\n",
    "    cursor.execute(sql, data)\n",
    "#     conn.commit()\n",
    "\n",
    "\n",
    "conn = pymysql.connect(\n",
    "    host='localhost', user='root', password=PW,\n",
    "    db='python', charset='utf8')\n",
    "cursor = conn.cursor()\n",
    "\n",
    "# 데이터 100개 입력\n",
    "sql = '''INSERT INTO MEMBER\n",
    "     (ID, NAME, EMAIL, C_DATE)\n",
    "     VALUES (NULL, %s, %s, NOW())'''\n",
    "for i in range(1, 101):\n",
    "     insert(sql, ('제목' + str(i), 'a@a.com'))\n",
    "        \n",
    "# 데이터 입력 후 commit\n",
    "# 조회 SQL 작성\n",
    "# cursor 실행\n",
    "# cursor로 부터 5개 조회\n",
    "# 반복문을 이용하여 각 컬럼의 데이터 출력\n",
    "# close\n",
    "sql = '''SELECT * FROM MEMBER'''\n",
    "cursor.execute(sql)\n",
    "conn.commit()\n",
    "result = cursor.fetchmany(5)\n",
    "for row in result:\n",
    "    print(row)\n",
    "\n",
    "cursor.close()\n",
    "conn.close()"
   ]
  },
  {
   "cell_type": "code",
   "execution_count": 92,
   "metadata": {},
   "outputs": [
    {
     "name": "stdout",
     "output_type": "stream",
     "text": [
      "100 제목100 a@a.com 2020-01-28 11:35:11\n",
      "99 제목99 a@a.com 2020-01-28 11:35:11\n",
      "98 제목98 a@a.com 2020-01-28 11:35:11\n",
      "97 제목97 a@a.com 2020-01-28 11:35:11\n",
      "96 제목96 a@a.com 2020-01-28 11:35:11\n"
     ]
    }
   ],
   "source": [
    "conn = pymysql.connect(\n",
    "    host='localhost', user='root', password=PW,\n",
    "    db='python', charset='utf8')\n",
    "cursor = conn.cursor()\n",
    "\n",
    "sql = '''SELECT * FROM MEMBER\n",
    "        ORDER BY ID DESC'''\n",
    "cursor.execute(sql)\n",
    "result = cursor.fetchmany(5)\n",
    "for row in result:\n",
    "    print(row[0],row[1],row[2],row[3])\n",
    "conn.commit()\n",
    "cursor.close()\n",
    "conn.close()"
   ]
  },
  {
   "cell_type": "code",
   "execution_count": 75,
   "metadata": {},
   "outputs": [],
   "source": [
    "import pymysql\n",
    "def insert(sql, data):\n",
    "#     cursor.execute(sql, data)\n",
    "    conn = pymysql.connect(\n",
    "    host='localhost', user='root', password=PW,\n",
    "    db='python', charset='utf8')\n",
    "    cursor = conn.cursor()\n",
    "    cursor.execute(sql, data)\n",
    "    conn.commit()\n",
    "\n",
    "# 데이터 100개 입력\n",
    "sql = '''INSERT INTO ARTICLE\n",
    "     (ID, TITLE, CONTENT, WRITER, HIT, C_DATE)\n",
    "     VALUES (NULL, %s, %s, %s, 0, NOW())'''\n",
    "for i in range(1, 101):\n",
    "    insert(sql, ('제목' + str(i), '내용' + str(i), '파이썬'))\n",
    " "
   ]
  },
  {
   "cell_type": "code",
   "execution_count": 78,
   "metadata": {},
   "outputs": [
    {
     "name": "stdout",
     "output_type": "stream",
     "text": [
      "101 제목100 내용100 파이썬 0 2020-01-28 11:30:00\n",
      "100 제목99 내용99 파이썬 0 2020-01-28 11:30:00\n",
      "99 제목98 내용98 파이썬 0 2020-01-28 11:30:00\n",
      "98 제목97 내용97 파이썬 0 2020-01-28 11:30:00\n",
      "97 제목96 내용96 파이썬 0 2020-01-28 11:30:00\n"
     ]
    }
   ],
   "source": [
    "       \n",
    "# 데이터 입력 후 commit\n",
    "# 조회 SQL 작성\n",
    "# cursor 실행\n",
    "# cursor로 부터 5개 조회\n",
    "# 반복문을 이용하여 각 컬럼의 데이터 출력\n",
    "# close\n",
    "conn = pymysql.connect(\n",
    "    host='localhost', user='root', password=PW,\n",
    "    db='python', charset='utf8')\n",
    "cursor = conn.cursor()\n",
    "\n",
    "sql = '''SELECT * FROM ARTICLE\n",
    "        ORDER BY ID DESC'''\n",
    "cursor.execute(sql)\n",
    "result = cursor.fetchmany(5)\n",
    "for row in result:\n",
    "    print(row[0],row[1],row[2],row[3],row[4],row[5])\n",
    "conn.commit()\n",
    "cursor.close()\n",
    "conn.close()"
   ]
  },
  {
   "cell_type": "markdown",
   "metadata": {},
   "source": [
    "### 11_06 연습문제\n",
    "\n",
    "- 연중무휴 / 주차가능 음식점 조회\n"
   ]
  },
  {
   "cell_type": "code",
   "execution_count": 12,
   "metadata": {},
   "outputs": [
    {
     "name": "stdout",
     "output_type": "stream",
     "text": [
      "808신기산업영도 앞바다가 한 눈에 들어오는 카페연중무휴주차가능\n",
      "800속씨원한대구탕24시간 속을 시원하게 풀어주는 대구탕 전문점연중무휴주차가능\n"
     ]
    }
   ],
   "source": [
    "import pymysql\n",
    "conn = pymysql.connect(\n",
    "    host='localhost', user='root', password=PW,\n",
    "    db='python', charset='utf8')\n",
    "cursor = conn.cursor()\n",
    "\n",
    "sql = '''SELECT * FROM shop\n",
    "        WHERE (rest_date = %s) AND (parking_info = %s)\n",
    "        ORDER BY SHOP_ID DESC\n",
    "        '''\n",
    "cursor.execute(sql,('연중무휴','주차가능'))\n",
    "result = cursor.fetchall()\n",
    "for row in result:\n",
    "    for col in row[:-1]:\n",
    "        print(col, end='')\n",
    "    print()\n",
    "conn.commit()\n",
    "cursor.close()\n",
    "conn.close()"
   ]
  },
  {
   "cell_type": "code",
   "execution_count": 15,
   "metadata": {},
   "outputs": [
    {
     "name": "stdout",
     "output_type": "stream",
     "text": [
      "a 일길동 751111-******* 751111-*******\n",
      "b 이길동 761111-******* 761111-*******\n",
      "c 삼길동 771111-******* 771111-*******\n",
      "d 사길동 781111-******* 781111-*******\n",
      "e 오길동 791111-******* 791111-*******\n",
      "f 육길동 801111-******* 801111-*******\n",
      "g 칠길동 811111-******* 811111-*******\n"
     ]
    }
   ],
   "source": [
    "import pymysql\n",
    "import re # 정규 표현식 사용을 위한 모듈 import\n",
    "\n",
    "conn = pymysql.connect(\n",
    "    host='localhost', user='root', password=PW,\n",
    "    db='python', charset='utf8')\n",
    "cursor = conn.cursor()\n",
    "\n",
    "sql = '''SELECT * FROM info\n",
    "        '''\n",
    "cursor.execute(sql)\n",
    "result = cursor.fetchall()\n",
    "for id, name, pnum in result:\n",
    "    \n",
    "    pattern = re.compile('(\\d{6})-\\d{7}')\n",
    "    change = '\\g<1>-*******'\n",
    "    pnum=pattern.sub(change, pnum)\n",
    "  \n",
    "    print(id, name, pnum, pnum[:pnum.find('-')]+'-'+'*'*7)\n",
    "conn.commit()\n",
    "cursor.close()\n",
    "conn.close()"
   ]
  },
  {
   "cell_type": "code",
   "execution_count": 1,
   "metadata": {},
   "outputs": [
    {
     "data": {
      "text/plain": [
       "786"
      ]
     },
     "execution_count": 1,
     "metadata": {},
     "output_type": "execute_result"
    }
   ],
   "source": [
    "temp=(786, '태평양회참치', '부드러운 참다랑어 뱃살과 고소한 모듬회', '명절휴무', '주차가능', '/save_img/shop_img/ece475bf-0556-40d1-aea9-cf2387faa41c.jpg')\n",
    "temp[0]"
   ]
  },
  {
   "cell_type": "code",
   "execution_count": null,
   "metadata": {},
   "outputs": [],
   "source": []
  }
 ],
 "metadata": {
  "kernelspec": {
   "display_name": "Python 3",
   "language": "python",
   "name": "python3"
  },
  "language_info": {
   "codemirror_mode": {
    "name": "ipython",
    "version": 3
   },
   "file_extension": ".py",
   "mimetype": "text/x-python",
   "name": "python",
   "nbconvert_exporter": "python",
   "pygments_lexer": "ipython3",
   "version": "3.7.4"
  }
 },
 "nbformat": 4,
 "nbformat_minor": 2
}
