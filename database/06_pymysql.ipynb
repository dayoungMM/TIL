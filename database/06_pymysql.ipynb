{
 "cells": [
  {
   "cell_type": "code",
   "execution_count": 9,
   "metadata": {},
   "outputs": [],
   "source": [
    "PW= 'dss'"
   ]
  },
  {
   "cell_type": "code",
   "execution_count": 16,
   "metadata": {},
   "outputs": [
    {
     "name": "stdout",
     "output_type": "stream",
     "text": [
      "(1049, \"Unknown database 'python1'\")\n"
     ]
    },
    {
     "ename": "AttributeError",
     "evalue": "'NoneType' object has no attribute 'close'",
     "output_type": "error",
     "traceback": [
      "\u001b[1;31m---------------------------------------------------------------------------\u001b[0m",
      "\u001b[1;31mAttributeError\u001b[0m                            Traceback (most recent call last)",
      "\u001b[1;32m<ipython-input-16-d1c4fa815a1a>\u001b[0m in \u001b[0;36m<module>\u001b[1;34m\u001b[0m\n\u001b[0;32m     25\u001b[0m     \u001b[0mprint\u001b[0m\u001b[1;33m(\u001b[0m\u001b[0me\u001b[0m\u001b[1;33m)\u001b[0m\u001b[1;33m\u001b[0m\u001b[1;33m\u001b[0m\u001b[0m\n\u001b[0;32m     26\u001b[0m \u001b[1;32mfinally\u001b[0m\u001b[1;33m:\u001b[0m\u001b[1;33m\u001b[0m\u001b[1;33m\u001b[0m\u001b[0m\n\u001b[1;32m---> 27\u001b[1;33m     \u001b[0mconn\u001b[0m\u001b[1;33m.\u001b[0m\u001b[0mclose\u001b[0m\u001b[1;33m(\u001b[0m\u001b[1;33m)\u001b[0m\u001b[1;33m\u001b[0m\u001b[1;33m\u001b[0m\u001b[0m\n\u001b[0m",
      "\u001b[1;31mAttributeError\u001b[0m: 'NoneType' object has no attribute 'close'"
     ]
    }
   ],
   "source": [
    "import pymysql\n",
    "\n",
    "conn = None\n",
    "try:\n",
    "    conn = pymysql.connect(\n",
    "        host = 'localhost',\n",
    "        user = 'root',\n",
    "        password=PW,\n",
    "        db='python',\n",
    "        charset='utf8'\n",
    "    ) #데이터 베이스 접속\n",
    "\n",
    "    with conn.cursor() as cursor: #Cursor 객체 생성\n",
    "\n",
    "        sql = ''' CREATE TABLE mysql2(\n",
    "                    ID INTEGER PRIMARY KEY AUTO_INCREMENT,\n",
    "                    TITLE VARCHAR(100), CONTENT VARCHAR(100))'''\n",
    "\n",
    "        # '''는 문자열을 의미한다\n",
    "        cursor.execute(sql) #SQL실행\n",
    "        conn.commit()  #저장\n",
    "\n",
    "\n",
    "except pymysql.InternalError as e:\n",
    "    print(e)\n",
    "finally:\n",
    "    if conn:\n",
    "        conn.close() "
   ]
  },
  {
   "cell_type": "code",
   "execution_count": null,
   "metadata": {},
   "outputs": [],
   "source": [
    "#예외처리 없는 버전\n",
    "import pymysql\n",
    "\n",
    "\n",
    "conn = pymysql.connect(\n",
    "    host = 'localhost',\n",
    "    user = 'root',\n",
    "    password=PW,\n",
    "    db='python',\n",
    "    charset='utf8'\n",
    ") #데이터 베이스 접속\n",
    "\n",
    "cursor = conn.cursor() #Cursor 객체 생성\n",
    "\n",
    "sql = ''' CREATE TABLE mysql2(\n",
    "            ID INTEGER PRIMARY KEY AUTO_INCREMENT,\n",
    "            TITLE VARCHAR(100), CONTENT VARCHAR(100))'''\n",
    "\n",
    "# '''는 문자열을 의미한다\n",
    "cursor.execute(sql) #SQL실행\n",
    "conn.commit()  #저장\n",
    "cursor.close() \n",
    "conn.close()"
   ]
  },
  {
   "cell_type": "code",
   "execution_count": 24,
   "metadata": {},
   "outputs": [],
   "source": [
    "# placeholder 이용\n",
    "# %s밖에 실행이 되지 않는다\n",
    "\n",
    "#예외처리 없는 버전\n",
    "import pymysql\n",
    "\n",
    "\n",
    "conn = pymysql.connect(\n",
    "    host = 'localhost',\n",
    "    user = 'root',\n",
    "    password=PW,\n",
    "    db='python',\n",
    "    charset='utf8'\n",
    ") #데이터 베이스 접속\n",
    "\n",
    "cursor = conn.cursor() #Cursor 객체 생성\n",
    "\n",
    "sql = ''' INSERT INTO mysql(ID ,TITLE ,CONTENT)\n",
    "            VALUES (NULL, %s, %s)'''\n",
    "\n",
    "# '''는 문자열을 의미한다\n",
    "cursor.execute(sql, ('제목A', '내용Z')) #SQL실행\n",
    "conn.commit()  #저장\n",
    "cursor.close() \n",
    "conn.close()"
   ]
  },
  {
   "cell_type": "markdown",
   "metadata": {},
   "source": [
    "### 데이터 수정\n"
   ]
  },
  {
   "cell_type": "code",
   "execution_count": 20,
   "metadata": {},
   "outputs": [],
   "source": [
    "# placeholder 이용\n",
    "# %s밖에 실행이 되지 않는다\n",
    "\n",
    "#예외처리 없는 버전\n",
    "import pymysql\n",
    "\n",
    "\n",
    "conn = pymysql.connect(\n",
    "    host = 'localhost',\n",
    "    user = 'root',\n",
    "    password=PW,\n",
    "    db='python',\n",
    "    charset='utf8'\n",
    ") #데이터 베이스 접속\n",
    "\n",
    "cursor = conn.cursor() #Cursor 객체 생성\n",
    "\n",
    "sql = ''' UPDATE mysql SET TITLE = %s\n",
    "            WHERE ID =%s'''\n",
    "\n",
    "# '''는 문자열을 의미한다\n",
    "cursor.execute(sql, ('제목수정됨',1)) #id가 1이면 TITLE이 제목수정됨으로 수정\n",
    "conn.commit()  #저장\n",
    "cursor.close() \n",
    "conn.close()"
   ]
  },
  {
   "cell_type": "markdown",
   "metadata": {},
   "source": [
    "### 게시글 지우기"
   ]
  },
  {
   "cell_type": "code",
   "execution_count": 21,
   "metadata": {},
   "outputs": [],
   "source": [
    "# placeholder 이용\n",
    "# %s밖에 실행이 되지 않는다\n",
    "\n",
    "#예외처리 없는 버전\n",
    "import pymysql\n",
    "\n",
    "\n",
    "conn = pymysql.connect(\n",
    "    host = 'localhost',\n",
    "    user = 'root',\n",
    "    password=PW,\n",
    "    db='python',\n",
    "    charset='utf8'\n",
    ") #데이터 베이스 접속\n",
    "\n",
    "cursor = conn.cursor() #Cursor 객체 생성\n",
    "\n",
    "sql = ''' DELETE FROM mysql\n",
    "            WHERE ID =%s'''\n",
    "\n",
    "# '''는 문자열을 의미한다\n",
    "cursor.execute(sql, (2)) #id가 1이면 TITLE이 제목수정됨으로 수정\n",
    "conn.commit()  #저장\n",
    "cursor.close() \n",
    "conn.close()"
   ]
  },
  {
   "cell_type": "markdown",
   "metadata": {},
   "source": [
    "### 데이터 조회\n",
    "- fetchone() :데이터 1개 조회\n",
    "- fetchall() : 데이터 모두 조회\n",
    "- fetchmany(): 데이터 여러개 조회"
   ]
  },
  {
   "cell_type": "code",
   "execution_count": 25,
   "metadata": {},
   "outputs": [
    {
     "name": "stdout",
     "output_type": "stream",
     "text": [
      "((1, '제목수정됨', '내용Z'), (3, '제목A', '내용Z'))\n",
      "==========\n",
      "제목수정됨\n"
     ]
    }
   ],
   "source": [
    "\n",
    "import pymysql\n",
    "\n",
    "\n",
    "conn = pymysql.connect(\n",
    "    host = 'localhost',\n",
    "    user = 'root',\n",
    "    password=PW,\n",
    "    db='python',\n",
    "    charset='utf8'\n",
    ") #데이터 베이스 접속\n",
    "\n",
    "cursor = conn.cursor() #Cursor 객체 생성\n",
    "\n",
    "sql = ''' SELECT * FROM mysql'''\n",
    "\n",
    "# '''는 문자열을 의미한다\n",
    "cursor.execute(sql) \n",
    "result = cursor.fetchall()\n",
    "print(result)\n",
    "print('='*10)\n",
    "print(result[0][1])\n",
    "conn.commit()  #저장\n",
    "cursor.close() \n",
    "conn.close()"
   ]
  },
  {
   "cell_type": "code",
   "execution_count": 26,
   "metadata": {},
   "outputs": [
    {
     "name": "stdout",
     "output_type": "stream",
     "text": [
      "(('제목수정됨', '내용Z'), ('제목A', '내용Z'))\n",
      "==========\n",
      "내용Z\n"
     ]
    }
   ],
   "source": [
    "\n",
    "import pymysql\n",
    "\n",
    "\n",
    "conn = pymysql.connect(\n",
    "    host = 'localhost',\n",
    "    user = 'root',\n",
    "    password=PW,\n",
    "    db='python',\n",
    "    charset='utf8'\n",
    ") #데이터 베이스 접속\n",
    "\n",
    "cursor = conn.cursor() #Cursor 객체 생성\n",
    "\n",
    "sql = ''' SELECT TITLE,CONTENT FROM mysql'''\n",
    "\n",
    "# '''는 문자열을 의미한다\n",
    "cursor.execute(sql) \n",
    "result = cursor.fetchall()\n",
    "print(result)\n",
    "print('='*10)\n",
    "print(result[0][1])\n",
    "conn.commit()  #저장\n",
    "cursor.close() \n",
    "conn.close()"
   ]
  },
  {
   "cell_type": "code",
   "execution_count": 34,
   "metadata": {},
   "outputs": [
    {
     "name": "stdout",
     "output_type": "stream",
     "text": [
      "(('제목수정됨', '내용Z'), ('제목A', '내용Z'))\n",
      "None\n"
     ]
    }
   ],
   "source": [
    "#예외처리 없는 버전\n",
    "import pymysql\n",
    "\n",
    "conn = pymysql.connect(\n",
    "    host = 'localhost',\n",
    "    user = 'root',\n",
    "    password=PW,\n",
    "    db='python',\n",
    "    charset='utf8'\n",
    ") #데이터 베이스 접속\n",
    "\n",
    "cursor = conn.cursor() #Cursor 객체 생성\n",
    "\n",
    "sql = ''' SELECT TITLE,CONTENT FROM mysql'''\n",
    "\n",
    "# '''는 문자열을 의미한다\n",
    "cursor.execute(sql) \n",
    "result = cursor.fetchmany(2)\n",
    "result1 = cursor.fetchone()\n",
    "print(result)\n",
    "print(result1)\n",
    "\n",
    "conn.commit()  #저장\n",
    "cursor.close() \n",
    "conn.close()"
   ]
  },
  {
   "cell_type": "markdown",
   "metadata": {},
   "source": [
    "### 연습문제"
   ]
  },
  {
   "cell_type": "code",
   "execution_count": 36,
   "metadata": {},
   "outputs": [],
   "source": [
    "#1. MEMBER 테이블 만들기\n",
    "import pymysql\n",
    "\n",
    "conn = pymysql.connect(\n",
    "    host = 'localhost',\n",
    "    user = 'root',\n",
    "    password=PW,\n",
    "    db='python',\n",
    "    charset='utf8'\n",
    ") #데이터 베이스 접속\n",
    "\n",
    "cursor = conn.cursor() #Cursor 객체 생성\n",
    "\n",
    "\n",
    "sql = ''' CREATE TABLE member(\n",
    "        ID INTEGER PRIMARY KEY AUTO_INCREMENT,\n",
    "        NAME VARCHAR(30),\n",
    "        EMAIL VARCHAR(30),\n",
    "        C_DATE DATETIME\n",
    "        )'''\n",
    "\n",
    "# '''는 문자열을 의미한다\n",
    "cursor.execute(sql) \n",
    "\n",
    "conn.commit()  #저장\n",
    "cursor.close() \n",
    "conn.close()"
   ]
  },
  {
   "cell_type": "code",
   "execution_count": 37,
   "metadata": {},
   "outputs": [],
   "source": [
    "# 2. ARTICLE 테이블 만들기\n",
    "import pymysql\n",
    "\n",
    "conn = pymysql.connect(\n",
    "    host = 'localhost',\n",
    "    user = 'root',\n",
    "    password=PW,\n",
    "    db='python',\n",
    "    charset='utf8'\n",
    ") #데이터 베이스 접속\n",
    "\n",
    "cursor = conn.cursor() #Cursor 객체 생성\n",
    "\n",
    "\n",
    "sql = ''' CREATE TABLE article(\n",
    "        ID INTEGER PRIMARY KEY AUTO_INCREMENT,\n",
    "        TITLE VARCHAR(30),\n",
    "        CONTENT VARCHAR(30),\n",
    "        WRITER VARCHAR(30),\n",
    "        HIT INTEGER,\n",
    "        C_DATE DATETIME\n",
    "        )'''\n",
    "\n",
    "# '''는 문자열을 의미한다\n",
    "cursor.execute(sql) \n",
    "\n",
    "conn.commit()  #저장\n",
    "cursor.close() \n",
    "conn.close()\n"
   ]
  },
  {
   "cell_type": "code",
   "execution_count": null,
   "metadata": {},
   "outputs": [],
   "source": []
  }
 ],
 "metadata": {
  "kernelspec": {
   "display_name": "Python 3",
   "language": "python",
   "name": "python3"
  },
  "language_info": {
   "codemirror_mode": {
    "name": "ipython",
    "version": 3
   },
   "file_extension": ".py",
   "mimetype": "text/x-python",
   "name": "python",
   "nbconvert_exporter": "python",
   "pygments_lexer": "ipython3",
   "version": "3.7.4"
  }
 },
 "nbformat": 4,
 "nbformat_minor": 2
}
