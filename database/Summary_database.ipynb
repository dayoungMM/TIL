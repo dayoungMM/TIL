{
 "cells": [
  {
   "cell_type": "markdown",
   "metadata": {},
   "source": [
    "#### Database\n",
    "- RDBMS : 관계형 데이터 베이스\n",
    "    - MySQL\n",
    "    - 데이터베이스 서버에 설치\n",
    "    - 데이터베이스 생성, 삭제, 수정, 쿼리문\n",
    "    - 서버, 데이터베이스, 테이블, 레코드, 값\n",
    "    - 쿼리문\n",
    "        - SELECT FROM\n",
    "            - WHERE : 비교, 논리 연산자, IN, LIKE\n",
    "            - ORDER BY : 정렬\n",
    "            - LIMIT: 특정 갯수의 데이터를 선택\n",
    "            - GROUP BY, HAVING : 특정 컬럼의 데이터를 유니크하게 만들어서 데이터를 출력\n",
    "            - JOIN ON : LEFT, RIGHT, INNER, OUTER(UNION 사용)\n",
    "            - sub query: 쿼리 안에 쿼리: SELECT, FROM, WHERE\n",
    "            - VIEW:  복잡한 쿼리를 간단하게 만들어주는 방법\n",
    "    - INDEX : explain   (=>where절을 많이 사용하는 컬럼에 사용하면 좋다. 너무 많이 쓰면 insert가 느려짐)\n",
    "    - SQLALchemy: Python에서 사용하는 ORM \n",
    "        - INSERT INTO (columns) VALUES (values)\n",
    "        - UPDATE <table_name > SET\n",
    "- NoSQL: 비관계형 데이터 베이스\n",
    "    - MongoDB\n",
    "    - 서버, 데이터베이스, 컬렉션(테이블), 도큐먼트(레코드)\n",
    "    - find\n",
    "    - pymongo : Python에서 사용하는 ORM"
   ]
  },
  {
   "cell_type": "code",
   "execution_count": null,
   "metadata": {},
   "outputs": [],
   "source": []
  }
 ],
 "metadata": {
  "kernelspec": {
   "display_name": "Python 3",
   "language": "python",
   "name": "python3"
  },
  "language_info": {
   "codemirror_mode": {
    "name": "ipython",
    "version": 3
   },
   "file_extension": ".py",
   "mimetype": "text/x-python",
   "name": "python",
   "nbconvert_exporter": "python",
   "pygments_lexer": "ipython3",
   "version": "3.7.3"
  }
 },
 "nbformat": 4,
 "nbformat_minor": 2
}
