{
 "cells": [
  {
   "cell_type": "markdown",
   "metadata": {},
   "source": [
    "# 1번문제\n",
    "[파이썬과 웹 크롤링]\n",
    "\n",
    "https://datalab.naver.com/keyword/realtimeList.naver\n",
    "\n",
    "셀레니움을 이용하여 네이버의 급상승 검색어 웹페이지에서 1위에서 20위까지 \n",
    "검색어 확인하는 파이썬 코드를 작성하시오."
   ]
  },
  {
   "cell_type": "code",
   "execution_count": 33,
   "metadata": {},
   "outputs": [
    {
     "name": "stdout",
     "output_type": "stream",
     "text": [
      "1위: 김신영\n",
      "2위: 나노메딕스 국일제지\n",
      "3위: 코로나알리미\n",
      "4위: 개리 아내\n",
      "5위: 써니\n",
      "6위: 마니커\n",
      "7위: 토트넘 맨시티 손흥민 골, 손흥민\n",
      "8위: 중국증시\n",
      "9위: 하나은행 비대면계좌\n",
      "10위: 강원대학교 강원대\n",
      "11위: 이은영\n",
      "12위: 이지영\n",
      "13위: 에코프로비엠\n",
      "14위: 선우은숙\n",
      "15위: 태국 코로나 바이러스 코로나 완치\n",
      "16위: 사랑의 불시착 12회\n",
      "17위: 명지대학교 명지대\n",
      "18위: 두번째 스무살\n",
      "19위: 베르흐베인\n",
      "20위: 조류독감\n"
     ]
    }
   ],
   "source": [
    "from selenium import webdriver as wd\n",
    "from selenium.webdriver.common.by import By\n",
    "from selenium.webdriver.support.ui import WebDriverWait\n",
    "from selenium.webdriver.support import expected_conditions as EC\n",
    "\n",
    "\n",
    "driver = wd.Chrome(executable_path='C:/Code/chromedriver.exe')\n",
    "# driver = wd.PhantomJS(executable_path='phantomjs.exe')\n",
    "driver.get('https://datalab.naver.com/keyword/realtimeList.naver')\n",
    "titles = driver.find_elements_by_css_selector('#content > div > div.selection_area > div.selection_content > div.field_list > div > ul > li  ')\n",
    "for title in titles:\n",
    "    name =title.find_element_by_css_selector(' div > span.item_title_wrap').text\n",
    "    num = title.find_element_by_css_selector(' div > .item_num').text\n",
    "    print(num, end='위: ')\n",
    "    print(name)\n",
    "driver.close()"
   ]
  },
  {
   "cell_type": "markdown",
   "metadata": {},
   "source": [
    "# 2번문제\n",
    "\n",
    "[정형 데이터 처리 RDB]\n",
    "\n",
    "ㅇ 학과 테이블 : 학과번호(기본키) / 학과명 <br>\n",
    "     `major`   :     `major`        /  `major_name` <br>\n",
    "    \n",
    "ㅇ 교수 테이블 : 교수번호(기본키) / 이름 / 학과번호(학과 테이블의 외래키) / 직급 / 급여<br>\n",
    "    `prof`      :   `prof_id`    /   `name`   / `major`                /       `stat`/ `salary`\n",
    "\n",
    "교수가 배정되지 않은 학과의 학과명을 검색하는 SQL을 작성하시오.<br>"
   ]
  },
  {
   "cell_type": "markdown",
   "metadata": {},
   "source": [
    "### 정답(쿼리문):\n",
    "```\n",
    "SELECT major.majorname\n",
    "From prof\n",
    "right JOIN major\n",
    "ON prof.major= major.major\n",
    "WHERE prof.prof_id IS NULL;\n",
    "```"
   ]
  },
  {
   "cell_type": "markdown",
   "metadata": {},
   "source": [
    "### 결과 인증"
   ]
  },
  {
   "cell_type": "code",
   "execution_count": 36,
   "metadata": {},
   "outputs": [
    {
     "name": "stdout",
     "output_type": "stream",
     "text": [
      "(('수학',),)\n"
     ]
    }
   ],
   "source": [
    "import pymysql\n",
    "\n",
    "\n",
    "conn = pymysql.connect(\n",
    "    host = 'localhost',\n",
    "    user = 'root',\n",
    "    password='dss',\n",
    "    db='python',\n",
    "    charset='utf8'\n",
    ") #데이터 베이스 접속\n",
    "\n",
    "cursor = conn.cursor() #Cursor 객체 생성\n",
    "\n",
    "sql = ''' SELECT major.majorname\n",
    "        From prof\n",
    "        right JOIN major\n",
    "        ON prof.major= major.major\n",
    "        WHERE prof.prof_id IS NULL;'''\n",
    "\n",
    "# '''는 문자열을 의미한다\n",
    "cursor.execute(sql) \n",
    "result = cursor.fetchall()\n",
    "print(result)\n",
    "\n",
    "conn.commit()  #저장\n",
    "cursor.close() \n",
    "conn.close()"
   ]
  },
  {
   "cell_type": "markdown",
   "metadata": {},
   "source": [
    "# 3번문제\n",
    "비정형 데이터처리 MongoDB]\n",
    "mongo shell을 사용하여 데이터베이스 및 컬렉션을 생성하고 제시된 필드명에 맞도록 데이터를 입력하는 코드를 작성하시오.\n",
    "\n",
    "ㅇ 데이터베이스명 : exam\n",
    "\n",
    "ㅇ 컬렉션명 : product\n",
    "\n",
    "ㅇ 필드명\n",
    "\n",
    "- company (회사명) / prd_name (제품명) / price (가격)\n",
    "\n",
    "ㅇ 데이터 \n",
    "\n",
    "- 회사명 : 광동제약, 제품명 : 제주 삼다수 2L, 가격 : 800\n",
    "- 회사명 : 스파클, 제품명 : 스파클 2L, 가격 : 460\n",
    "- 회사명 : 농심, 제품명 : 백두산 백산수 2L, 가격 : 670\n",
    "- 회사명 : 동원F&B, 제품명 : 동원샘물 2L, 가격 : 500\n"
   ]
  },
  {
   "cell_type": "markdown",
   "metadata": {},
   "source": [
    "### 정답(NoSQL 문):"
   ]
  },
  {
   "cell_type": "code",
   "execution_count": null,
   "metadata": {},
   "outputs": [],
   "source": [
    "use exam"
   ]
  },
  {
   "cell_type": "code",
   "execution_count": null,
   "metadata": {},
   "outputs": [],
   "source": [
    "db.product.save({company:'광동제약', prd_name :'제주 삼다수 2L',price:800})\n",
    "db.product.save({company:'스파클', prd_name :'스파클 2L',price:460})\n",
    "db.product.save({company:'농심', prd_name :'백두산 백산수 2L',price:670})\n",
    "db.product.save({company:'동원F&B', prd_name :'동원샘물 2L',price: 500})"
   ]
  },
  {
   "cell_type": "markdown",
   "metadata": {},
   "source": [
    "### 결과 인증"
   ]
  },
  {
   "cell_type": "code",
   "execution_count": 39,
   "metadata": {},
   "outputs": [
    {
     "name": "stdout",
     "output_type": "stream",
     "text": [
      "{'_id': ObjectId('5e37ca1873cce3bfd1066089'), 'company': '광동제약', 'prd_name': '제주 삼다수 2L', 'price': 800.0}\n",
      "{'_id': ObjectId('5e37cc5773cce3bfd106608a'), 'company': '스파클', 'prd_name': '스파클 2L', 'price': 460.0}\n",
      "{'_id': ObjectId('5e37cc5c73cce3bfd106608b'), 'company': '농심', 'prd_name': '백두산 백산수 2L', 'price': 670.0}\n",
      "{'_id': ObjectId('5e37cc6473cce3bfd106608c'), 'company': '동원F&B', 'prd_name': '동원샘물 2L', 'price': 500.0}\n"
     ]
    }
   ],
   "source": [
    "from pymongo import MongoClient\n",
    "client = MongoClient(host='localhost', port=27017)\n",
    "db = client['exam']\n",
    "cursor = db.product.find()\n",
    "for data in list(cursor):\n",
    "    print(data)"
   ]
  },
  {
   "cell_type": "code",
   "execution_count": null,
   "metadata": {},
   "outputs": [],
   "source": []
  }
 ],
 "metadata": {
  "kernelspec": {
   "display_name": "Python 3",
   "language": "python",
   "name": "python3"
  },
  "language_info": {
   "codemirror_mode": {
    "name": "ipython",
    "version": 3
   },
   "file_extension": ".py",
   "mimetype": "text/x-python",
   "name": "python",
   "nbconvert_exporter": "python",
   "pygments_lexer": "ipython3",
   "version": "3.7.4"
  }
 },
 "nbformat": 4,
 "nbformat_minor": 2
}
