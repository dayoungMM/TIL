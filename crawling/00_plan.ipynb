{
 "cells": [
  {
   "cell_type": "markdown",
   "metadata": {},
   "source": [
    "## 공모전 리스트 크롤링하여 웹으로 서비스 제공하기\n",
    "### 1. 데이터 수집의 목적\n",
    "- 현재 진행중인 데이터 분석 공모전 리스트 수집의 어려움\n",
    "- 포털사이트에서 검색하면 마감한 공모전이 많이 나오고, 중복되는 정보가 많다는 한계가 있다.\n",
    "- 공모전 리스트를 모아두는 사이트는 일일이 찾아가서 검색해야하는 번거로움이 있다\n",
    "- 사이트마다 보여주는 공모전 리스트가 달라 여러 사이트를 비교해야하는 어려움이 있다.\n",
    "\n",
    "### 2. 데이터 수집의 계획\n",
    "- 공모전 플랫폼에서 특정 키워드(ex.데이터)가 들어간 공모전 리스트 크롤링    \n",
    "- 공모전의 이름, 기간, 공모전 공고 링크, 이미지링크를 수집\n",
    "\n",
    "### 3. 서비스 제공 계획\n",
    "- 공모전 리스트를 웹페이지에서 제공\n",
    "- 버튼 선택시 메일 또는 슬랙으로 데이터 전송 가능하도록 서비스 제공\n",
    "\n",
    "### 4. 크롤링 하는 방법\n",
    "- AWS 서버에서 동작될 수 있도록 작성\n",
    "- 다음의 방법 중 택1\n",
    "    - 패키지로 작성해서 서버에 설치 후 동작\n",
    "    - Scrapy 프레임워크를 이용하여 수집\n",
    "    \n",
    "- 데이터 저장\n",
    "    - 수집된 데이터는 Mongodb데이터 베이스에 저장\n",
    "    - 저장된 데이터를 목적에 맞게 데이터 프레임으로 로드할 수 있는 패키지 코드 작성\n",
    "\n",
    "#### 5. 코드의 관리\n",
    "- Github에 코드관리\n",
    "- 설치되어야 하는 패키지는 requirements.txt파일로 정리\n",
    "\n",
    "#### 6. 프로젝트 회고\n",
    "- 어려웠던점, 성취한점, 추후 연구 방향 및 개선 방향"
   ]
  },
  {
   "cell_type": "markdown",
   "metadata": {},
   "source": [
    "#### 데이터 공모전 플랫폼\n",
    "- https://dacon.io/home\n",
    "    - https%3A%2F%2Fwww.thinkcontest.com%2FContest%2FCateField.html%3Fsf%3D1%26sw%3D%25EB%258D%25B0%25EC%259D%25B4%25ED%2584%25B0\n",
    "    - https://www.wevity.com/\n",
    "    - https://campusmon.jobkorea.co.kr/\n",
    "    - http://gongmo.incruit.com/"
   ]
  }
 ],
 "metadata": {
  "kernelspec": {
   "display_name": "Python 3",
   "language": "python",
   "name": "python3"
  },
  "language_info": {
   "codemirror_mode": {
    "name": "ipython",
    "version": 3
   },
   "file_extension": ".py",
   "mimetype": "text/x-python",
   "name": "python",
   "nbconvert_exporter": "python",
   "pygments_lexer": "ipython3",
   "version": "3.7.3"
  }
 },
 "nbformat": 4,
 "nbformat_minor": 2
}
