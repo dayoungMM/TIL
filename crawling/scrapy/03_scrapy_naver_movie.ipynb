{
 "cells": [
  {
   "cell_type": "markdown",
   "metadata": {},
   "source": [
    "### Naver Movie\n",
    "- robots.txt 설정으로 크롤링이 안됩니다.\n",
    "\n"
   ]
  },
  {
   "cell_type": "markdown",
   "metadata": {},
   "source": [
    "#### 1. 프로젝트 생성"
   ]
  },
  {
   "cell_type": "code",
   "execution_count": 1,
   "metadata": {},
   "outputs": [
    {
     "name": "stdout",
     "output_type": "stream",
     "text": [
      "New Scrapy project 'naver_movie', using template directory '/home/ubuntu/.pyenv/versions/3.6.9/envs/python3/lib/python3.6/site-packages/scrapy/templates/project', created in:\r\n",
      "    /home/ubuntu/python3/notebook/scrapy/naver_movie\r\n",
      "\r\n",
      "You can start your first spider with:\r\n",
      "    cd naver_movie\r\n",
      "    scrapy genspider example example.com\r\n"
     ]
    }
   ],
   "source": [
    "!scrapy startproject naver_movie"
   ]
  },
  {
   "cell_type": "markdown",
   "metadata": {},
   "source": [
    "#### 2. Items 설정\n",
    "- https://movie.naver.com/movie/running/current.nhn\n",
    "- 제목, 관객수, 평점"
   ]
  },
  {
   "cell_type": "code",
   "execution_count": 3,
   "metadata": {},
   "outputs": [
    {
     "name": "stdout",
     "output_type": "stream",
     "text": [
      "# -*- coding: utf-8 -*-\r\n",
      "\r\n",
      "# Define here the models for your scraped items\r\n",
      "#\r\n",
      "# See documentation in:\r\n",
      "# https://docs.scrapy.org/en/latest/topics/items.html\r\n",
      "\r\n",
      "import scrapy\r\n",
      "\r\n",
      "\r\n",
      "class NaverMovieItem(scrapy.Item):\r\n",
      "    # define the fields for your item here like:\r\n",
      "    # name = scrapy.Field()\r\n",
      "    pass\r\n"
     ]
    }
   ],
   "source": [
    "! cat naver_movie/naver_movie/items.py"
   ]
  },
  {
   "cell_type": "code",
   "execution_count": 4,
   "metadata": {},
   "outputs": [
    {
     "name": "stdout",
     "output_type": "stream",
     "text": [
      "Overwriting naver_movie/naver_movie/items.py\n"
     ]
    }
   ],
   "source": [
    "%%writefile naver_movie/naver_movie/items.py\n",
    "import scrapy\n",
    "\n",
    "class NaverMovieItem(scrapy.Item):\n",
    "    # define the fields for your item here like:\n",
    "    title = scrapy.Field()\n",
    "    count = scrapy.Field()\n",
    "    star = scrapy.Field()"
   ]
  },
  {
   "cell_type": "markdown",
   "metadata": {},
   "source": [
    "#### 3. xpath 확인"
   ]
  },
  {
   "cell_type": "code",
   "execution_count": 7,
   "metadata": {},
   "outputs": [],
   "source": [
    "import requests\n",
    "import scrapy\n",
    "from scrapy.http import TextResponse\n"
   ]
  },
  {
   "cell_type": "code",
   "execution_count": 9,
   "metadata": {},
   "outputs": [],
   "source": [
    "# 링크\n",
    "req = requests.get(\"https://movie.naver.com/movie/running/current.nhn\")\n",
    "response = TextResponse(req.url, body=req.text, encoding='utf-8')"
   ]
  },
  {
   "cell_type": "code",
   "execution_count": 11,
   "metadata": {},
   "outputs": [
    {
     "data": {
      "text/plain": [
       "(114, '/movie/bi/mi/basic.nhn?code=136873')"
      ]
     },
     "execution_count": 11,
     "metadata": {},
     "output_type": "execute_result"
    }
   ],
   "source": [
    "links = response.xpath('//*[@id=\"content\"]/div[1]/div[1]/div[3]/ul/li/dl/dt/a/@href').extract()\n",
    "len(links), links[0]\n"
   ]
  },
  {
   "cell_type": "code",
   "execution_count": 13,
   "metadata": {},
   "outputs": [
    {
     "data": {
      "text/plain": [
       "'https://movie.naver.com/movie/bi/mi/basic.nhn?code=136873'"
      ]
     },
     "execution_count": 13,
     "metadata": {},
     "output_type": "execute_result"
    }
   ],
   "source": [
    "link = response.urljoin(links[0])\n",
    "link"
   ]
  },
  {
   "cell_type": "code",
   "execution_count": 14,
   "metadata": {},
   "outputs": [],
   "source": [
    "# 상세 데이터 수집\n",
    "req = requests.get(link)\n",
    "response = TextResponse(req.url, body=req.text, encoding='utf-8')"
   ]
  },
  {
   "cell_type": "code",
   "execution_count": 17,
   "metadata": {},
   "outputs": [
    {
     "data": {
      "text/plain": [
       "('겨울왕국 2', '607,850명', '9.23')"
      ]
     },
     "execution_count": 17,
     "metadata": {},
     "output_type": "execute_result"
    }
   ],
   "source": [
    "title = response.xpath('//*[@id=\"content\"]/div[1]/div[2]/div[1]/h3/a[1]/text()').extract()[0]\n",
    "count = response.xpath('//*[@id=\"content\"]/div[1]/div[2]/div[1]/dl/dd[5]/div/p[2]/text()').extract()[0]\n",
    "star = response.xpath('//*[@id=\"actualPointPersentBasic\"]/div/em/text()').extract()\n",
    "star = \"\".join(star)\n",
    "title, count, star"
   ]
  },
  {
   "cell_type": "markdown",
   "metadata": {},
   "source": [
    "#### 4. spider 작성\n"
   ]
  },
  {
   "cell_type": "code",
   "execution_count": 25,
   "metadata": {},
   "outputs": [
    {
     "name": "stdout",
     "output_type": "stream",
     "text": [
      "Overwriting naver_movie/naver_movie/spiders/spider.py\n"
     ]
    }
   ],
   "source": [
    "#내가작성\n",
    "%%writefile naver_movie/naver_movie/spiders/spider.py\n",
    "import scrapy\n",
    "from naver_movie.items import NaverMovieItem\n",
    "\n",
    "class MovieSpider(scrapy.Spider):\n",
    "    name = \"MovieSpider\"\n",
    "    allow_domain = [\"https://movie.naver.com/\"]\n",
    "    start_url = [\"https://movie.naver.com/movie/running/current.nhn\"]\n",
    "    \n",
    "    def parse(self,response):\n",
    "        links = response.xpath('//*[@id=\"content\"]/div[1]/div[1]/div[3]/ul/li/dl/dt/a/@href').extract()\n",
    "        link = [response.urljoin(link) for link in links]\n",
    "        for link in links:\n",
    "            yield scrapy.Request(link, callback=self.page_content)\n",
    "            \n",
    "    def page_content(self, response):\n",
    "        item = NaverMovieItem()\n",
    "        item['title'] = response.xpath('//*[@id=\"content\"]/div[1]/div[2]/div[1]/h3/a[1]/text()').extract()[0]\n",
    "        try:\n",
    "            item['count'] = response.xpath('//*[@id=\"content\"]/div[1]/div[2]/div[1]/dl/dd[5]/div/p[2]/text()').extract()[0]\n",
    "        except:\n",
    "            item['count'] = \"0명\"\n",
    "        item['star'] = response.xpath('//*[@id=\"actualPointPersentBasic\"]/div/em/text()').extract()\n",
    "        item['star'] = \"\".join(star)\n",
    "        \n",
    "        yield item"
   ]
  },
  {
   "cell_type": "code",
   "execution_count": 31,
   "metadata": {},
   "outputs": [
    {
     "name": "stdout",
     "output_type": "stream",
     "text": [
      "Overwriting naver_movie/naver_movie/spiders/spider.py\n"
     ]
    }
   ],
   "source": [
    "#수업\n",
    "%%writefile naver_movie/naver_movie/spiders/spider.py\n",
    "import scrapy\n",
    "from naver_movie.items import NaverMovieItem\n",
    "class MovieSpider(scrapy.Spider):\n",
    "    name = \"NaverMovie\"\n",
    "    allow_domain = [\"https://movie.naver.com\"]\n",
    "    start_urls = [\"https://movie.naver.com/movie/running/current.nhn\"]\n",
    "    def parse(self, response):\n",
    "        links = response.xpath('//*[@id=\"content\"]/div[1]/div[1]/div[3]/ul/li/dl/dt/a/@href')[:10].extract()\n",
    "        for link in links:\n",
    "            link = response.urljoin(link)\n",
    "            yield scrapy.Request(link, callback=self.parse_page_contents)\n",
    "    def parse_page_contents(self, response):\n",
    "        item = NaverMovieItem()\n",
    "        item[\"title\"] = response.xpath('//*[@id=\"content\"]/div[1]/div[2]/div[1]/h3/a[1]/text()').extract()[0]\n",
    "        try:\n",
    "            item[\"count\"] = response.xpath('//*[@id=\"content\"]/div[1]/div[2]/div[1]/dl/dd[5]/div/p[2]/text()').extract()[0]\n",
    "        except:\n",
    "            item[\"count\"] = \"0명\"\n",
    "        star = response.xpath('//*[@id=\"actualPointPersentBasic\"]/div/em/text()').extract()\n",
    "        item[\"star\"] = \"\".join(star)\n",
    "        yield item"
   ]
  },
  {
   "cell_type": "markdown",
   "metadata": {},
   "source": [
    "#### 5.Scrapy 실행"
   ]
  },
  {
   "cell_type": "code",
   "execution_count": 34,
   "metadata": {},
   "outputs": [
    {
     "name": "stdout",
     "output_type": "stream",
     "text": [
      "Overwriting run.sh\n"
     ]
    }
   ],
   "source": [
    "%%writefile run.sh\n",
    "cd naver_movie\n",
    "scrapy crawl \"NaverMovie\" -o naver_movie.csv"
   ]
  },
  {
   "cell_type": "code",
   "execution_count": 35,
   "metadata": {},
   "outputs": [
    {
     "name": "stdout",
     "output_type": "stream",
     "text": [
      "2019-11-22 08:12:01 [scrapy.utils.log] INFO: Scrapy 1.8.0 started (bot: naver_movie)\n",
      "2019-11-22 08:12:01 [scrapy.utils.log] INFO: Versions: lxml 4.4.1.0, libxml2 2.9.9, cssselect 1.1.0, parsel 1.5.2, w3lib 1.21.0, Twisted 19.10.0, Python 3.6.9 (default, Oct 24 2019, 05:23:48) - [GCC 7.4.0], pyOpenSSL 19.1.0 (OpenSSL 1.1.1d  10 Sep 2019), cryptography 2.8, Platform Linux-4.15.0-1054-aws-x86_64-with-debian-buster-sid\n",
      "2019-11-22 08:12:01 [scrapy.crawler] INFO: Overridden settings: {'BOT_NAME': 'naver_movie', 'FEED_FORMAT': 'csv', 'FEED_URI': 'naver_movie.csv', 'NEWSPIDER_MODULE': 'naver_movie.spiders', 'SPIDER_MODULES': ['naver_movie.spiders']}\n",
      "2019-11-22 08:12:01 [scrapy.extensions.telnet] INFO: Telnet Password: bec6c05a06542985\n",
      "2019-11-22 08:12:01 [scrapy.middleware] INFO: Enabled extensions:\n",
      "['scrapy.extensions.corestats.CoreStats',\n",
      " 'scrapy.extensions.telnet.TelnetConsole',\n",
      " 'scrapy.extensions.memusage.MemoryUsage',\n",
      " 'scrapy.extensions.feedexport.FeedExporter',\n",
      " 'scrapy.extensions.logstats.LogStats']\n",
      "2019-11-22 08:12:01 [scrapy.middleware] INFO: Enabled downloader middlewares:\n",
      "['scrapy.downloadermiddlewares.httpauth.HttpAuthMiddleware',\n",
      " 'scrapy.downloadermiddlewares.downloadtimeout.DownloadTimeoutMiddleware',\n",
      " 'scrapy.downloadermiddlewares.defaultheaders.DefaultHeadersMiddleware',\n",
      " 'scrapy.downloadermiddlewares.useragent.UserAgentMiddleware',\n",
      " 'scrapy.downloadermiddlewares.retry.RetryMiddleware',\n",
      " 'scrapy.downloadermiddlewares.redirect.MetaRefreshMiddleware',\n",
      " 'scrapy.downloadermiddlewares.httpcompression.HttpCompressionMiddleware',\n",
      " 'scrapy.downloadermiddlewares.redirect.RedirectMiddleware',\n",
      " 'scrapy.downloadermiddlewares.cookies.CookiesMiddleware',\n",
      " 'scrapy.downloadermiddlewares.httpproxy.HttpProxyMiddleware',\n",
      " 'scrapy.downloadermiddlewares.stats.DownloaderStats']\n",
      "2019-11-22 08:12:01 [scrapy.middleware] INFO: Enabled spider middlewares:\n",
      "['scrapy.spidermiddlewares.httperror.HttpErrorMiddleware',\n",
      " 'scrapy.spidermiddlewares.offsite.OffsiteMiddleware',\n",
      " 'scrapy.spidermiddlewares.referer.RefererMiddleware',\n",
      " 'scrapy.spidermiddlewares.urllength.UrlLengthMiddleware',\n",
      " 'scrapy.spidermiddlewares.depth.DepthMiddleware']\n",
      "2019-11-22 08:12:01 [scrapy.middleware] INFO: Enabled item pipelines:\n",
      "[]\n",
      "2019-11-22 08:12:01 [scrapy.core.engine] INFO: Spider opened\n",
      "2019-11-22 08:12:01 [scrapy.extensions.logstats] INFO: Crawled 0 pages (at 0 pages/min), scraped 0 items (at 0 items/min)\n",
      "2019-11-22 08:12:01 [scrapy.extensions.telnet] INFO: Telnet console listening on 127.0.0.1:6023\n",
      "2019-11-22 08:12:02 [scrapy.core.engine] DEBUG: Crawled (200) <GET https://movie.naver.com/movie/running/current.nhn> (referer: None)\n",
      "2019-11-22 08:12:02 [scrapy.core.engine] DEBUG: Crawled (200) <GET https://movie.naver.com/movie/bi/mi/basic.nhn?code=136873> (referer: https://movie.naver.com/movie/running/current.nhn)\n",
      "2019-11-22 08:12:02 [scrapy.core.scraper] DEBUG: Scraped from <200 https://movie.naver.com/movie/bi/mi/basic.nhn?code=136873>\n",
      "{'count': '607,847명', 'star': '9.22', 'title': '겨울왕국 2'}\n",
      "2019-11-22 08:12:02 [scrapy.core.engine] DEBUG: Crawled (200) <GET https://movie.naver.com/movie/bi/mi/basic.nhn?code=179159> (referer: https://movie.naver.com/movie/running/current.nhn)\n",
      "2019-11-22 08:12:02 [scrapy.core.engine] DEBUG: Crawled (200) <GET https://movie.naver.com/movie/bi/mi/basic.nhn?code=154298> (referer: https://movie.naver.com/movie/running/current.nhn)\n",
      "2019-11-22 08:12:02 [scrapy.core.engine] DEBUG: Crawled (200) <GET https://movie.naver.com/movie/bi/mi/basic.nhn?code=173842> (referer: https://movie.naver.com/movie/running/current.nhn)\n",
      "2019-11-22 08:12:02 [scrapy.core.engine] DEBUG: Crawled (200) <GET https://movie.naver.com/movie/bi/mi/basic.nhn?code=182387> (referer: https://movie.naver.com/movie/running/current.nhn)\n",
      "2019-11-22 08:12:02 [scrapy.core.engine] DEBUG: Crawled (200) <GET https://movie.naver.com/movie/bi/mi/basic.nhn?code=167605> (referer: https://movie.naver.com/movie/running/current.nhn)\n",
      "2019-11-22 08:12:02 [scrapy.core.scraper] DEBUG: Scraped from <200 https://movie.naver.com/movie/bi/mi/basic.nhn?code=179159>\n",
      "{'count': '1,990,626명', 'star': '8.90', 'title': '신의 한 수: 귀수편'}\n",
      "2019-11-22 08:12:02 [scrapy.core.engine] DEBUG: Crawled (200) <GET https://movie.naver.com/movie/bi/mi/basic.nhn?code=189053> (referer: https://movie.naver.com/movie/running/current.nhn)\n",
      "2019-11-22 08:12:02 [scrapy.core.engine] DEBUG: Crawled (200) <GET https://movie.naver.com/movie/bi/mi/basic.nhn?code=179482> (referer: https://movie.naver.com/movie/running/current.nhn)\n",
      "2019-11-22 08:12:02 [scrapy.core.engine] DEBUG: Crawled (200) <GET https://movie.naver.com/movie/bi/mi/basic.nhn?code=163831> (referer: https://movie.naver.com/movie/running/current.nhn)\n",
      "2019-11-22 08:12:02 [scrapy.core.engine] DEBUG: Crawled (200) <GET https://movie.naver.com/movie/bi/mi/basic.nhn?code=189071> (referer: https://movie.naver.com/movie/running/current.nhn)\n",
      "2019-11-22 08:12:02 [scrapy.core.scraper] DEBUG: Scraped from <200 https://movie.naver.com/movie/bi/mi/basic.nhn?code=154298>\n",
      "{'count': '5,030명', 'star': '9.20', 'title': '아이리시맨'}\n",
      "2019-11-22 08:12:02 [scrapy.core.scraper] DEBUG: Scraped from <200 https://movie.naver.com/movie/bi/mi/basic.nhn?code=173842>\n",
      "{'count': '3,683명', 'star': '', 'title': '어제 일은 모두 괜찮아'}\n",
      "2019-11-22 08:12:02 [scrapy.core.scraper] DEBUG: Scraped from <200 https://movie.naver.com/movie/bi/mi/basic.nhn?code=182387>\n",
      "{'count': '52,764명', 'star': '9.34', 'title': '윤희에게'}\n",
      "2019-11-22 08:12:02 [scrapy.core.scraper] DEBUG: Scraped from <200 https://movie.naver.com/movie/bi/mi/basic.nhn?code=167605>\n",
      "{'count': '2,360,029명', 'star': '8.60', 'title': '터미네이터: 다크 페이트'}\n",
      "2019-11-22 08:12:02 [scrapy.core.scraper] DEBUG: Scraped from <200 https://movie.naver.com/movie/bi/mi/basic.nhn?code=189053>\n",
      "{'count': '1,455,029명', 'star': '9.09', 'title': '블랙머니'}\n",
      "2019-11-22 08:12:02 [scrapy.core.scraper] DEBUG: Scraped from <200 https://movie.naver.com/movie/bi/mi/basic.nhn?code=179482>\n",
      "{'count': '3,571,534명', 'star': '9.21', 'title': '82년생 김지영'}\n",
      "2019-11-22 08:12:02 [scrapy.core.scraper] DEBUG: Scraped from <200 https://movie.naver.com/movie/bi/mi/basic.nhn?code=163831>\n",
      "{'count': '166,024명', 'star': '9.27', 'title': '엔젤 해즈 폴른'}\n",
      "2019-11-22 08:12:02 [scrapy.core.scraper] DEBUG: Scraped from <200 https://movie.naver.com/movie/bi/mi/basic.nhn?code=189071>\n",
      "{'count': '0명', 'star': '9.68', 'title': '대통령의 7시간'}\n",
      "2019-11-22 08:12:02 [scrapy.core.engine] INFO: Closing spider (finished)\n",
      "2019-11-22 08:12:02 [scrapy.extensions.feedexport] INFO: Stored csv feed (10 items) in: naver_movie.csv\n",
      "2019-11-22 08:12:02 [scrapy.statscollectors] INFO: Dumping Scrapy stats:\n",
      "{'downloader/request_bytes': 3309,\n",
      " 'downloader/request_count': 11,\n",
      " 'downloader/request_method_count/GET': 11,\n",
      " 'downloader/response_bytes': 353708,\n",
      " 'downloader/response_count': 11,\n",
      " 'downloader/response_status_count/200': 11,\n",
      " 'elapsed_time_seconds': 1.027028,\n",
      " 'finish_reason': 'finished',\n",
      " 'finish_time': datetime.datetime(2019, 11, 22, 8, 12, 2, 880676),\n",
      " 'item_scraped_count': 10,\n",
      " 'log_count/DEBUG': 21,\n",
      " 'log_count/INFO': 11,\n",
      " 'memusage/max': 53460992,\n",
      " 'memusage/startup': 53460992,\n",
      " 'request_depth_max': 1,\n",
      " 'response_received_count': 11,\n",
      " 'scheduler/dequeued': 11,\n",
      " 'scheduler/dequeued/memory': 11,\n",
      " 'scheduler/enqueued': 11,\n",
      " 'scheduler/enqueued/memory': 11,\n",
      " 'start_time': datetime.datetime(2019, 11, 22, 8, 12, 1, 853648)}\n",
      "2019-11-22 08:12:02 [scrapy.core.engine] INFO: Spider closed (finished)\n"
     ]
    }
   ],
   "source": [
    "!./run.sh"
   ]
  },
  {
   "cell_type": "markdown",
   "metadata": {},
   "source": [
    "#### 6. settings.py 파일 변경\n",
    "- Forbidden by robots.txt"
   ]
  },
  {
   "cell_type": "code",
   "execution_count": 36,
   "metadata": {},
   "outputs": [
    {
     "name": "stdout",
     "output_type": "stream",
     "text": [
      "# Obey robots.txt rules\r\n",
      "ROBOTSTXT_OBEY = False\r\n",
      "\r\n",
      "# Configure maximum concurrent requests performed by Scrapy (default: 16)\r\n",
      "#CONCURRENT_REQUESTS = 32\r\n"
     ]
    }
   ],
   "source": [
    "!head -n 25 naver_movie/naver_movie/settings.py | tail -n5"
   ]
  },
  {
   "cell_type": "code",
   "execution_count": 37,
   "metadata": {},
   "outputs": [],
   "source": [
    "!sed -i 's/ROBOTSTXT_OBEY = True/ROBOTSTXT_OBEY = False/' naver_movie/naver_movie/settings.py"
   ]
  },
  {
   "cell_type": "code",
   "execution_count": 38,
   "metadata": {},
   "outputs": [
    {
     "name": "stdout",
     "output_type": "stream",
     "text": [
      "2019-11-22 08:12:09 [scrapy.utils.log] INFO: Scrapy 1.8.0 started (bot: naver_movie)\n",
      "2019-11-22 08:12:09 [scrapy.utils.log] INFO: Versions: lxml 4.4.1.0, libxml2 2.9.9, cssselect 1.1.0, parsel 1.5.2, w3lib 1.21.0, Twisted 19.10.0, Python 3.6.9 (default, Oct 24 2019, 05:23:48) - [GCC 7.4.0], pyOpenSSL 19.1.0 (OpenSSL 1.1.1d  10 Sep 2019), cryptography 2.8, Platform Linux-4.15.0-1054-aws-x86_64-with-debian-buster-sid\n",
      "2019-11-22 08:12:09 [scrapy.crawler] INFO: Overridden settings: {'BOT_NAME': 'naver_movie', 'FEED_FORMAT': 'csv', 'FEED_URI': 'naver_movie.csv', 'NEWSPIDER_MODULE': 'naver_movie.spiders', 'SPIDER_MODULES': ['naver_movie.spiders']}\n",
      "2019-11-22 08:12:09 [scrapy.extensions.telnet] INFO: Telnet Password: f0c94dd15dbfa697\n",
      "2019-11-22 08:12:09 [scrapy.middleware] INFO: Enabled extensions:\n",
      "['scrapy.extensions.corestats.CoreStats',\n",
      " 'scrapy.extensions.telnet.TelnetConsole',\n",
      " 'scrapy.extensions.memusage.MemoryUsage',\n",
      " 'scrapy.extensions.feedexport.FeedExporter',\n",
      " 'scrapy.extensions.logstats.LogStats']\n",
      "2019-11-22 08:12:09 [scrapy.middleware] INFO: Enabled downloader middlewares:\n",
      "['scrapy.downloadermiddlewares.httpauth.HttpAuthMiddleware',\n",
      " 'scrapy.downloadermiddlewares.downloadtimeout.DownloadTimeoutMiddleware',\n",
      " 'scrapy.downloadermiddlewares.defaultheaders.DefaultHeadersMiddleware',\n",
      " 'scrapy.downloadermiddlewares.useragent.UserAgentMiddleware',\n",
      " 'scrapy.downloadermiddlewares.retry.RetryMiddleware',\n",
      " 'scrapy.downloadermiddlewares.redirect.MetaRefreshMiddleware',\n",
      " 'scrapy.downloadermiddlewares.httpcompression.HttpCompressionMiddleware',\n",
      " 'scrapy.downloadermiddlewares.redirect.RedirectMiddleware',\n",
      " 'scrapy.downloadermiddlewares.cookies.CookiesMiddleware',\n",
      " 'scrapy.downloadermiddlewares.httpproxy.HttpProxyMiddleware',\n",
      " 'scrapy.downloadermiddlewares.stats.DownloaderStats']\n",
      "2019-11-22 08:12:09 [scrapy.middleware] INFO: Enabled spider middlewares:\n",
      "['scrapy.spidermiddlewares.httperror.HttpErrorMiddleware',\n",
      " 'scrapy.spidermiddlewares.offsite.OffsiteMiddleware',\n",
      " 'scrapy.spidermiddlewares.referer.RefererMiddleware',\n",
      " 'scrapy.spidermiddlewares.urllength.UrlLengthMiddleware',\n",
      " 'scrapy.spidermiddlewares.depth.DepthMiddleware']\n",
      "2019-11-22 08:12:09 [scrapy.middleware] INFO: Enabled item pipelines:\n",
      "[]\n",
      "2019-11-22 08:12:09 [scrapy.core.engine] INFO: Spider opened\n",
      "2019-11-22 08:12:09 [scrapy.extensions.logstats] INFO: Crawled 0 pages (at 0 pages/min), scraped 0 items (at 0 items/min)\n",
      "2019-11-22 08:12:09 [scrapy.extensions.telnet] INFO: Telnet console listening on 127.0.0.1:6023\n",
      "2019-11-22 08:12:09 [scrapy.core.engine] DEBUG: Crawled (200) <GET https://movie.naver.com/movie/running/current.nhn> (referer: None)\n",
      "2019-11-22 08:12:10 [scrapy.core.engine] DEBUG: Crawled (200) <GET https://movie.naver.com/movie/bi/mi/basic.nhn?code=136873> (referer: https://movie.naver.com/movie/running/current.nhn)\n",
      "2019-11-22 08:12:10 [scrapy.core.scraper] DEBUG: Scraped from <200 https://movie.naver.com/movie/bi/mi/basic.nhn?code=136873>\n",
      "{'count': '607,847명', 'star': '9.22', 'title': '겨울왕국 2'}\n",
      "2019-11-22 08:12:10 [scrapy.core.engine] DEBUG: Crawled (200) <GET https://movie.naver.com/movie/bi/mi/basic.nhn?code=179159> (referer: https://movie.naver.com/movie/running/current.nhn)\n",
      "2019-11-22 08:12:10 [scrapy.core.engine] DEBUG: Crawled (200) <GET https://movie.naver.com/movie/bi/mi/basic.nhn?code=189071> (referer: https://movie.naver.com/movie/running/current.nhn)\n",
      "2019-11-22 08:12:10 [scrapy.core.engine] DEBUG: Crawled (200) <GET https://movie.naver.com/movie/bi/mi/basic.nhn?code=167605> (referer: https://movie.naver.com/movie/running/current.nhn)\n",
      "2019-11-22 08:12:10 [scrapy.core.engine] DEBUG: Crawled (200) <GET https://movie.naver.com/movie/bi/mi/basic.nhn?code=173842> (referer: https://movie.naver.com/movie/running/current.nhn)\n",
      "2019-11-22 08:12:10 [scrapy.core.engine] DEBUG: Crawled (200) <GET https://movie.naver.com/movie/bi/mi/basic.nhn?code=163831> (referer: https://movie.naver.com/movie/running/current.nhn)\n",
      "2019-11-22 08:12:10 [scrapy.core.engine] DEBUG: Crawled (200) <GET https://movie.naver.com/movie/bi/mi/basic.nhn?code=179482> (referer: https://movie.naver.com/movie/running/current.nhn)\n",
      "2019-11-22 08:12:10 [scrapy.core.engine] DEBUG: Crawled (200) <GET https://movie.naver.com/movie/bi/mi/basic.nhn?code=154298> (referer: https://movie.naver.com/movie/running/current.nhn)\n",
      "2019-11-22 08:12:10 [scrapy.core.engine] DEBUG: Crawled (200) <GET https://movie.naver.com/movie/bi/mi/basic.nhn?code=182387> (referer: https://movie.naver.com/movie/running/current.nhn)\n",
      "2019-11-22 08:12:10 [scrapy.core.scraper] DEBUG: Scraped from <200 https://movie.naver.com/movie/bi/mi/basic.nhn?code=179159>\n",
      "{'count': '1,990,626명', 'star': '8.90', 'title': '신의 한 수: 귀수편'}\n",
      "2019-11-22 08:12:10 [scrapy.core.engine] DEBUG: Crawled (200) <GET https://movie.naver.com/movie/bi/mi/basic.nhn?code=189053> (referer: https://movie.naver.com/movie/running/current.nhn)\n",
      "2019-11-22 08:12:10 [scrapy.core.scraper] DEBUG: Scraped from <200 https://movie.naver.com/movie/bi/mi/basic.nhn?code=189071>\n",
      "{'count': '0명', 'star': '9.68', 'title': '대통령의 7시간'}\n",
      "2019-11-22 08:12:10 [scrapy.core.scraper] DEBUG: Scraped from <200 https://movie.naver.com/movie/bi/mi/basic.nhn?code=167605>\n",
      "{'count': '2,360,029명', 'star': '8.60', 'title': '터미네이터: 다크 페이트'}\n",
      "2019-11-22 08:12:10 [scrapy.core.scraper] DEBUG: Scraped from <200 https://movie.naver.com/movie/bi/mi/basic.nhn?code=173842>\n",
      "{'count': '3,683명', 'star': '', 'title': '어제 일은 모두 괜찮아'}\n",
      "2019-11-22 08:12:10 [scrapy.core.scraper] DEBUG: Scraped from <200 https://movie.naver.com/movie/bi/mi/basic.nhn?code=163831>\n",
      "{'count': '166,024명', 'star': '9.27', 'title': '엔젤 해즈 폴른'}\n",
      "2019-11-22 08:12:10 [scrapy.core.scraper] DEBUG: Scraped from <200 https://movie.naver.com/movie/bi/mi/basic.nhn?code=179482>\n",
      "{'count': '3,571,534명', 'star': '9.21', 'title': '82년생 김지영'}\n",
      "2019-11-22 08:12:10 [scrapy.core.scraper] DEBUG: Scraped from <200 https://movie.naver.com/movie/bi/mi/basic.nhn?code=154298>\n",
      "{'count': '5,030명', 'star': '9.20', 'title': '아이리시맨'}\n",
      "2019-11-22 08:12:10 [scrapy.core.scraper] DEBUG: Scraped from <200 https://movie.naver.com/movie/bi/mi/basic.nhn?code=182387>\n",
      "{'count': '52,764명', 'star': '9.34', 'title': '윤희에게'}\n",
      "2019-11-22 08:12:10 [scrapy.core.scraper] DEBUG: Scraped from <200 https://movie.naver.com/movie/bi/mi/basic.nhn?code=189053>\n",
      "{'count': '1,455,029명', 'star': '9.09', 'title': '블랙머니'}\n",
      "2019-11-22 08:12:10 [scrapy.core.engine] INFO: Closing spider (finished)\n",
      "2019-11-22 08:12:10 [scrapy.extensions.feedexport] INFO: Stored csv feed (10 items) in: naver_movie.csv\n",
      "2019-11-22 08:12:10 [scrapy.statscollectors] INFO: Dumping Scrapy stats:\n",
      "{'downloader/request_bytes': 3309,\n",
      " 'downloader/request_count': 11,\n",
      " 'downloader/request_method_count/GET': 11,\n",
      " 'downloader/response_bytes': 354853,\n",
      " 'downloader/response_count': 11,\n",
      " 'downloader/response_status_count/200': 11,\n",
      " 'elapsed_time_seconds': 0.984302,\n",
      " 'finish_reason': 'finished',\n",
      " 'finish_time': datetime.datetime(2019, 11, 22, 8, 12, 10, 595341),\n",
      " 'item_scraped_count': 10,\n",
      " 'log_count/DEBUG': 21,\n",
      " 'log_count/INFO': 11,\n",
      " 'memusage/max': 53526528,\n",
      " 'memusage/startup': 53526528,\n",
      " 'request_depth_max': 1,\n",
      " 'response_received_count': 11,\n",
      " 'scheduler/dequeued': 11,\n",
      " 'scheduler/dequeued/memory': 11,\n",
      " 'scheduler/enqueued': 11,\n",
      " 'scheduler/enqueued/memory': 11,\n",
      " 'start_time': datetime.datetime(2019, 11, 22, 8, 12, 9, 611039)}\n",
      "2019-11-22 08:12:10 [scrapy.core.engine] INFO: Spider closed (finished)\n"
     ]
    }
   ],
   "source": [
    "!./run.sh"
   ]
  },
  {
   "cell_type": "code",
   "execution_count": null,
   "metadata": {},
   "outputs": [],
   "source": []
  }
 ],
 "metadata": {
  "kernelspec": {
   "display_name": "Python 3",
   "language": "python",
   "name": "python3"
  },
  "language_info": {
   "codemirror_mode": {
    "name": "ipython",
    "version": 3
   },
   "file_extension": ".py",
   "mimetype": "text/x-python",
   "name": "python",
   "nbconvert_exporter": "python",
   "pygments_lexer": "ipython3",
   "version": "3.6.9"
  }
 },
 "nbformat": 4,
 "nbformat_minor": 2
}
