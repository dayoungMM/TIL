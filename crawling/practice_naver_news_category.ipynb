{
 "cells": [
  {
   "cell_type": "code",
   "execution_count": 41,
   "metadata": {},
   "outputs": [],
   "source": [
    "import requests\n",
    "import time\n",
    "import pandas as pd\n",
    "from selenium import webdriver\n",
    "from PIL import Image as pil\n",
    "from bs4 import BeautifulSoup"
   ]
  },
  {
   "cell_type": "code",
   "execution_count": 85,
   "metadata": {},
   "outputs": [],
   "source": [
    "categories = {\n",
    "100: \"정치\",\n",
    "101: \"경제\",\n",
    "102: \"사회\",\n",
    "103: \"생활/문화\",\n",
    "104: \"세계\",\n",
    "105: \"IT/과학\"\n",
    "}"
   ]
  },
  {
   "cell_type": "code",
   "execution_count": 86,
   "metadata": {},
   "outputs": [],
   "source": [
    "category, date, page = 101, 20191122 ,1\n",
    "\n",
    "url = 'https://news.naver.com/main/list.nhn?mode=LSD&mid=sec&sid1={}&date={}&page={}'.format(category, date, page)"
   ]
  },
  {
   "cell_type": "code",
   "execution_count": 87,
   "metadata": {},
   "outputs": [],
   "source": [
    "driver = webdriver.Chrome()\n",
    "driver.get(url)"
   ]
  },
  {
   "cell_type": "code",
   "execution_count": 91,
   "metadata": {},
   "outputs": [
    {
     "data": {
      "text/plain": [
       "20"
      ]
     },
     "execution_count": 91,
     "metadata": {},
     "output_type": "execute_result"
    }
   ],
   "source": [
    "#여러개의 아티클을 가져오기때문에 elements를 쓴다\n",
    "articles = driver.find_elements_by_css_selector(\"ul > li> dl\")\n",
    "len(articles)"
   ]
  },
  {
   "cell_type": "code",
   "execution_count": 93,
   "metadata": {},
   "outputs": [
    {
     "data": {
      "text/plain": [
       "(\"[마켓인사이트]동남아시아 데카콘 '고젝', 산은 넥스트라운드서 국내 첫 IR\",\n",
       " 'https://news.naver.com/main/read.nhn?mode=LSD&mid=sec&sid1=101&oid=015&aid=0004246040')"
      ]
     },
     "execution_count": 93,
     "metadata": {},
     "output_type": "execute_result"
    }
   ],
   "source": [
    "title = articles[0].find_element_by_css_selector(\"dt:not(.photo) > a\").text\n",
    "link = articles[0].find_element_by_css_selector(\"dt:not(.photo) >a\").get_attribute(\"href\")\n",
    "title, link"
   ]
  },
  {
   "cell_type": "code",
   "execution_count": 94,
   "metadata": {},
   "outputs": [
    {
     "data": {
      "text/plain": [
       "'≪이 기사는 11월22일(17:47) 자본시장의 혜안 ‘마켓인사이트’에 게재된 기사입니다≫인도네시아 최대 스타트업이자 전 세계에 22개에 불과한 데카콘(기업가치 100억달러 이상의 비상장기업)중 하나인 고젝(GoJek)이 국내에서 기업설명회(IR)을 개최했다. 고젝이 한국에서 공식적으로 IR에 나선 것은 이번이 처음이다.산업은행은 22일 경기도 하남의 KDB 디지털스퀘어에서 국내 벤처캐피탈(VC)과 스타트업 업계 관계자 100여명이 참석한 가운데 \\'KDB 넥스트라운드 아세안 스페셜라운드\\'를 개최했다. 넥스트라운드는 산업은행이 스타트업에 투자유치 기회를 제공하고, 투자자에게는 우량 투자처를 알리기 위해 2016년 8월부터 운영하는 벤처투자플랫폼이다.이번 아세안 스페셜라운드는 최근 고젝(Gojek), 그랩(GRAB) 등 10여개의 유니콘(기업가치 1억달러 이상인 비상장 스타트업) 기업을 배출하며 급성장하는 동남아시아 벤처생태계를 조망하기 위해 마련됐다. 스페셜라운드 1부에선 고젝의 IR이 진행됐다. 고젝은 동남아 시장을 개척한 자신들의 비즈니스모델과 향후 비전 등을 발표해 큰 관심을 끌었다. 고젝은 2010년 창업한 스타트업으로 차량 공유 서비스를 시작으로 음식배달, 택배 등 라이프스타일 전반에 걸친 서비스를 제공하고 있다. 가입자만 1억명에 달하고, 구글과 텐센트, KKR 등 굴지의 글로벌 기업 및 사모펀드의 투자를 받았다. 이어 2부에선 인터베스트, DTN인베스트먼트, KB인베스트먼트, 라인벤처스 등 다수의 동남아시아 투자 경험을 갖고 있는 VC의 전문가들이 \\'급성장하는 아세안 벤처생태계 및 성공적인 진출전략\\'을 주제로 패널토론을 진행했다. 넥스트라운드는 매주 3회 정기적으로 개최하는 \\'스타트업 투자유치 IR 라운드\\' 외에도 비정기적으로 이번과 같이 스페셜라운드를 개최하고 있다. 산은은 특히 올해 \\'연결을 통한 도약\\'을 핵심가치로 설정하고 지역·수도권·글로벌 벤처생태계의 연결에 역량을 집중하고 있다.산업은행 관계자는 \"거대시장을 기반으로 벤처생태계가 급성장하고 있는 아세안시장과 지속적인 연결을 통해 대한민국 벤처생태계의 글로벌화와 정부의 신남방정책에 적극 기여할 계획\"이라고 말했다.황정환 기자 jung@hankyung.com▶ 네이버에서 한국경제 뉴스를 받아보세요▶ 한경닷컴 바로가기  ▶ 모바일한경 구독신청 ⓒ 한국경제 & hankyung.com, 무단전재 및 재배포 금지'"
      ]
     },
     "execution_count": 94,
     "metadata": {},
     "output_type": "execute_result"
    }
   ],
   "source": [
    "response = requests.get(link)\n",
    "dom = BeautifulSoup(response.content, \"html.parser\")\n",
    "content = dom.select_one('#articleBodyContents').text.replace('\\n',\"\")\\\n",
    ".replace(\"/\",\"\").split(\"{}\")[1].strip()\n",
    "\n",
    "driver.quit()\n",
    "content"
   ]
  },
  {
   "cell_type": "code",
   "execution_count": 95,
   "metadata": {},
   "outputs": [],
   "source": [
    "def get_articles(category, date, page):\n",
    "    url = 'https://news.naver.com/main/list.nhn?mode=LSD&mid=sec&sid1={}&date={}&page={}'.format(category, date, page)\n",
    "    driver = webdriver.Chrome()\n",
    "    driver.get(url)\n",
    "    articles = driver.find_elements_by_css_selector(\".list_body > ul > li\")\n",
    "    datas = []\n",
    "    for article in articles:\n",
    "        title = article.find_element_by_css_selector(\"dt:not(.photo) > a\").text\n",
    "        link = article.find_element_by_css_selector(\"dt:not(.photo) >a\").get_attribute(\"href\")\n",
    "        response = requests.get(link)\n",
    "        dom = BeautifulSoup(response.content, \"html.parser\")\n",
    "        content = dom.select_one('#articleBodyContents').text.replace('\\n',\"\").replace(\"/\",\"\").split(\"{}\")[1].strip()\n",
    "        datas.append({\n",
    "            \"title\" : title,\n",
    "            \"link\" : link,\n",
    "            \"content\" : content,\n",
    "        })\n",
    "    \n",
    "    driver.quit()\n",
    "        \n",
    "    return pd.DataFrame(datas)"
   ]
  },
  {
   "cell_type": "code",
   "execution_count": 96,
   "metadata": {},
   "outputs": [
    {
     "data": {
      "text/html": [
       "<div>\n",
       "<style scoped>\n",
       "    .dataframe tbody tr th:only-of-type {\n",
       "        vertical-align: middle;\n",
       "    }\n",
       "\n",
       "    .dataframe tbody tr th {\n",
       "        vertical-align: top;\n",
       "    }\n",
       "\n",
       "    .dataframe thead th {\n",
       "        text-align: right;\n",
       "    }\n",
       "</style>\n",
       "<table border=\"1\" class=\"dataframe\">\n",
       "  <thead>\n",
       "    <tr style=\"text-align: right;\">\n",
       "      <th></th>\n",
       "      <th>content</th>\n",
       "      <th>link</th>\n",
       "      <th>title</th>\n",
       "    </tr>\n",
       "  </thead>\n",
       "  <tbody>\n",
       "    <tr>\n",
       "      <th>0</th>\n",
       "      <td>◇톱텍=경북 구미 산동면 본사 확장 이전.◇셀리버리=세포 조직투과성 골형성 촉진제 ...</td>\n",
       "      <td>https://news.naver.com/main/read.nhn?mode=LSD&amp;...</td>\n",
       "      <td>[코스닥 공시] 톱텍 / 셀리버리 / 코오롱생명과학</td>\n",
       "    </tr>\n",
       "    <tr>\n",
       "      <th>1</th>\n",
       "      <td>250개 법인중 60% 우선 교체삼성전자가 국내 감사인 변경에 이어 해외 계열사 감...</td>\n",
       "      <td>https://news.naver.com/main/read.nhn?mode=LSD&amp;...</td>\n",
       "      <td>삼성전자, 해외법인 감사도 딜로이트로 변경</td>\n",
       "    </tr>\n",
       "    <tr>\n",
       "      <th>2</th>\n",
       "      <td>호반건설은 올해 '호반써밋' 브랜드를 리뉴얼하고 아파트 고급화에 나섰다. 창립 30...</td>\n",
       "      <td>https://news.naver.com/main/read.nhn?mode=LSD&amp;...</td>\n",
       "      <td>시공 ‘TOP 10’에 진입한 호반건설, ‘호반써밋’으로 브랜드 차별화</td>\n",
       "    </tr>\n",
       "    <tr>\n",
       "      <th>3</th>\n",
       "      <td>전세계 1경5000조원 규모디지털 신시장 열리겠지만혁신없는 기업, 수명 급속단축◆ ...</td>\n",
       "      <td>https://news.naver.com/main/read.nhn?mode=LSD&amp;...</td>\n",
       "      <td>향후 10년은 `Digitize or Die`시대</td>\n",
       "    </tr>\n",
       "    <tr>\n",
       "      <th>4</th>\n",
       "      <td>예산(당진방향)휴게소 청결한 화장실 문화 전파당진영덕고속도로에 위치한 예산휴게소(당...</td>\n",
       "      <td>https://news.naver.com/main/read.nhn?mode=LSD&amp;...</td>\n",
       "      <td>예산(당진방향)휴게소 화장실 문화 캠페인 실시</td>\n",
       "    </tr>\n",
       "    <tr>\n",
       "      <th>5</th>\n",
       "      <td>컨설팅그룹 `엔젤6` 설립박진수 前LG화학 부회장 주축전자·이노텍 등 전직 CEO ...</td>\n",
       "      <td>https://news.naver.com/main/read.nhn?mode=LSD&amp;...</td>\n",
       "      <td>[단독] 다시 뭉친 LG 키맨…\"스타트업에 날개 달아주겠다\"</td>\n",
       "    </tr>\n",
       "    <tr>\n",
       "      <th>6</th>\n",
       "      <td>번아웃 크리에이터 늘어나자…\"휴가 등 재충전 시간 가져야잠시 쉰다고 구독자 안 줄어...</td>\n",
       "      <td>https://news.naver.com/main/read.nhn?mode=LSD&amp;...</td>\n",
       "      <td>유튜브 CEO \"유튜버들, 좀 쉬어라\"</td>\n",
       "    </tr>\n",
       "    <tr>\n",
       "      <th>7</th>\n",
       "      <td>2021년부터 커피전문점 등 매장 안에서 플라스틱 컵은 물론 종이컵도 사용할 수 없...</td>\n",
       "      <td>https://news.naver.com/main/read.nhn?mode=LSD&amp;...</td>\n",
       "      <td>카페 `테이크아웃 컵`도 돈 받는다</td>\n",
       "    </tr>\n",
       "    <tr>\n",
       "      <th>8</th>\n",
       "      <td>▶매경이 에어팟프로 쏩니다! 'M코인'▶네이버 메인에서 '매일경제'를 받아보세요 ▶...</td>\n",
       "      <td>https://news.naver.com/main/read.nhn?mode=LSD&amp;...</td>\n",
       "      <td>[표] 주요 시세 (11월 22일)</td>\n",
       "    </tr>\n",
       "    <tr>\n",
       "      <th>9</th>\n",
       "      <td>SK바이오팜이 독자 개발한 뇌전증(간질) 신약 '엑스코프리(성분명 세노바메이트)'가...</td>\n",
       "      <td>https://news.naver.com/main/read.nhn?mode=LSD&amp;...</td>\n",
       "      <td>SK바이오팜, 내년초 IPO 대박 예감… 母회사 SK 주가에도 호재</td>\n",
       "    </tr>\n",
       "    <tr>\n",
       "      <th>10</th>\n",
       "      <td>최태원 회장의 '27년 바이오 뚝심'2030년 이후 바이오가 '그룹 중심축' 목표....</td>\n",
       "      <td>https://news.naver.com/main/read.nhn?mode=LSD&amp;...</td>\n",
       "      <td>[SK바이오팜 뇌전증 신약, 美FDA 승인] 실패에도 과감한 투자… \"혁신과 패기,...</td>\n",
       "    </tr>\n",
       "    <tr>\n",
       "      <th>11</th>\n",
       "      <td>생활텐트 전문기업 ‘㈜아이두젠’(대표 남우현)의 따수미 난방텐트가 국내외에서 견조한...</td>\n",
       "      <td>https://news.naver.com/main/read.nhn?mode=LSD&amp;...</td>\n",
       "      <td>국내 난방텐트 시장점유율 1위 브랜드 ‘따수미’, 국내를 넘어 해외까지 도약</td>\n",
       "    </tr>\n",
       "    <tr>\n",
       "      <th>12</th>\n",
       "      <td>● 기업쇼핑 나선 SK네트웍스● KB證, 1조원 이마트 점포 유동화 펀드 조성 성공...</td>\n",
       "      <td>https://news.naver.com/main/read.nhn?mode=LSD&amp;...</td>\n",
       "      <td>오늘의 레이더M 뉴스 (11월 23일)</td>\n",
       "    </tr>\n",
       "    <tr>\n",
       "      <th>13</th>\n",
       "      <td>올해 9월 전 세계 전기차 배터리 사용량이 중국 시장 침체의 영향으로 전년 동기 대...</td>\n",
       "      <td>https://news.naver.com/main/read.nhn?mode=LSD&amp;...</td>\n",
       "      <td>전기차 배터리 사용량 감소 추세…국내 3사는 선방</td>\n",
       "    </tr>\n",
       "    <tr>\n",
       "      <th>14</th>\n",
       "      <td>[머니투데이 중기&amp;창업팀 고문순 기자] 저작권 공유 플랫폼 뮤지코인 찾기 참여 이벤...</td>\n",
       "      <td>https://news.naver.com/main/read.nhn?mode=LSD&amp;...</td>\n",
       "      <td>뮤지코인, TJ미디어 코인노래방 이벤트 화제</td>\n",
       "    </tr>\n",
       "    <tr>\n",
       "      <th>15</th>\n",
       "      <td>[머니투데이 김지훈 기자] [\"국민 세금 쓰면 중립적이어야\"…정치세력화 시도에 재차...</td>\n",
       "      <td>https://news.naver.com/main/read.nhn?mode=LSD&amp;...</td>\n",
       "      <td>박영선 장관 \"소공연 정관어긴 정치활동 국민찬성 않을 것\"</td>\n",
       "    </tr>\n",
       "    <tr>\n",
       "      <th>16</th>\n",
       "      <td>[한국경제TV 조연 기자]&lt;기자&gt;은행에 돈을 맡기면 보관료를 내야하고, 반대로 돈을...</td>\n",
       "      <td>https://news.naver.com/main/read.nhn?mode=LSD&amp;...</td>\n",
       "      <td>\"예금하려면 보관료 내세요\"</td>\n",
       "    </tr>\n",
       "    <tr>\n",
       "      <th>17</th>\n",
       "      <td>≪이 기사는 11월22일(17:47) 자본시장의 혜안 ‘마켓인사이트’에 게재된 기사...</td>\n",
       "      <td>https://news.naver.com/main/read.nhn?mode=LSD&amp;...</td>\n",
       "      <td>[마켓인사이트]동남아시아 데카콘 '고젝', 산은 넥스트라운드서 국내 첫 IR</td>\n",
       "    </tr>\n",
       "    <tr>\n",
       "      <th>18</th>\n",
       "      <td>박근혜 전 대통령과 최서원(개명 전 최순실) 씨 측에 뇌물을 준 혐의 등으로 기소된...</td>\n",
       "      <td>https://news.naver.com/main/read.nhn?mode=LSD&amp;...</td>\n",
       "      <td>[종합] 이재용 측 \"뇌물 강요 받은 것…자발적 지원 아니다\"</td>\n",
       "    </tr>\n",
       "    <tr>\n",
       "      <th>19</th>\n",
       "      <td>[서울경제] 시진핑(앞줄 오른쪽) 중국 국가주석이 22일 베이징에서 열린 뉴이코노미...</td>\n",
       "      <td>https://news.naver.com/main/read.nhn?mode=LSD&amp;...</td>\n",
       "      <td>[사진]키신저 만난 시진핑</td>\n",
       "    </tr>\n",
       "  </tbody>\n",
       "</table>\n",
       "</div>"
      ],
      "text/plain": [
       "                                              content  \\\n",
       "0   ◇톱텍=경북 구미 산동면 본사 확장 이전.◇셀리버리=세포 조직투과성 골형성 촉진제 ...   \n",
       "1   250개 법인중 60% 우선 교체삼성전자가 국내 감사인 변경에 이어 해외 계열사 감...   \n",
       "2   호반건설은 올해 '호반써밋' 브랜드를 리뉴얼하고 아파트 고급화에 나섰다. 창립 30...   \n",
       "3   전세계 1경5000조원 규모디지털 신시장 열리겠지만혁신없는 기업, 수명 급속단축◆ ...   \n",
       "4   예산(당진방향)휴게소 청결한 화장실 문화 전파당진영덕고속도로에 위치한 예산휴게소(당...   \n",
       "5   컨설팅그룹 `엔젤6` 설립박진수 前LG화학 부회장 주축전자·이노텍 등 전직 CEO ...   \n",
       "6   번아웃 크리에이터 늘어나자…\"휴가 등 재충전 시간 가져야잠시 쉰다고 구독자 안 줄어...   \n",
       "7   2021년부터 커피전문점 등 매장 안에서 플라스틱 컵은 물론 종이컵도 사용할 수 없...   \n",
       "8   ▶매경이 에어팟프로 쏩니다! 'M코인'▶네이버 메인에서 '매일경제'를 받아보세요 ▶...   \n",
       "9   SK바이오팜이 독자 개발한 뇌전증(간질) 신약 '엑스코프리(성분명 세노바메이트)'가...   \n",
       "10  최태원 회장의 '27년 바이오 뚝심'2030년 이후 바이오가 '그룹 중심축' 목표....   \n",
       "11  생활텐트 전문기업 ‘㈜아이두젠’(대표 남우현)의 따수미 난방텐트가 국내외에서 견조한...   \n",
       "12  ● 기업쇼핑 나선 SK네트웍스● KB證, 1조원 이마트 점포 유동화 펀드 조성 성공...   \n",
       "13  올해 9월 전 세계 전기차 배터리 사용량이 중국 시장 침체의 영향으로 전년 동기 대...   \n",
       "14  [머니투데이 중기&창업팀 고문순 기자] 저작권 공유 플랫폼 뮤지코인 찾기 참여 이벤...   \n",
       "15  [머니투데이 김지훈 기자] [\"국민 세금 쓰면 중립적이어야\"…정치세력화 시도에 재차...   \n",
       "16  [한국경제TV 조연 기자]<기자>은행에 돈을 맡기면 보관료를 내야하고, 반대로 돈을...   \n",
       "17  ≪이 기사는 11월22일(17:47) 자본시장의 혜안 ‘마켓인사이트’에 게재된 기사...   \n",
       "18  박근혜 전 대통령과 최서원(개명 전 최순실) 씨 측에 뇌물을 준 혐의 등으로 기소된...   \n",
       "19  [서울경제] 시진핑(앞줄 오른쪽) 중국 국가주석이 22일 베이징에서 열린 뉴이코노미...   \n",
       "\n",
       "                                                 link  \\\n",
       "0   https://news.naver.com/main/read.nhn?mode=LSD&...   \n",
       "1   https://news.naver.com/main/read.nhn?mode=LSD&...   \n",
       "2   https://news.naver.com/main/read.nhn?mode=LSD&...   \n",
       "3   https://news.naver.com/main/read.nhn?mode=LSD&...   \n",
       "4   https://news.naver.com/main/read.nhn?mode=LSD&...   \n",
       "5   https://news.naver.com/main/read.nhn?mode=LSD&...   \n",
       "6   https://news.naver.com/main/read.nhn?mode=LSD&...   \n",
       "7   https://news.naver.com/main/read.nhn?mode=LSD&...   \n",
       "8   https://news.naver.com/main/read.nhn?mode=LSD&...   \n",
       "9   https://news.naver.com/main/read.nhn?mode=LSD&...   \n",
       "10  https://news.naver.com/main/read.nhn?mode=LSD&...   \n",
       "11  https://news.naver.com/main/read.nhn?mode=LSD&...   \n",
       "12  https://news.naver.com/main/read.nhn?mode=LSD&...   \n",
       "13  https://news.naver.com/main/read.nhn?mode=LSD&...   \n",
       "14  https://news.naver.com/main/read.nhn?mode=LSD&...   \n",
       "15  https://news.naver.com/main/read.nhn?mode=LSD&...   \n",
       "16  https://news.naver.com/main/read.nhn?mode=LSD&...   \n",
       "17  https://news.naver.com/main/read.nhn?mode=LSD&...   \n",
       "18  https://news.naver.com/main/read.nhn?mode=LSD&...   \n",
       "19  https://news.naver.com/main/read.nhn?mode=LSD&...   \n",
       "\n",
       "                                                title  \n",
       "0                        [코스닥 공시] 톱텍 / 셀리버리 / 코오롱생명과학  \n",
       "1                             삼성전자, 해외법인 감사도 딜로이트로 변경  \n",
       "2             시공 ‘TOP 10’에 진입한 호반건설, ‘호반써밋’으로 브랜드 차별화  \n",
       "3                         향후 10년은 `Digitize or Die`시대  \n",
       "4                           예산(당진방향)휴게소 화장실 문화 캠페인 실시  \n",
       "5                   [단독] 다시 뭉친 LG 키맨…\"스타트업에 날개 달아주겠다\"  \n",
       "6                               유튜브 CEO \"유튜버들, 좀 쉬어라\"  \n",
       "7                                 카페 `테이크아웃 컵`도 돈 받는다  \n",
       "8                                 [표] 주요 시세 (11월 22일)  \n",
       "9               SK바이오팜, 내년초 IPO 대박 예감… 母회사 SK 주가에도 호재  \n",
       "10  [SK바이오팜 뇌전증 신약, 美FDA 승인] 실패에도 과감한 투자… \"혁신과 패기,...  \n",
       "11         국내 난방텐트 시장점유율 1위 브랜드 ‘따수미’, 국내를 넘어 해외까지 도약  \n",
       "12                              오늘의 레이더M 뉴스 (11월 23일)  \n",
       "13                        전기차 배터리 사용량 감소 추세…국내 3사는 선방  \n",
       "14                           뮤지코인, TJ미디어 코인노래방 이벤트 화제  \n",
       "15                   박영선 장관 \"소공연 정관어긴 정치활동 국민찬성 않을 것\"  \n",
       "16                                    \"예금하려면 보관료 내세요\"  \n",
       "17         [마켓인사이트]동남아시아 데카콘 '고젝', 산은 넥스트라운드서 국내 첫 IR  \n",
       "18                 [종합] 이재용 측 \"뇌물 강요 받은 것…자발적 지원 아니다\"  \n",
       "19                                     [사진]키신저 만난 시진핑  "
      ]
     },
     "execution_count": 96,
     "metadata": {},
     "output_type": "execute_result"
    }
   ],
   "source": [
    "get_articles(101,20191122,1)"
   ]
  },
  {
   "cell_type": "code",
   "execution_count": null,
   "metadata": {},
   "outputs": [],
   "source": [
    "dfs = []\n",
    "date = 20191122\n"
   ]
  }
 ],
 "metadata": {
  "kernelspec": {
   "display_name": "Python 3",
   "language": "python",
   "name": "python3"
  },
  "language_info": {
   "codemirror_mode": {
    "name": "ipython",
    "version": 3
   },
   "file_extension": ".py",
   "mimetype": "text/x-python",
   "name": "python",
   "nbconvert_exporter": "python",
   "pygments_lexer": "ipython3",
   "version": "3.7.3"
  }
 },
 "nbformat": 4,
 "nbformat_minor": 2
}
