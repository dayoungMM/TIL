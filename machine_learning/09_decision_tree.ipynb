{
 "cells": [
  {
   "cell_type": "markdown",
   "metadata": {},
   "source": [
    "# 의사결정나무\n",
    "- 전체 학습 데이터 집합(부모 노드)을 해당 독립변수의 값이 기준값보다 작은 데이터 그룹(자식노드 1)과 해당 독립변수의 값이 기준값보다 큰 데이터 그룹(자식노드 2)으로 나누는 방식\n",
    "- 노드에 속한 데이터의 클래스 비율을 구해 조건부 확률분포 구함\n",
    "$$ P(Y=k|X)_{\\text{node}} \\approx \\dfrac{N_{\\text{node},k}}{N_{\\text{node}}} $$\n",
    "\n",
    "- 테스트 데이터의 분류결과를 예측할 때에는 마지막에 도달하는 조건부 확률분포를 이용해 예측\n",
    "$$ \\hat{Y} = \\text{arg}\\max_k P(Y=k|X_{\\text{test}})_{\\text{last node}} $$\n"
   ]
  },
  {
   "cell_type": "code",
   "execution_count": null,
   "metadata": {},
   "outputs": [],
   "source": []
  }
 ],
 "metadata": {
  "kernelspec": {
   "display_name": "Python 3",
   "language": "python",
   "name": "python3"
  },
  "language_info": {
   "codemirror_mode": {
    "name": "ipython",
    "version": 3
   },
   "file_extension": ".py",
   "mimetype": "text/x-python",
   "name": "python",
   "nbconvert_exporter": "python",
   "pygments_lexer": "ipython3",
   "version": "3.7.4"
  }
 },
 "nbformat": 4,
 "nbformat_minor": 2
}
