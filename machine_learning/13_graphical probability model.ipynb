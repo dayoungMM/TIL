{
 "cells": [
  {
   "cell_type": "code",
   "execution_count": 51,
   "metadata": {},
   "outputs": [],
   "source": [
    "import os\n",
    "os.environ[\"PATH\"] += os.pathsep + 'C:/Program Files (x86)/Graphviz2.38/bin/'"
   ]
  },
  {
   "cell_type": "code",
   "execution_count": 53,
   "metadata": {},
   "outputs": [],
   "source": [
    "# import networkx as nx\n",
    "# from IPython.core.display import Image\n",
    "# from networkx.drawing.nx_pydot import to_pydot\n",
    "\n",
    "# g1 = nx.DiGraph()\n",
    "# g1.add_edge(\"A\", \"B\")\n",
    "# g1.add_edge(\"B\", \"C\")\n",
    "# d1 = to_pydot(g1)\n",
    "# d1.set_dpi(300)\n",
    "# d1.set_rankdir(\"LR\")\n",
    "# d1.set_margin(0.2)\n",
    "# Image(d1.create_png(), width=600)"
   ]
  },
  {
   "cell_type": "markdown",
   "metadata": {},
   "source": [
    "Graphviz 설치 오류 또는 경로 설정 이상으로 실행안됨\n",
    "블로그 보고 추후 오류 수정 예정\n",
    ">- http://yeyyyyee.blogspot.com/2019/10/graphviz-dot-not-found-in-path.html\n",
    ">- https://graphviz.gitlab.io/_pages/Download/Download_windows.html\n"
   ]
  },
  {
   "cell_type": "markdown",
   "metadata": {},
   "source": [
    "## 베이지안 네트워크 모형\n",
    ">베이지안 네트워크 모형 : 인과관계가 확실하여 방향성 그래프를 표시할 수 있는 모형"
   ]
  },
  {
   "cell_type": "markdown",
   "metadata": {},
   "source": [
    "예)\n",
    "\n",
    "A, B, C가 각각 어떤 학생의 \n",
    "\n",
    "* A: 건강 상태\n",
    "* B: 공부 시간\n",
    "* C: 시험 성적\n",
    "\n",
    "을 나타낸 것이라고 하자. 이 확률변수는 각각 $\\{0, 1, 2\\}$라는 값을 가질 수 있는데 하(0), 중(1), 상(2)의 상태를 나타낸다. \n",
    "즉 $A=0$이면 건강 상태가 안좋은 것이고 $B=1$이면 공부 시간이 보통이며 $C=2$이면 시험 성적이 좋은 것이다.\n",
    "\n",
    "조건부 확률 분포를 표로 나타내면 다음과 같다"
   ]
  },
  {
   "cell_type": "code",
   "execution_count": 3,
   "metadata": {},
   "outputs": [
    {
     "name": "stdout",
     "output_type": "stream",
     "text": [
      "+------+-----+\n",
      "| A(0) | 0.1 |\n",
      "+------+-----+\n",
      "| A(1) | 0.6 |\n",
      "+------+-----+\n",
      "| A(2) | 0.3 |\n",
      "+------+-----+\n"
     ]
    }
   ],
   "source": [
    "from pgmpy.factors.discrete import TabularCPD\n",
    "\n",
    "## 3인자 가지면 (3,1) 형태로 확률 입력\n",
    "\n",
    "P_A  = TabularCPD('A', 3, [[0.1],[0.6],[0.3]])\n",
    "print(P_A)\n"
   ]
  },
  {
   "cell_type": "code",
   "execution_count": 4,
   "metadata": {},
   "outputs": [
    {
     "name": "stdout",
     "output_type": "stream",
     "text": [
      "+------+------+------+------+\n",
      "| A    | A(0) | A(1) | A(2) |\n",
      "+------+------+------+------+\n",
      "| B(0) | 0.6  | 0.2  | 0.1  |\n",
      "+------+------+------+------+\n",
      "| B(1) | 0.3  | 0.5  | 0.3  |\n",
      "+------+------+------+------+\n",
      "| B(2) | 0.1  | 0.3  | 0.6  |\n",
      "+------+------+------+------+\n"
     ]
    }
   ],
   "source": [
    "# P(B|A)\n",
    "# 확률 입력은 행단위로\n",
    "P_B_I_A = TabularCPD('B', 3, \n",
    "                     np.array([[0.6, 0.2, 0.1], [0.3, 0.5, 0.3], [0.1, 0.3, 0.6]]),\n",
    "                    evidence=['A'], evidence_card =[3])\n",
    "print(P_B_I_A)"
   ]
  },
  {
   "cell_type": "code",
   "execution_count": 6,
   "metadata": {},
   "outputs": [],
   "source": [
    "from pgmpy.factors.discrete import TabularCPD\n",
    "from pgmpy.models import BayesianModel\n",
    "\n",
    "\n",
    "P_A = TabularCPD('A', 3, [[0.1],[0.6], [0.3]])\n",
    "P_B_I_A = TabularCPD('B', 3, \n",
    "    np.array([[0.6, 0.2, 0.1], [0.3, 0.5, 0.3], [0.1, 0.3, 0.6]]),\n",
    "    evidence=['A'], evidence_card=[3])\n",
    "P_C_I_B = TabularCPD('C', 3, \n",
    "    np.array([[0.7, 0.1, 0.1], [0.2, 0.6, 0.1], [0.1, 0.3, 0.8]]),\n",
    "    evidence=['B'], evidence_card=[3])\n",
    "                     \n",
    "model = BayesianModel([('A', 'B'), ('B', 'C')])\n",
    "model.add_cpds(P_A, P_B_I_A, P_C_I_B)\n",
    "\n",
    "# d = to_pydot(model)\n",
    "# d.set_dpi(300)\n",
    "# d.set_margin(0.2)\n",
    "# d.set_rankdir(\"LR\")\n",
    "# Image(d.create_png(), width=600)"
   ]
  },
  {
   "cell_type": "markdown",
   "metadata": {},
   "source": [
    "CPD 객체는 `marginalize` 메서드로 특정 변수의 모든 경우의 확률을 더하는 sum-out을 할 수 있다.\n",
    "\n",
    "$$ P(B) = \\sum_A P(A,B) = \\sum_A P(B|A)P(A) $$"
   ]
  },
  {
   "cell_type": "code",
   "execution_count": 7,
   "metadata": {},
   "outputs": [
    {
     "name": "stdout",
     "output_type": "stream",
     "text": [
      "+------+----------------------+------+------+\n",
      "| A    | A(0)                 | A(1) | A(2) |\n",
      "+------+----------------------+------+------+\n",
      "| B(0) | 0.06                 | 0.12 | 0.03 |\n",
      "+------+----------------------+------+------+\n",
      "| B(1) | 0.03                 | 0.3  | 0.09 |\n",
      "+------+----------------------+------+------+\n",
      "| B(2) | 0.010000000000000002 | 0.18 | 0.18 |\n",
      "+------+----------------------+------+------+\n"
     ]
    }
   ],
   "source": [
    "#P(A,B)\n",
    "print(P_B_I_A * P_A)"
   ]
  },
  {
   "cell_type": "code",
   "execution_count": 8,
   "metadata": {},
   "outputs": [
    {
     "name": "stdout",
     "output_type": "stream",
     "text": [
      "+------+------+\n",
      "| B(0) | 0.21 |\n",
      "+------+------+\n",
      "| B(1) | 0.42 |\n",
      "+------+------+\n",
      "| B(2) | 0.37 |\n",
      "+------+------+\n"
     ]
    }
   ],
   "source": [
    "# sum(P(A,B)) = P(B)\n",
    "P_B = (P_B_I_A * P_A).marginalize([\"A\"],inplace = False)\n",
    "print(P_B)"
   ]
  },
  {
   "cell_type": "code",
   "execution_count": 9,
   "metadata": {},
   "outputs": [
    {
     "name": "stdout",
     "output_type": "stream",
     "text": [
      "+------+------+------+------+\n",
      "| B    | B(0) | B(1) | B(2) |\n",
      "+------+------+------+------+\n",
      "| C(0) | 0.7  | 0.1  | 0.1  |\n",
      "+------+------+------+------+\n",
      "| C(1) | 0.2  | 0.6  | 0.1  |\n",
      "+------+------+------+------+\n",
      "| C(2) | 0.1  | 0.3  | 0.8  |\n",
      "+------+------+------+------+\n"
     ]
    }
   ],
   "source": [
    "#P(C|B)\n",
    "P_C_I_B = TabularCPD('C', 3, \n",
    "    np.array([[0.7, 0.1, 0.1], [0.2, 0.6, 0.1], [0.1, 0.3, 0.8]]),\n",
    "    evidence=['B'], evidence_card=[3])\n",
    "print(P_C_I_B)"
   ]
  },
  {
   "cell_type": "code",
   "execution_count": 10,
   "metadata": {},
   "outputs": [
    {
     "name": "stdout",
     "output_type": "stream",
     "text": [
      "+------+-------+\n",
      "| C(0) | 0.226 |\n",
      "+------+-------+\n",
      "| C(1) | 0.331 |\n",
      "+------+-------+\n",
      "| C(2) | 0.443 |\n",
      "+------+-------+\n"
     ]
    }
   ],
   "source": [
    "#P(C)= Sum(P(C,B))\n",
    "P_C = (P_C_I_B* P_B).marginalize([\"B\"], inplace=False)\n",
    "print(P_C)"
   ]
  },
  {
   "cell_type": "markdown",
   "metadata": {},
   "source": [
    "### 조건부 확률들을 결합하여 베이지안 네트워크로 만들기"
   ]
  },
  {
   "cell_type": "code",
   "execution_count": 11,
   "metadata": {},
   "outputs": [
    {
     "data": {
      "text/plain": [
       "True"
      ]
     },
     "execution_count": 11,
     "metadata": {},
     "output_type": "execute_result"
    }
   ],
   "source": [
    "from pgmpy.models import BayesianModel\n",
    "\n",
    "model = BayesianModel([('A','B'),('B','C')])\n",
    "model.add_cpds(P_A, P_B_I_A, P_C_I_B)\n",
    "model.check_model()"
   ]
  },
  {
   "cell_type": "code",
   "execution_count": 12,
   "metadata": {},
   "outputs": [],
   "source": [
    "# from IPython.core.display import Image\n",
    "# from networkx.drawing.nx_pydot import to_pydot\n",
    "\n",
    "# d = to_pydot(model)\n",
    "# d.set_dpi(300)\n",
    "# d.set_margin(0.2)\n",
    "# d.set_rankdir(\"LR\")\n",
    "# Image(d.create_png(), width=600)"
   ]
  },
  {
   "cell_type": "markdown",
   "metadata": {},
   "source": [
    "건강 상태가 좋은 경우(A=2)의 성적(C) 분포를 구하라."
   ]
  },
  {
   "cell_type": "code",
   "execution_count": 13,
   "metadata": {},
   "outputs": [
    {
     "name": "stderr",
     "output_type": "stream",
     "text": [
      "Finding Elimination Order: : 100%|██████████| 1/1 [00:00<00:00, 143.55it/s]\n",
      "Eliminating: B: 100%|██████████| 1/1 [00:00<00:00, 255.11it/s]\n"
     ]
    },
    {
     "name": "stdout",
     "output_type": "stream",
     "text": [
      "+------+----------+\n",
      "| C    |   phi(C) |\n",
      "+======+==========+\n",
      "| C(0) |   0.1600 |\n",
      "+------+----------+\n",
      "| C(1) |   0.2600 |\n",
      "+------+----------+\n",
      "| C(2) |   0.5800 |\n",
      "+------+----------+\n"
     ]
    }
   ],
   "source": [
    "#P(C|A=2)\n",
    "from pgmpy.inference import VariableElimination\n",
    "infer = VariableElimination(model)\n",
    "\n",
    "print(infer.query([\"C\"], evidence={\"A\": 2}))"
   ]
  },
  {
   "cell_type": "code",
   "execution_count": 14,
   "metadata": {},
   "outputs": [
    {
     "name": "stdout",
     "output_type": "stream",
     "text": [
      "+------+------+\n",
      "| C(0) | 0.16 |\n",
      "+------+------+\n",
      "| C(1) | 0.26 |\n",
      "+------+------+\n",
      "| C(2) | 0.58 |\n",
      "+------+------+\n"
     ]
    }
   ],
   "source": [
    "#P(A=2)\n",
    "P_A2 = TabularCPD('A', 3, [[0],[0], [1]])\n",
    "#P(B) = Sum(P(B,A=2))\n",
    "P_B = (P_B_I_A * P_A2).marginalize([\"A\"], inplace=False)\n",
    "#P(C)= Sum(P(C,B))\n",
    "P_C = (P_C_I_B * P_B).marginalize([\"B\"], inplace=False)\n",
    "print(P_C)\n"
   ]
  },
  {
   "cell_type": "markdown",
   "metadata": {},
   "source": [
    "건강 상태는 좋지만(A=2), 공부를 하지 않는 경우(B=0)의 성적 분포를 구하라."
   ]
  },
  {
   "cell_type": "code",
   "execution_count": 15,
   "metadata": {},
   "outputs": [
    {
     "name": "stdout",
     "output_type": "stream",
     "text": [
      "+------+-----+\n",
      "| C(0) | 0.7 |\n",
      "+------+-----+\n",
      "| C(1) | 0.2 |\n",
      "+------+-----+\n",
      "| C(2) | 0.1 |\n",
      "+------+-----+\n"
     ]
    }
   ],
   "source": [
    "from pgmpy.inference import VariableElimination\n",
    "infer = VariableElimination(model)\n",
    "\n",
    "#P(B=0), A는 상관없다\n",
    "P_B2 = TabularCPD('B', 3, [[1],[0], [0]])\n",
    "P_C = (P_C_I_B* P_B2).marginalize([\"B\"], inplace=False)\n",
    "print(P_C)"
   ]
  },
  {
   "cell_type": "code",
   "execution_count": 16,
   "metadata": {},
   "outputs": [
    {
     "name": "stderr",
     "output_type": "stream",
     "text": [
      "Finding Elimination Order: : : 0it [00:00, ?it/s]\n",
      "0it [00:00, ?it/s]\n"
     ]
    },
    {
     "name": "stdout",
     "output_type": "stream",
     "text": [
      "+------+----------+\n",
      "| C    |   phi(C) |\n",
      "+======+==========+\n",
      "| C(0) |   0.7000 |\n",
      "+------+----------+\n",
      "| C(1) |   0.2000 |\n",
      "+------+----------+\n",
      "| C(2) |   0.1000 |\n",
      "+------+----------+\n"
     ]
    }
   ],
   "source": [
    "from pgmpy.inference import VariableElimination\n",
    "infer = VariableElimination(model)\n",
    "\n",
    "print(infer.query([\"C\"], evidence={\"A\": 2, \"B\":0}))"
   ]
  },
  {
   "cell_type": "code",
   "execution_count": 17,
   "metadata": {},
   "outputs": [
    {
     "name": "stderr",
     "output_type": "stream",
     "text": [
      "Finding Elimination Order: : 100%|██████████| 1/1 [00:00<00:00, 247.95it/s]\n",
      "Eliminating: C: 100%|██████████| 1/1 [00:00<00:00, 167.38it/s]\n"
     ]
    },
    {
     "name": "stdout",
     "output_type": "stream",
     "text": [
      "+------+----------+\n",
      "| A    |   phi(A) |\n",
      "+======+==========+\n",
      "| A(0) |   0.2857 |\n",
      "+------+----------+\n",
      "| A(1) |   0.5714 |\n",
      "+------+----------+\n",
      "| A(2) |   0.1429 |\n",
      "+------+----------+\n"
     ]
    }
   ],
   "source": [
    "from pgmpy.inference import VariableElimination\n",
    "infer = VariableElimination(model)\n",
    "\n",
    "print(infer.query([\"A\"], evidence={\"B\": 0}))"
   ]
  },
  {
   "cell_type": "code",
   "execution_count": 18,
   "metadata": {},
   "outputs": [
    {
     "name": "stderr",
     "output_type": "stream",
     "text": [
      "Finding Elimination Order: : : 0it [00:00, ?it/s]\n",
      "0it [00:00, ?it/s]\n"
     ]
    },
    {
     "name": "stdout",
     "output_type": "stream",
     "text": [
      "+------+----------+\n",
      "| A    |   phi(A) |\n",
      "+======+==========+\n",
      "| A(0) |   0.2857 |\n",
      "+------+----------+\n",
      "| A(1) |   0.5714 |\n",
      "+------+----------+\n",
      "| A(2) |   0.1429 |\n",
      "+------+----------+\n"
     ]
    }
   ],
   "source": [
    "print(infer.query([\"A\"], evidence={\"B\": 0, \"C\":0}))"
   ]
  },
  {
   "cell_type": "markdown",
   "metadata": {},
   "source": [
    "## 베이지안 네트워크의 결합확률분포"
   ]
  },
  {
   "cell_type": "markdown",
   "metadata": {},
   "source": [
    "베이지안 네트워크를 만들려면 조사 대상이 되는 확률변수를 노드(node)로 생성하고 인과관계가 있는 노드를 방향성 간선(directed edge)로 연결한다. \n",
    "베이지안 네트워크를 구성하는 확률변수의 결합확률분포는 다음처럼 주어진다.\n",
    "\n",
    "$$ P(X_1, \\cdots, X_N) = \\prod_{i=1}^N P(X_i | Pa(X_i)) $$"
   ]
  },
  {
   "attachments": {
    "image.png": {
     "image/png": "[encoded data removed]"
    }
   },
   "cell_type": "markdown",
   "metadata": {},
   "source": [
    "![image.png](attachment:image.png)"
   ]
  },
  {
   "cell_type": "markdown",
   "metadata": {},
   "source": [
    "### 머리- 머리 결합\n",
    "- A,B가 서로 독립이다. \n",
    "- 하지만 C값을 알고있다면 A,B가 서로 종속관계가 된다\n",
    "- 수식으로 표현하면 다음과 같다\n",
    "$$ P(A,B,C) = P(A)P(B)P(C|A,B) $$\n",
    "\n",
    "$$ P(A,B) = \\sum_c P(A)P(B)P(C|A,B) = P(A)P(B) $$\n"
   ]
  },
  {
   "attachments": {
    "image.png": {
     "image/png": "[encoded data removed]"
    }
   },
   "cell_type": "markdown",
   "metadata": {},
   "source": [
    "![image.png](attachment:image.png)"
   ]
  },
  {
   "cell_type": "markdown",
   "metadata": {},
   "source": [
    "### 방향성 분리(d-seperation)정리\n",
    "- A와 B가 C에 대해서 조건부 독립인 경우 다음 조건을 만족해야한다\n",
    "1. C가 A,B 사이의 경로상에 있는 꼬리-꼬리 결합이거나, 머리-꼬리 결합이다.\n",
    "2. C가 A,B 사이의 경로상에 있는 머리-머리 결합이거나 혹은 이러한 노드의 자손이 아니어야 한다.\n"
   ]
  },
  {
   "cell_type": "markdown",
   "metadata": {},
   "source": [
    "## 마코프 네트워크\n",
    "- 무방향성 그래프"
   ]
  },
  {
   "attachments": {
    "image.png": {
     "image/png": "[encoded data removed]"
    }
   },
   "cell_type": "markdown",
   "metadata": {},
   "source": [
    "![image.png](attachment:image.png)"
   ]
  },
  {
   "cell_type": "markdown",
   "metadata": {},
   "source": [
    "### 클리크와 팩터\n",
    "- 마코프 네트워크를 구성하는 요소\n",
    "- 클리크를 구성하는 확률변수의 분포 : 포텐셜 함수(팩터)\n",
    "    \n",
    "<br>\n",
    "- 팩터(factor)\n",
    "\n",
    "> 가능한 모든 결과의 조합에 대한 결합확률분포 또는 조건부확률분포에 비례하는 함수\n",
    "\n",
    ">더해서 1이 되어야 할 필요는 없다.\n",
    "\n",
    "\n",
    "$$ p(X, Y) = \\dfrac{1}{Z}\\psi_1(X, Y) $$\n",
    "\n",
    "$$ p(X | Y) = \\dfrac{1}{Z}\\psi_2(X, Y) $$\n",
    "\n"
   ]
  },
  {
   "cell_type": "code",
   "execution_count": 19,
   "metadata": {},
   "outputs": [
    {
     "name": "stdout",
     "output_type": "stream",
     "text": [
      "+-------+-------+-------+-----------------+\n",
      "| x1    | x2    | x3    |   phi(x1,x2,x3) |\n",
      "+=======+=======+=======+=================+\n",
      "| x1(0) | x2(0) | x3(0) |          0.0000 |\n",
      "+-------+-------+-------+-----------------+\n",
      "| x1(0) | x2(0) | x3(1) |          1.0000 |\n",
      "+-------+-------+-------+-----------------+\n",
      "| x1(0) | x2(1) | x3(0) |          2.0000 |\n",
      "+-------+-------+-------+-----------------+\n",
      "| x1(0) | x2(1) | x3(1) |          3.0000 |\n",
      "+-------+-------+-------+-----------------+\n",
      "| x1(1) | x2(0) | x3(0) |          4.0000 |\n",
      "+-------+-------+-------+-----------------+\n",
      "| x1(1) | x2(0) | x3(1) |          5.0000 |\n",
      "+-------+-------+-------+-----------------+\n",
      "| x1(1) | x2(1) | x3(0) |          6.0000 |\n",
      "+-------+-------+-------+-----------------+\n",
      "| x1(1) | x2(1) | x3(1) |          7.0000 |\n",
      "+-------+-------+-------+-----------------+\n"
     ]
    }
   ],
   "source": [
    "#DiscreateFactor : 팩터정의하는 함수\n",
    "from pgmpy.factors.discrete import DiscreteFactor\n",
    "\n",
    "#팩터 정의\n",
    "phi = DiscreteFactor(['x1','x2','x3'],[2,2,2],np.arange(8))\n",
    "print(phi)"
   ]
  },
  {
   "cell_type": "code",
   "execution_count": 22,
   "metadata": {},
   "outputs": [
    {
     "name": "stdout",
     "output_type": "stream",
     "text": [
      "+------+------+------+------+\n",
      "| A    | A(0) | A(1) | A(2) |\n",
      "+------+------+------+------+\n",
      "| B(0) | 0.6  | 0.2  | 0.1  |\n",
      "+------+------+------+------+\n",
      "| B(1) | 0.3  | 0.5  | 0.3  |\n",
      "+------+------+------+------+\n",
      "| B(2) | 0.1  | 0.3  | 0.6  |\n",
      "+------+------+------+------+\n"
     ]
    }
   ],
   "source": [
    "# to_factor CPD 결합본포 객체를 팩터로 변환 (결합확률분포에 비례)\n",
    "print(P_B_I_A)"
   ]
  },
  {
   "cell_type": "code",
   "execution_count": 24,
   "metadata": {},
   "outputs": [
    {
     "name": "stdout",
     "output_type": "stream",
     "text": [
      "+------+------+------------+\n",
      "| B    | A    |   phi(B,A) |\n",
      "+======+======+============+\n",
      "| B(0) | A(0) |     0.6000 |\n",
      "+------+------+------------+\n",
      "| B(0) | A(1) |     0.2000 |\n",
      "+------+------+------------+\n",
      "| B(0) | A(2) |     0.1000 |\n",
      "+------+------+------------+\n",
      "| B(1) | A(0) |     0.3000 |\n",
      "+------+------+------------+\n",
      "| B(1) | A(1) |     0.5000 |\n",
      "+------+------+------------+\n",
      "| B(1) | A(2) |     0.3000 |\n",
      "+------+------+------------+\n",
      "| B(2) | A(0) |     0.1000 |\n",
      "+------+------+------------+\n",
      "| B(2) | A(1) |     0.3000 |\n",
      "+------+------+------------+\n",
      "| B(2) | A(2) |     0.6000 |\n",
      "+------+------+------------+\n"
     ]
    }
   ],
   "source": [
    "print(P_B_I_A.to_factor())"
   ]
  },
  {
   "cell_type": "code",
   "execution_count": 29,
   "metadata": {},
   "outputs": [
    {
     "name": "stdout",
     "output_type": "stream",
     "text": [
      "+------+----------+\n",
      "| A    |   phi(A) |\n",
      "+======+==========+\n",
      "| A(0) |   0.6000 |\n",
      "+------+----------+\n",
      "| A(1) |   0.2000 |\n",
      "+------+----------+\n",
      "| A(2) |   0.1000 |\n",
      "+------+----------+\n"
     ]
    }
   ],
   "source": [
    "## reduce: (factor 개체)어떤 확률변수가 특정한 값을 가지는 경우만 추출\n",
    "### likelihood 여서 합이 1이 아니라는것 염두\n",
    "### B=0일때 조건부확률에 비례하는 값\n",
    "print(P_B_I_A.to_factor().reduce([(\"B\",0)], inplace=False))\n",
    "\n"
   ]
  },
  {
   "cell_type": "markdown",
   "metadata": {},
   "source": [
    "## nomalize : 정규화\n",
    "- 합이 1이 되도록 정규화\n",
    "- 조건부확률"
   ]
  },
  {
   "cell_type": "code",
   "execution_count": 30,
   "metadata": {},
   "outputs": [
    {
     "name": "stdout",
     "output_type": "stream",
     "text": [
      "+------+----------+\n",
      "| A    |   phi(A) |\n",
      "+======+==========+\n",
      "| A(0) |   0.6667 |\n",
      "+------+----------+\n",
      "| A(1) |   0.2222 |\n",
      "+------+----------+\n",
      "| A(2) |   0.1111 |\n",
      "+------+----------+\n"
     ]
    }
   ],
   "source": [
    "# P(A|B=0) => 조건부확률\n",
    "print(P_B_I_A.to_factor().reduce([(\"B\",0)], inplace=False).normalize(inplace=False))"
   ]
  },
  {
   "cell_type": "markdown",
   "metadata": {},
   "source": [
    "## 마코프 네트워크의 결합확률분포\n",
    "- 모든 클리크의 팩터의 곱\n",
    "\n",
    "$$ P(X) = \\dfrac{1}{Z(X)} \\prod_{\\{C\\}} \\psi_C(X_C) $$\n",
    "\n",
    "\n",
    "$C$는 클리크, $X_C$는 그 클리크 안의 확률변수, $\\psi_C$는 그 클리크의 팩터, $\\{C\\}$는 모든 클리크의 집합, $Z$는 파티션 함수(partition)함수\n",
    "\n",
    "예)\n",
    "3 x 3 이미지의 경우 9개의 확률변수의 결합확률분포는 다음처럼 표현할 수 있다.\n",
    "\n",
    "$$ \n",
    "P(X_{11}, \\ldots, X_{33}) = \n",
    "\\dfrac{1}{Z}\n",
    "\\prod \n",
    "\\psi(X_{11}, X_{12}) \n",
    "\\psi(X_{11}, X_{21}) \n",
    "\\psi(X_{12}, X_{13}) \n",
    "\\cdots\n",
    "\\psi(X_{23}, X_{33}) \n",
    "\\psi(X_{32}, X_{33}) \n",
    "$$"
   ]
  },
  {
   "cell_type": "markdown",
   "metadata": {},
   "source": [
    "## 에너지 함수\n",
    "- 벡터함수는 다음과 같은 형태로 표시할 수 있다.\n",
    "\n",
    "$$ \\psi(X) = \\exp(−E(X)) $$\n",
    "\n",
    "$E(X)$ : 에너지 함수(energe function). 확률이 높을수록 에너지 함수는 작아짐\n",
    "\n",
    "예)\n",
    "\n",
    "베르누이 확률변수(값 0,1) $X1$,$X2$\n",
    "$$ E(X_1, X_2) = -3(2X_1 - 1)(2X_2 - 1) $$\n",
    "\n",
    "- 펙터의 값\n",
    "> $$ \\psi(X_1 = 1, X_2 = 1) = e^3 $$\n",
    "$$ \\psi(X_1 = 0, X_2 = 0) = e^3 $$\n",
    "$$ \\psi(X_1 = 1, X_2 = 0) = e^{-3} $$\n",
    "$$ \\psi(X_1 = 0, X_2 = 1) = e^{-3} $$"
   ]
  },
  {
   "cell_type": "markdown",
   "metadata": {},
   "source": [
    "# 네트워크 추론"
   ]
  },
  {
   "cell_type": "markdown",
   "metadata": {},
   "source": [
    "- 확률모형에서 일부 확률변수의 값이 주어졌을 때 다른 확률 변수의 값이 얼마인지 알아내는 것\n",
    "\n",
    "> 조건부 확률분포함수 $p(X_{\\text{unknown}}|\\{X\\}_{\\text{known}})$를 알면 일부 확률변수의 값 $\\{X\\}_{\\text{known}}$이 주어졌을 때 다른 확률변수 $X_{\\text{unknown}}$의 확률 $p(X_{\\text{unknown}})$을 알 수 있으므로 추론은 조건부 확률분포함수 $p(X_{\\text{unknown}}|\\{X\\}_{\\text{known}})$를 알아내는 것과 같다."
   ]
  },
  {
   "cell_type": "code",
   "execution_count": 38,
   "metadata": {},
   "outputs": [
    {
     "name": "stdout",
     "output_type": "stream",
     "text": [
      "+------+-----+\n",
      "| A(0) | 0.1 |\n",
      "+------+-----+\n",
      "| A(1) | 0.6 |\n",
      "+------+-----+\n",
      "| A(2) | 0.3 |\n",
      "+------+-----+\n",
      "==================================================\n",
      "+------+------+------+------+\n",
      "| A    | A(0) | A(1) | A(2) |\n",
      "+------+------+------+------+\n",
      "| B(0) | 0.6  | 0.2  | 0.1  |\n",
      "+------+------+------+------+\n",
      "| B(1) | 0.3  | 0.5  | 0.3  |\n",
      "+------+------+------+------+\n",
      "| B(2) | 0.1  | 0.3  | 0.6  |\n",
      "+------+------+------+------+\n",
      "==================================================\n",
      "+------+------+------+------+\n",
      "| B    | B(0) | B(1) | B(2) |\n",
      "+------+------+------+------+\n",
      "| C(0) | 0.7  | 0.1  | 0.1  |\n",
      "+------+------+------+------+\n",
      "| C(1) | 0.2  | 0.6  | 0.1  |\n",
      "+------+------+------+------+\n",
      "| C(2) | 0.1  | 0.3  | 0.8  |\n",
      "+------+------+------+------+\n"
     ]
    }
   ],
   "source": [
    "from pgmpy.factors.discrete import TabularCPD\n",
    "from pgmpy.models import BayesianModel\n",
    "\n",
    "# A :건강상태\n",
    "# B : 공부시간\n",
    "# c : 시험성적\n",
    "## 각각 하,중,상 값을 가짐\n",
    "\n",
    "P_A = TabularCPD('A', 3, [[0.1],[ 0.6], [0.3]])\n",
    "P_B_I_A = TabularCPD('B', 3, \n",
    "    np.array([[0.6, 0.2, 0.1], [0.3, 0.5, 0.3], [0.1, 0.3, 0.6]]),\n",
    "    evidence=['A'], evidence_card=[3])\n",
    "P_C_I_B = TabularCPD('C', 3, \n",
    "    np.array([[0.7, 0.1, 0.1], [0.2, 0.6, 0.1], [0.1, 0.3, 0.8]]),\n",
    "    evidence=['B'], evidence_card=[3])\n",
    "print(P_A)\n",
    "print('='*50)\n",
    "print(P_B_I_A)\n",
    "print('='*50)\n",
    "print(P_C_I_B)"
   ]
  },
  {
   "cell_type": "markdown",
   "metadata": {},
   "source": [
    "### 연습문제\n",
    "이 그래프 확률모형을 기반으로 다음과 같은 문제를 풀어보자.\n",
    "\n",
    "1. 이 학생의 시험 성적이 어떤 확률분포를 가질 것인가? 어떤 성적을 맞을 확률이 가장 높은가?\n",
    "\n",
    "-> P(C)\n",
    "\n",
    "2. 이 학생의 건강 상태가 좋았다. 어떤 성적을 맞을 확률이 가장 높은가?\n",
    "\n",
    "-> P(C|A=2)\n",
    "\n",
    "3. 이 학생의 공부 시간이 적었지만 시험 성적은 좋았다. 건강 상태가 어땠을까?\n",
    "\n",
    "-> P(A|B =0, C=2)"
   ]
  },
  {
   "cell_type": "code",
   "execution_count": 37,
   "metadata": {},
   "outputs": [
    {
     "name": "stdout",
     "output_type": "stream",
     "text": [
      "+------+------+\n",
      "| B(0) | 0.21 |\n",
      "+------+------+\n",
      "| B(1) | 0.42 |\n",
      "+------+------+\n",
      "| B(2) | 0.37 |\n",
      "+------+------+\n"
     ]
    }
   ],
   "source": [
    "P_B = (P_B_I_A * P_A).marginalize([\"A\"],inplace = False)\n",
    "print(P_B)"
   ]
  },
  {
   "cell_type": "markdown",
   "metadata": {},
   "source": [
    "## 변수제거(variable elimination)\n",
    " > 확률변수 B의 분포가 이미 계산된 상태라면 확률변수 A의 영향은 없어진다\n",
    "\n",
    "$$ P(C) = \\sum_{B} P(C|B)P(B) $$\n",
    "\n",
    ">변수제거 : 이런식으로 알고있는 확률변수 혹은 무조건부 확률변수분포를 알고있는 확률변수부터 네트워크를 따라 차례대로 확률분포를 계산하는 방식"
   ]
  },
  {
   "cell_type": "code",
   "execution_count": 40,
   "metadata": {},
   "outputs": [
    {
     "name": "stderr",
     "output_type": "stream",
     "text": [
      "Finding Elimination Order: : 100%|██████████| 2/2 [00:00<00:00, 219.88it/s]\n",
      "Eliminating: A: 100%|██████████| 2/2 [00:00<00:00, 180.49it/s]\n"
     ]
    },
    {
     "name": "stdout",
     "output_type": "stream",
     "text": [
      "+------+----------+\n",
      "| C    |   phi(C) |\n",
      "+======+==========+\n",
      "| C(0) |   0.2260 |\n",
      "+------+----------+\n",
      "| C(1) |   0.3310 |\n",
      "+------+----------+\n",
      "| C(2) |   0.4430 |\n",
      "+------+----------+\n"
     ]
    }
   ],
   "source": [
    "# 문제 1\n",
    "## 아무런 조건이 없는 경우 시험 성적의 분포\n",
    "\n",
    "from pgmpy.inference import VariableElimination\n",
    "\n",
    "infer = VariableElimination(model)\n",
    "print(infer.query([\"C\"]))"
   ]
  },
  {
   "cell_type": "code",
   "execution_count": 41,
   "metadata": {},
   "outputs": [
    {
     "name": "stderr",
     "output_type": "stream",
     "text": [
      "Finding Elimination Order: : 100%|██████████| 1/1 [00:00<00:00, 200.59it/s]\n",
      "Eliminating: B: 100%|██████████| 1/1 [00:00<00:00, 325.47it/s]\n"
     ]
    },
    {
     "name": "stdout",
     "output_type": "stream",
     "text": [
      "+------+----------+\n",
      "| C    |   phi(C) |\n",
      "+======+==========+\n",
      "| C(0) |   0.1600 |\n",
      "+------+----------+\n",
      "| C(1) |   0.2600 |\n",
      "+------+----------+\n",
      "| C(2) |   0.5800 |\n",
      "+------+----------+\n"
     ]
    }
   ],
   "source": [
    "# 문제 2\n",
    "## 건강상태가 좋았을 때 성적분포\n",
    "print(infer.query([\"C\"], evidence= {\"A\":2}))"
   ]
  },
  {
   "cell_type": "code",
   "execution_count": 42,
   "metadata": {},
   "outputs": [
    {
     "name": "stderr",
     "output_type": "stream",
     "text": [
      "Finding Elimination Order: : : 0it [00:00, ?it/s]\n",
      "0it [00:00, ?it/s]\n"
     ]
    },
    {
     "name": "stdout",
     "output_type": "stream",
     "text": [
      "+------+----------+\n",
      "| A    |   phi(A) |\n",
      "+======+==========+\n",
      "| A(0) |   0.2857 |\n",
      "+------+----------+\n",
      "| A(1) |   0.5714 |\n",
      "+------+----------+\n",
      "| A(2) |   0.1429 |\n",
      "+------+----------+\n"
     ]
    }
   ],
   "source": [
    "# 문제 3\n",
    "## 공부시간은 적었지만, 시험성적이 좋은경우 건강상태 분포\n",
    "print(infer.query([\"A\"], evidence={\"B\":0, \"C\":2}))"
   ]
  },
  {
   "cell_type": "code",
   "execution_count": 44,
   "metadata": {},
   "outputs": [
    {
     "name": "stderr",
     "output_type": "stream",
     "text": [
      "Finding Elimination Order: : 100%|██████████| 1/1 [00:00<00:00, 334.13it/s]\n",
      "Eliminating: C: 100%|██████████| 1/1 [00:00<00:00, 200.49it/s]\n"
     ]
    },
    {
     "name": "stdout",
     "output_type": "stream",
     "text": [
      "+------+----------+\n",
      "| A    |   phi(A) |\n",
      "+======+==========+\n",
      "| A(0) |   0.2857 |\n",
      "+------+----------+\n",
      "| A(1) |   0.5714 |\n",
      "+------+----------+\n",
      "| A(2) |   0.1429 |\n",
      "+------+----------+\n"
     ]
    }
   ],
   "source": [
    "## B를 알고있는 경우 A와 C는 독립이다(머리-꼬리 관계)\n",
    "### 공부시간을 알고있으면 시험성적과 관계없이 건강상태 유추 가능\n",
    "\n",
    "print(infer.query([\"A\"], evidence = {\"B\":0}))"
   ]
  },
  {
   "cell_type": "code",
   "execution_count": 48,
   "metadata": {},
   "outputs": [
    {
     "name": "stdout",
     "output_type": "stream",
     "text": [
      "+------+----------+\n",
      "| A    |   phi(A) |\n",
      "+======+==========+\n",
      "| A(0) |   0.2857 |\n",
      "+------+----------+\n",
      "| A(1) |   0.5714 |\n",
      "+------+----------+\n",
      "| A(2) |   0.1429 |\n",
      "+------+----------+\n"
     ]
    }
   ],
   "source": [
    "# 다른방법\n",
    "print((P_B_I_A * P_A).to_factor().reduce([(\"B\",0)], inplace=False).normalize(inplace=False))"
   ]
  },
  {
   "cell_type": "markdown",
   "metadata": {},
   "source": [
    "### 몬티홀 문제"
   ]
  },
  {
   "cell_type": "code",
   "execution_count": 52,
   "metadata": {},
   "outputs": [
    {
     "name": "stdout",
     "output_type": "stream",
     "text": [
      "+------+------+\n",
      "| C(0) | 0.33 |\n",
      "+------+------+\n",
      "| C(1) | 0.33 |\n",
      "+------+------+\n",
      "| C(2) | 0.33 |\n",
      "+------+------+\n"
     ]
    }
   ],
   "source": [
    "from pgmpy.factors.discrete import TabularCPD\n",
    "\n",
    "# 어떤문에 자동차가 있을 확률은 모두 동일하다\n",
    "P_C = TabularCPD('C', 3, [[0.33], [0.33], [0.33]])\n",
    "print(P_C)"
   ]
  },
  {
   "cell_type": "code",
   "execution_count": 54,
   "metadata": {},
   "outputs": [
    {
     "name": "stdout",
     "output_type": "stream",
     "text": [
      "+------+------+\n",
      "| P(0) | 0.33 |\n",
      "+------+------+\n",
      "| P(1) | 0.33 |\n",
      "+------+------+\n",
      "| P(2) | 0.33 |\n",
      "+------+------+\n"
     ]
    }
   ],
   "source": [
    "# 참가자가 어떤 문을 고를 확률은 모두 동일하다\n",
    "\n",
    "P_P = TabularCPD('P', 3, [[0.33], [0.33], [0.33]])\n",
    "print(P_P)"
   ]
  },
  {
   "cell_type": "code",
   "execution_count": 56,
   "metadata": {},
   "outputs": [
    {
     "name": "stdout",
     "output_type": "stream",
     "text": [
      "+------+------+------+------+------+------+------+------+------+------+\n",
      "| C    | C(0) | C(0) | C(0) | C(1) | C(1) | C(1) | C(2) | C(2) | C(2) |\n",
      "+------+------+------+------+------+------+------+------+------+------+\n",
      "| P    | P(0) | P(1) | P(2) | P(0) | P(1) | P(2) | P(0) | P(1) | P(2) |\n",
      "+------+------+------+------+------+------+------+------+------+------+\n",
      "| H(0) | 0.0  | 0.0  | 0.0  | 0.0  | 0.5  | 1.0  | 0.0  | 1.0  | 0.5  |\n",
      "+------+------+------+------+------+------+------+------+------+------+\n",
      "| H(1) | 0.5  | 0.0  | 1.0  | 0.0  | 0.0  | 0.0  | 1.0  | 0.0  | 0.5  |\n",
      "+------+------+------+------+------+------+------+------+------+------+\n",
      "| H(2) | 0.5  | 1.0  | 0.0  | 1.0  | 0.5  | 0.0  | 0.0  | 0.0  | 0.0  |\n",
      "+------+------+------+------+------+------+------+------+------+------+\n"
     ]
    }
   ],
   "source": [
    "## 진행자가 여는 문은 참가자의 선택에 따라 달라진다(조건부 확률)\n",
    "#P(H|C,P)\n",
    "#C=P 일때는 선택지가 2개이므로 확률 0.5, C!=P일때는 선택지가 1개이므로 확률 0.1)\n",
    "P_H_I_CP = TabularCPD('H',3,[[0,   0, 0, 0, 0.5, 1, 0, 1, 0.5], \n",
    "                               [0.5, 0, 1, 0,   0, 0, 1, 0, 0.5], \n",
    "                               [0.5, 1, 0, 1, 0.5, 0, 0, 0, 0  ]],\n",
    "                      evidence = ['C','P'], evidence_card = [3,3]\n",
    "                     )\n",
    "print(P_H_I_CP)"
   ]
  },
  {
   "cell_type": "code",
   "execution_count": 58,
   "metadata": {},
   "outputs": [],
   "source": [
    "### 모델만들기\n",
    "from pgmpy.models import BayesianModel\n",
    "\n",
    "model_monty = BayesianModel([('C','H'),('P','H')])\n",
    "model_monty.add_cpds(P_C, P_P, P_H_I_CP)"
   ]
  },
  {
   "cell_type": "code",
   "execution_count": 59,
   "metadata": {},
   "outputs": [],
   "source": [
    "# 변수제거방법으로 문제 풀기\n",
    "\n",
    "from pgmpy.inference import VariableElimination\n",
    "\n",
    "infer = VariableElimination(model_monty)"
   ]
  },
  {
   "cell_type": "code",
   "execution_count": 60,
   "metadata": {},
   "outputs": [
    {
     "name": "stderr",
     "output_type": "stream",
     "text": [
      "Finding Elimination Order: : : 0it [00:00, ?it/s]\n",
      "0it [00:00, ?it/s]\n"
     ]
    },
    {
     "name": "stdout",
     "output_type": "stream",
     "text": [
      "+------+------+------------+\n",
      "| C    | H    |   phi(C,H) |\n",
      "+======+======+============+\n",
      "| C(0) | H(0) |     0.0000 |\n",
      "+------+------+------------+\n",
      "| C(0) | H(1) |     0.1667 |\n",
      "+------+------+------------+\n",
      "| C(0) | H(2) |     0.1667 |\n",
      "+------+------+------------+\n",
      "| C(1) | H(0) |     0.0000 |\n",
      "+------+------+------------+\n",
      "| C(1) | H(1) |     0.0000 |\n",
      "+------+------+------------+\n",
      "| C(1) | H(2) |     0.3333 |\n",
      "+------+------+------------+\n",
      "| C(2) | H(0) |     0.0000 |\n",
      "+------+------+------------+\n",
      "| C(2) | H(1) |     0.3333 |\n",
      "+------+------+------------+\n",
      "| C(2) | H(2) |     0.0000 |\n",
      "+------+------+------------+\n"
     ]
    }
   ],
   "source": [
    "# 참가자가 0번 문 선택할 때\n",
    "posteriors = infer.query(['C','H'],evidence={'P':0})\n",
    "print(posteriors)"
   ]
  },
  {
   "cell_type": "code",
   "execution_count": 61,
   "metadata": {},
   "outputs": [
    {
     "name": "stderr",
     "output_type": "stream",
     "text": [
      "Finding Elimination Order: : : 0it [00:00, ?it/s]\n",
      "0it [00:00, ?it/s]\n"
     ]
    },
    {
     "name": "stdout",
     "output_type": "stream",
     "text": [
      "+------+----------+\n",
      "| C    |   phi(C) |\n",
      "+======+==========+\n",
      "| C(0) |   0.3333 |\n",
      "+------+----------+\n",
      "| C(1) |   0.0000 |\n",
      "+------+----------+\n",
      "| C(2) |   0.6667 |\n",
      "+------+----------+\n"
     ]
    }
   ],
   "source": [
    "#참가자가 0번 문을 선택하고 진행자가 1번 문을 열었을 때\n",
    "# 선택 유지(0번) 보다 선택변경(2번)을 택하는 것이 차가있을 확률이 2배 높다\n",
    "posterior_c = infer.query(['C'],evidence = {'P':0, 'H':1})\n",
    "print(posterior_c)"
   ]
  },
  {
   "cell_type": "code",
   "execution_count": 62,
   "metadata": {},
   "outputs": [
    {
     "name": "stderr",
     "output_type": "stream",
     "text": [
      "Finding Elimination Order: : : 0it [00:00, ?it/s]\n",
      "0it [00:00, ?it/s]\n"
     ]
    },
    {
     "name": "stdout",
     "output_type": "stream",
     "text": [
      "+------+----------+\n",
      "| C    |   phi(C) |\n",
      "+======+==========+\n",
      "| C(0) |   0.6667 |\n",
      "+------+----------+\n",
      "| C(1) |   0.3333 |\n",
      "+------+----------+\n",
      "| C(2) |   0.0000 |\n",
      "+------+----------+\n"
     ]
    }
   ],
   "source": [
    "#참가자가 0번 문을 선택하고 진행자가 2번 문을 열었을 때\n",
    "# 선택 유지(0번) 보다 선택변경(1번)을 택하는 것이 차가있을 확률이 2배 높다\n",
    "\n",
    "posterior_c = infer.query(['C'], evidence={'P': 1, 'H': 2})\n",
    "print(posterior_c)"
   ]
  },
  {
   "cell_type": "code",
   "execution_count": null,
   "metadata": {},
   "outputs": [],
   "source": []
  }
 ],
 "metadata": {
  "kernelspec": {
   "display_name": "Python 3",
   "language": "python",
   "name": "python3"
  },
  "language_info": {
   "codemirror_mode": {
    "name": "ipython",
    "version": 3
   },
   "file_extension": ".py",
   "mimetype": "text/x-python",
   "name": "python",
   "nbconvert_exporter": "python",
   "pygments_lexer": "ipython3",
   "version": "3.7.4"
  }
 },
 "nbformat": 4,
 "nbformat_minor": 2
}
