{
 "cells": [
  {
   "cell_type": "markdown",
   "metadata": {},
   "source": [
    "# 완주하지 못한 선수\n",
    "수많은 마라톤 선수들이 마라톤에 참여하였습니다. 단 한 명의 선수를 제외하고는 모든 선수가 마라톤을 완주하였습니다.\n",
    "\n",
    "마라톤에 참여한 선수들의 이름이 담긴 배열 participant와 완주한 선수들의 이름이 담긴 배열 completion이 주어질 때, 완주하지 못한 선수의 이름을 return 하도록 solution 함수를 작성해주세요.\n",
    "\n",
    "제한사항\n",
    "마라톤 경기에 참여한 선수의 수는 1명 이상 100,000명 이하입니다.\n",
    "completion의 길이는 participant의 길이보다 1 작습니다.\n",
    "참가자의 이름은 1개 이상 20개 이하의 알파벳 소문자로 이루어져 있습니다.\n",
    "참가자 중에는 동명이인이 있을 수 있습니다."
   ]
  },
  {
   "cell_type": "code",
   "execution_count": 24,
   "metadata": {},
   "outputs": [
    {
     "data": {
      "text/plain": [
       "['leo']"
      ]
     },
     "execution_count": 24,
     "metadata": {},
     "output_type": "execute_result"
    }
   ],
   "source": [
    "from collections import Counter\n",
    "\n",
    "participant = ['leo', 'kiki', 'eden']\n",
    "completion = ['eden', 'kiki']\n",
    "\n",
    "joined = participant + completion\n",
    "# Counter(joined)\n",
    "# [i for i in Counter(joined) if Counter(joined)[i] ==1 ]\n",
    "counter_dict = Counter(joined)\n",
    "[i for i in counter_dict if counter_dict[i]%2 ==1 ]\n"
   ]
  },
  {
   "cell_type": "code",
   "execution_count": 26,
   "metadata": {},
   "outputs": [
    {
     "data": {
      "text/plain": [
       "'mislav'"
      ]
     },
     "execution_count": 26,
     "metadata": {},
     "output_type": "execute_result"
    }
   ],
   "source": [
    "participant = ['leo', 'kiki', 'eden']\n",
    "completion = ['eden', 'kiki']\n",
    "\n",
    "participant = [i.strip() for i in 'mislav, stanko, mislav, ana'.split(',')]\n",
    "completion = [i.strip() for i in'stanko, ana, mislav'.split(',')]\n",
    "\n",
    "def solution(participant, completion):\n",
    "    joined = participant + completion\n",
    "    counter_dict = Counter(joined)\n",
    "    answer=[i for i in counter_dict if counter_dict[i]%2 ==1 ]\n",
    "    return answer[0]\n",
    "    \n",
    "solution(participant, completion)"
   ]
  },
  {
   "cell_type": "code",
   "execution_count": 31,
   "metadata": {},
   "outputs": [
    {
     "name": "stdout",
     "output_type": "stream",
     "text": [
      "Counter({'mislav': 2, 'stanko': 1, 'ana': 1})\n",
      "Counter({'stanko': 1, 'ana': 1, 'mislav': 1})\n",
      "answer 변수:  Counter({'mislav': 1})\n"
     ]
    },
    {
     "data": {
      "text/plain": [
       "'mislav'"
      ]
     },
     "execution_count": 31,
     "metadata": {},
     "output_type": "execute_result"
    }
   ],
   "source": [
    "print(Counter(participant))\n",
    "print(Counter(completion))\n",
    "\n",
    "def solution(participant, completion):\n",
    "    answer = Counter(participant) - Counter(completion)\n",
    "    print(\"answer 변수: \", answer)\n",
    "    return list(answer.keys())[0]\n",
    "\n",
    "solution(participant, completion)"
   ]
  },
  {
   "cell_type": "code",
   "execution_count": 45,
   "metadata": {},
   "outputs": [
    {
     "name": "stdout",
     "output_type": "stream",
     "text": [
      "{'mislav': 1, 'stanko': 0, 'ana': 0}\n"
     ]
    },
    {
     "data": {
      "text/plain": [
       "'mislav'"
      ]
     },
     "execution_count": 45,
     "metadata": {},
     "output_type": "execute_result"
    }
   ],
   "source": [
    "participant = [i.strip() for i in 'mislav, stanko, mislav, ana'.split(',')]\n",
    "completion = [i.strip() for i in'stanko, ana, mislav'.split(',')]\n",
    "def solution2(participant, completion):\n",
    "    temp = 0\n",
    "    dic = {}\n",
    "    for part in participant:\n",
    "        try:\n",
    "            dic[part]+=1\n",
    "        except:\n",
    "            dic[part] = 1\n",
    "    for com in completion:\n",
    "        try:\n",
    "            dic[com] -=1\n",
    "        except:\n",
    "            dic[com] = -1\n",
    "    print(dic)\n",
    "    answer = [i for i in dic.keys() if dic[i]%2==1 ]\n",
    "    return answer[0]\n",
    "\n",
    "solution2(participant, completion)       "
   ]
  },
  {
   "cell_type": "code",
   "execution_count": 46,
   "metadata": {},
   "outputs": [
    {
     "data": {
      "text/plain": [
       "-2939072590156486635"
      ]
     },
     "execution_count": 46,
     "metadata": {},
     "output_type": "execute_result"
    }
   ],
   "source": [
    "hash('mislav')"
   ]
  },
  {
   "cell_type": "code",
   "execution_count": 47,
   "metadata": {},
   "outputs": [
    {
     "data": {
      "text/plain": [
       "'mislav'"
      ]
     },
     "execution_count": 47,
     "metadata": {},
     "output_type": "execute_result"
    }
   ],
   "source": [
    "def solution3(participant, completion):\n",
    "    answer = ''\n",
    "    temp = 0\n",
    "    dic = {}\n",
    "    for part in participant:\n",
    "        dic[hash(part)] = part\n",
    "        temp += int(hash(part))\n",
    "    for com in completion:\n",
    "        temp -= hash(com)\n",
    "    answer = dic[temp]\n",
    "\n",
    "    return answer\n",
    "\n",
    "solution3(participant, completion)  "
   ]
  },
  {
   "cell_type": "markdown",
   "metadata": {},
   "source": [
    "# 전화번호부\n",
    "전화번호부에 적힌 전화번호 중, 한 번호가 다른 번호의 접두어인 경우가 있는지 확인하려 합니다.\n",
    "전화번호가 다음과 같을 경우, 구조대 전화번호는 영석이의 전화번호의 접두사입니다.\n",
    "\n",
    "- 구조대 : 119\n",
    "- 박준영 : 97 674 223\n",
    "- 지영석 : 11 9552 4421\n",
    "전화번호부에 적힌 전화번호를 담은 배열 phone_book 이 solution 함수의 매개변수로 주어질 때, 어떤 번호가 다른 번호의 접두어인 경우가 있으면 false를 그렇지 않으면 true를 return 하도록 solution 함수를 작성해주세요.\n",
    "\n",
    "제한 사항\n",
    "- phone_book의 길이는 1 이상 1,000,000 이하입니다.\n",
    "- 각 전화번호의 길이는 1 이상 20 이하입니다."
   ]
  },
  {
   "cell_type": "code",
   "execution_count": 174,
   "metadata": {},
   "outputs": [
    {
     "data": {
      "text/plain": [
       "['123', '456', '789', '101113']"
      ]
     },
     "execution_count": 174,
     "metadata": {},
     "output_type": "execute_result"
    }
   ],
   "source": [
    "# phone_book =[i.strip() for i in '119, 97674223, 1195524421'.split(',')]\n",
    "phone_book =[i.strip() for i in '123,456,789,101113'.split(',')]\n",
    "# phone_book =[i.strip() for i in '12,12,123,1235,567,88'.split(',')]\n",
    "\n",
    "phone_book\n"
   ]
  },
  {
   "cell_type": "code",
   "execution_count": 175,
   "metadata": {},
   "outputs": [
    {
     "data": {
      "text/plain": [
       "True"
      ]
     },
     "execution_count": 175,
     "metadata": {},
     "output_type": "execute_result"
    }
   ],
   "source": [
    "book_sorted = sorted(phone_book, key=len, reverse=True)\n",
    "answer = True\n",
    "while len(book_sorted)!=0:\n",
    "    temp=book_sorted.pop()\n",
    "    for i in book_sorted:\n",
    "        if i[:len(temp)] == temp:\n",
    "            answer = False\n",
    "            break\n",
    "answer "
   ]
  },
  {
   "cell_type": "code",
   "execution_count": 176,
   "metadata": {},
   "outputs": [
    {
     "data": {
      "text/plain": [
       "True"
      ]
     },
     "execution_count": 176,
     "metadata": {},
     "output_type": "execute_result"
    }
   ],
   "source": [
    "def solution(phone_book):\n",
    "    book_sorted = sorted(phone_book, key=len, reverse=True)\n",
    "    answer = True\n",
    "    isbreak = False\n",
    "    count = len(book_sorted)-1\n",
    "    while count !=0 and isbreak==False :\n",
    "        temp=book_sorted.pop()\n",
    "        for i in book_sorted:\n",
    "            if len(temp) == len(i):\n",
    "                continue\n",
    "            elif i[:len(temp)] == temp:\n",
    "                answer = False\n",
    "                isbreak = True\n",
    "                break\n",
    "        count -= 1\n",
    "    return answer\n",
    "solution(phone_book)"
   ]
  },
  {
   "cell_type": "code",
   "execution_count": 184,
   "metadata": {},
   "outputs": [
    {
     "name": "stdout",
     "output_type": "stream",
     "text": [
      "123 456\n"
     ]
    },
    {
     "data": {
      "text/plain": [
       "True"
      ]
     },
     "execution_count": 184,
     "metadata": {},
     "output_type": "execute_result"
    }
   ],
   "source": [
    "def solution(phone_book):\n",
    "    for p1, p2 in zip(phone_book, phone_book[1:]):\n",
    "        print(p1, p2)\n",
    "        if p2.startswith(p1):\n",
    "            return False\n",
    "        return True\n",
    "solution(phone_book)"
   ]
  },
  {
   "cell_type": "code",
   "execution_count": 187,
   "metadata": {},
   "outputs": [
    {
     "data": {
      "text/plain": [
       "True"
      ]
     },
     "execution_count": 187,
     "metadata": {},
     "output_type": "execute_result"
    }
   ],
   "source": [
    "def solution(phone_book):\n",
    "    answer = True\n",
    "    for phone_number in phone_book:\n",
    "        temp = \"\"\n",
    "        for number in phone_number:\n",
    "            temp +=number\n",
    "            # phonenumber 전체 다 안 넣었는데 이미 \n",
    "            if temp in phone_book and temp!=phone_number:\n",
    "                amswer=False\n",
    "    return answer\n",
    "\n",
    "solution(phone_book)"
   ]
  },
  {
   "cell_type": "code",
   "execution_count": 191,
   "metadata": {},
   "outputs": [
    {
     "name": "stdout",
     "output_type": "stream",
     "text": [
      "123 456\n",
      "123 789\n",
      "123 101113\n",
      "456 789\n",
      "456 101113\n",
      "789 101113\n"
     ]
    },
    {
     "data": {
      "text/plain": [
       "True"
      ]
     },
     "execution_count": 191,
     "metadata": {},
     "output_type": "execute_result"
    }
   ],
   "source": [
    "from itertools import combinations as c\n",
    "book_sorted = sorted(phone_book, key=len)\n",
    "answer = True\n",
    "for (a,b) in c(book_sorted,2):\n",
    "    print(a,b)\n",
    "    if a == b[:len(a)]:\n",
    "        answer = False\n",
    "answer"
   ]
  },
  {
   "cell_type": "markdown",
   "metadata": {},
   "source": [
    "# 위장\n",
    "스파이들은 매일 다른 옷을 조합하여 입어 자신을 위장합니다.\n",
    "\n",
    "예를 들어 스파이가 가진 옷이 아래와 같고 오늘 스파이가 동그란 안경, 긴 코트, 파란색 티셔츠를 입었다면 다음날은 청바지를 추가로 입거나 동그란 안경 대신 검정 선글라스를 착용하거나 해야 합니다.\n",
    "```\n",
    "종류\t이름\n",
    "얼굴\t동그란 안경, 검정 선글라스\n",
    "상의\t파란색 티셔츠\n",
    "하의\t청바지\n",
    "겉옷\t긴 코트\n",
    "스파이가 가진 의상들이 담긴 2차원 배열 clothes가 주어질 때 서로 다른 옷의 조합의 수를 return 하도록 solution 함수를 작성해주세요.\n",
    "```\n",
    "제한사항\n",
    "- clothes의 각 행은 [의상의 이름, 의상의 종류]로 이루어져 있습니다.\n",
    "- 스파이가 가진 의상의 수는 1개 이상 30개 이하입니다.\n",
    "- 같은 이름을 가진 의상은 존재하지 않습니다.\n",
    "- clothes의 모든 원소는 문자열로 이루어져 있습니다.\n",
    "- 모든 문자열의 길이는 1 이상 20 이하인 자연수이고 알파벳 소문자 또는 '_' 로만 이루어져 있습니다.\n",
    "- 스파이는 하루에 최소 한 개의 의상은 입습니다."
   ]
  },
  {
   "cell_type": "code",
   "execution_count": 279,
   "metadata": {},
   "outputs": [
    {
     "name": "stdout",
     "output_type": "stream",
     "text": [
      "{'face': 4}\n"
     ]
    },
    {
     "data": {
      "text/plain": [
       "3"
      ]
     },
     "execution_count": 279,
     "metadata": {},
     "output_type": "execute_result"
    }
   ],
   "source": [
    "# clothes=[['yellow_hat', 'headgear'], ['blue_sunglasses', 'eyewear'], ['green_turban', 'headgear']]\n",
    "clothes=[['crow_mask', 'face'], ['blue_sunglasses', 'face'], ['smoky_makeup', 'face']]\n",
    "\n",
    "def solution(clothes):\n",
    "    cloth_dict = {}\n",
    "    for cloth,category in clothes:\n",
    "        if category not in cloth_dict:\n",
    "            cloth_dict[category]= 2\n",
    "        else:\n",
    "            cloth_dict[category] +=1\n",
    "    print(cloth_dict)\n",
    "    answer = 1\n",
    "    for i in cloth_dict.values():\n",
    "        answer *=i\n",
    "    answer -=1\n",
    "    return answer\n",
    "\n",
    "solution(clothes)"
   ]
  },
  {
   "cell_type": "markdown",
   "metadata": {},
   "source": [
    "> reduce(function, iterable[, initializer])"
   ]
  },
  {
   "cell_type": "code",
   "execution_count": 286,
   "metadata": {},
   "outputs": [
    {
     "name": "stdout",
     "output_type": "stream",
     "text": [
      "Counter({'face': 3})\n"
     ]
    },
    {
     "data": {
      "text/plain": [
       "3"
      ]
     },
     "execution_count": 286,
     "metadata": {},
     "output_type": "execute_result"
    }
   ],
   "source": [
    "from collections import Counter\n",
    "from functools import reduce\n",
    "def solution(clothes):\n",
    "    cnt = Counter([category for cloth,category in clothes])\n",
    "    print(cnt)\n",
    "    answer = reduce(lambda x, y: x*(y+1), cnt.values(),1) - 1\n",
    "#     answer = 1\n",
    "#     for i in cnt.values():\n",
    "#         answer *=(i+1)\n",
    "#     answer -=1\n",
    "    return answer\n",
    "solution(clothes)"
   ]
  },
  {
   "cell_type": "markdown",
   "metadata": {},
   "source": [
    "# 베스트앨범\n",
    "\n",
    "스트리밍 사이트에서 장르 별로 가장 많이 재생된 노래를 두 개씩 모아 베스트 앨범을 출시하려 합니다. 노래는 고유 번호로 구분하며, 노래를 수록하는 기준은 다음과 같습니다.\n",
    "\n",
    "- 속한 노래가 많이 재생된 장르를 먼저 수록합니다.\n",
    "- 장르 내에서 많이 재생된 노래를 먼저 수록합니다.\n",
    "- 장르 내에서 재생 횟수가 같은 노래 중에서는 고유 번호가 낮은 노래를 먼저 수록합니다.\n",
    "\n",
    "노래의 장르를 나타내는 문자열 배열 genres와 노래별 재생 횟수를 나타내는 정수 배열 plays가 주어질 때, 베스트 앨범에 들어갈 노래의 고유번호를 순서대로 return 하도록 solution 함수를 완성하세요.\n",
    "\n",
    "제한사항\n",
    "- genres[i]는 고유번호가 i인 노래의 장르입니다.\n",
    "- plays[i]는 고유번호가 i인 노래가 재생된 횟수입니다.\n",
    "- genres와 plays의 길이는 같으며, 이는 1 이상 10,000 이하입니다.\n",
    "- 장르 종류는 100개 미만입니다.\n",
    "- 장르에 속한 곡이 하나라면, 하나의 곡만 선택합니다.\n",
    "- 모든 장르는 재생된 횟수가 다릅니다."
   ]
  },
  {
   "cell_type": "code",
   "execution_count": 65,
   "metadata": {},
   "outputs": [
    {
     "name": "stdout",
     "output_type": "stream",
     "text": [
      "best2 [('rock', [(5, 3000)]), ('classic', [(0, 500), (2, 500), (3, 800)]), ('pop', [(1, 600), (4, 600)])]\n"
     ]
    },
    {
     "data": {
      "text/plain": [
       "[5, 3, 0, 1, 4]"
      ]
     },
     "execution_count": 65,
     "metadata": {},
     "output_type": "execute_result"
    }
   ],
   "source": [
    "genres=[i.strip() for i in 'classic, pop, classic, classic, pop,rock'.split(\",\")]\n",
    "plays = [500, 600, 500, 800, 600,3000]\n",
    "\n",
    "def solution(genres, plays):\n",
    "    answer = []\n",
    "    idx = 0\n",
    "    music_dict = {}\n",
    "    for genre,play in list(zip(genres, list(enumerate(plays)))):\n",
    "        if genre not in music_dict:\n",
    "            music_dict[genre] = [play]\n",
    "\n",
    "        else:\n",
    "            music_dict[genre].append(play)\n",
    "        idx +=1\n",
    "    best2=sorted(music_dict.items(),key = lambda item: sum(list(zip(*item[1]))[1]),reverse=True)\n",
    "    print(\"best2\",best2)\n",
    "    count = 0\n",
    "    for genre, play in best2:\n",
    "        sorted_play=sorted(play, key=lambda x: (-x[1], x[0]))\n",
    "        temp=list(zip(*sorted_play))[0][:2]\n",
    "        for i in temp:\n",
    "            answer.append(i)\n",
    "    return answer\n",
    "\n",
    "solution(genres, plays)"
   ]
  },
  {
   "cell_type": "code",
   "execution_count": 67,
   "metadata": {},
   "outputs": [
    {
     "name": "stdout",
     "output_type": "stream",
     "text": [
      "d {'pop': [], 'classic': [], 'rock': []}\n",
      "zip [('classic', 500, 0), ('pop', 600, 1), ('classic', 500, 2), ('classic', 800, 3), ('pop', 600, 4), ('rock', 3000, 5)]\n",
      "genreSort ['rock', 'classic', 'pop']\n",
      "temp [5]\n",
      "temp [3, 0, 2]\n",
      "temp [1, 4]\n"
     ]
    },
    {
     "data": {
      "text/plain": [
       "[5, 3, 0, 1, 4]"
      ]
     },
     "execution_count": 67,
     "metadata": {},
     "output_type": "execute_result"
    }
   ],
   "source": [
    "def solution(genres, plays):\n",
    "    answer = []\n",
    "    d = {e:[] for e in set(genres)}\n",
    "    print(\"d\",d)\n",
    "    print(\"zip\", list(zip(genres, plays, range(len(plays)))))\n",
    "    for e in zip(genres, plays, range(len(plays))):\n",
    "        d[e[0]].append([e[1] , e[2]])\n",
    "    genreSort =sorted(list(d.keys()), key= lambda x: sum( map(lambda y: y[0],d[x])), reverse = True)\n",
    "    print(\"genreSort\",genreSort)\n",
    "    for g in genreSort:\n",
    "        temp = [e[1] for e in sorted(d[g],key= lambda x: (x[0], -x[1]), reverse = True)]\n",
    "        print(\"temp\",temp)\n",
    "        answer += temp[:min(len(temp),2)]\n",
    "    return answer\n",
    "solution(genres, plays)"
   ]
  },
  {
   "cell_type": "code",
   "execution_count": null,
   "metadata": {},
   "outputs": [],
   "source": []
  }
 ],
 "metadata": {
  "kernelspec": {
   "display_name": "Python 3",
   "language": "python",
   "name": "python3"
  },
  "language_info": {
   "codemirror_mode": {
    "name": "ipython",
    "version": 3
   },
   "file_extension": ".py",
   "mimetype": "text/x-python",
   "name": "python",
   "nbconvert_exporter": "python",
   "pygments_lexer": "ipython3",
   "version": "3.8.3"
  }
 },
 "nbformat": 4,
 "nbformat_minor": 4
}
