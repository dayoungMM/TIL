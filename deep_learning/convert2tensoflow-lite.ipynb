{
 "cells": [
  {
   "cell_type": "markdown",
   "metadata": {},
   "source": [
    "# tensorflow 모델을 tensorflow-lite 모델로 변환하기\n",
    "- https://www.tensorflow.org/lite/guide/get_started\n",
    "    > 공식문서\n",
    "- https://talkingaboutme.tistory.com/entry/Embedded-DL-Tensorflow-Lite-Example \n",
    "    > 코드 참고\n",
    "- https://developers-kr.googleblog.com/2020/05/devsummit-2020-tensorflow-lite.html\n",
    "    > DevSummit 2020에서 소개된 TensorFlow Lite의 새로운 기능\n",
    "- "
   ]
  },
  {
   "cell_type": "code",
   "execution_count": 1,
   "metadata": {},
   "outputs": [
    {
     "data": {
      "text/plain": [
       "'2.3.0'"
      ]
     },
     "execution_count": 1,
     "metadata": {},
     "output_type": "execute_result"
    }
   ],
   "source": [
    "import tensorflow as tf\n",
    "tf.__version__"
   ]
  },
  {
   "cell_type": "code",
   "execution_count": 5,
   "metadata": {},
   "outputs": [
    {
     "name": "stdout",
     "output_type": "stream",
     "text": [
      "Epoch 1/10\n",
      "1/1 [==============================] - 0s 0s/step - loss: 12.5206\n",
      "Epoch 2/10\n",
      "1/1 [==============================] - 0s 998us/step - loss: 12.5015\n",
      "Epoch 3/10\n",
      "1/1 [==============================] - 0s 998us/step - loss: 12.4824\n",
      "Epoch 4/10\n",
      "1/1 [==============================] - 0s 999us/step - loss: 12.4633\n",
      "Epoch 5/10\n",
      "1/1 [==============================] - 0s 1ms/step - loss: 12.4442\n",
      "Epoch 6/10\n",
      "1/1 [==============================] - 0s 0s/step - loss: 12.4251\n",
      "Epoch 7/10\n",
      "1/1 [==============================] - 0s 0s/step - loss: 12.4060\n",
      "Epoch 8/10\n",
      "1/1 [==============================] - 0s 997us/step - loss: 12.3870\n",
      "Epoch 9/10\n",
      "1/1 [==============================] - 0s 996us/step - loss: 12.3680\n",
      "Epoch 10/10\n",
      "1/1 [==============================] - 0s 997us/step - loss: 12.3490\n"
     ]
    },
    {
     "data": {
      "text/plain": [
       "<tensorflow.python.keras.callbacks.History at 0x21750a7e8e0>"
      ]
     },
     "execution_count": 5,
     "metadata": {},
     "output_type": "execute_result"
    }
   ],
   "source": [
    "import tensorflow_model_optimization as tfmot\n",
    "\n",
    "x = [-1,0,1,2,3,4]\n",
    "y = [-3,-1,1,3,5,7]\n",
    "\n",
    "model = tf.keras.models.Sequential([\n",
    "    tf.keras.layers.Dense(units=1, input_shape=[1])\n",
    "])\n",
    "# 양자화의 성능 및 크기 이점을 가진 모델 만들기\n",
    "model.quantized_model = tfmot.quantization.keras.quantize_model(model)\n",
    "\n",
    "\n",
    "model.compile(optimizer='adam', loss='mse')\n",
    "model.fit(x,y, epochs=10)"
   ]
  },
  {
   "cell_type": "code",
   "execution_count": 6,
   "metadata": {},
   "outputs": [
    {
     "name": "stdout",
     "output_type": "stream",
     "text": [
      "WARNING:tensorflow:From C:\\ProgramData\\Anaconda3\\lib\\site-packages\\tensorflow\\python\\training\\tracking\\tracking.py:111: Model.state_updates (from tensorflow.python.keras.engine.training) is deprecated and will be removed in a future version.\n",
      "Instructions for updating:\n",
      "This property should not be used in TensorFlow 2.0, as updates are applied automatically.\n",
      "WARNING:tensorflow:From C:\\ProgramData\\Anaconda3\\lib\\site-packages\\tensorflow\\python\\training\\tracking\\tracking.py:111: Layer.updates (from tensorflow.python.keras.engine.base_layer) is deprecated and will be removed in a future version.\n",
      "Instructions for updating:\n",
      "This property should not be used in TensorFlow 2.0, as updates are applied automatically.\n",
      "INFO:tensorflow:Assets written to: .\\assets\n"
     ]
    },
    {
     "data": {
      "text/plain": [
       "776"
      ]
     },
     "execution_count": 6,
     "metadata": {},
     "output_type": "execute_result"
    }
   ],
   "source": [
    "## tlite용 모델로 convert 하는 과정\n",
    "import pathlib\n",
    "\n",
    "#save model to export_dir\n",
    "export_dir = '.'\n",
    "tf.saved_model.save(model, export_dir)\n",
    "\n",
    "#convert the model to tflite model format\n",
    "converter = tf.lite.TFLiteConverter.from_saved_model(export_dir)\n",
    "tflite_model = converter.convert()\n",
    "\n",
    "#Save the model\n",
    "tflite_model_file = pathlib.Path('./a.tflite')\n",
    "tflite_model_file.write_bytes(tflite_model)"
   ]
  },
  {
   "cell_type": "code",
   "execution_count": 25,
   "metadata": {},
   "outputs": [
    {
     "name": "stdout",
     "output_type": "stream",
     "text": [
      "[1 1]\n",
      "0\n",
      "3\n"
     ]
    },
    {
     "data": {
      "text/plain": [
       "array([[-5.2559553e-28]], dtype=float32)"
      ]
     },
     "execution_count": 25,
     "metadata": {},
     "output_type": "execute_result"
    }
   ],
   "source": [
    "# Run inference with the model\n",
    "\n",
    "interpreter = tf.lite.Interpreter(model_path='./a.tflite')\n",
    "interpreter.allocate_tensors() # 텐서 초기화\n",
    "\n",
    "#giet input and output tensors\n",
    "input_details = interpreter.get_input_details()\n",
    "output_details = interpreter.get_output_details()\n",
    "print(input_details[0]['shape']) #[1 2]\n",
    "print(input_details[0]['index']) #1\n",
    "print(output_details[0]['index']) #0\n",
    "\n",
    "x_test = np.array([5])\n",
    "x_test = x_test.astype(dtype=np.float32)\n",
    "interpreter.set_tensor(1, x_test)\n",
    "#interpreter.set_tensor(input_details[0]['index'], x_test)\n",
    "\n",
    "#inference 실행\n",
    "interpreter.invoke()\n",
    "y_predict = interpreter.get_tensor(0)\n",
    "y_predict\n"
   ]
  },
  {
   "cell_type": "code",
   "execution_count": null,
   "metadata": {},
   "outputs": [],
   "source": []
  }
 ],
 "metadata": {
  "kernelspec": {
   "display_name": "Python 3",
   "language": "python",
   "name": "python3"
  },
  "language_info": {
   "codemirror_mode": {
    "name": "ipython",
    "version": 3
   },
   "file_extension": ".py",
   "mimetype": "text/x-python",
   "name": "python",
   "nbconvert_exporter": "python",
   "pygments_lexer": "ipython3",
   "version": "3.8.3"
  }
 },
 "nbformat": 4,
 "nbformat_minor": 4
}
