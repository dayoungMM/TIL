{
 "cells": [
  {
   "cell_type": "markdown",
   "metadata": {},
   "source": [
    "### 집합"
   ]
  },
  {
   "cell_type": "code",
   "execution_count": 6,
   "metadata": {},
   "outputs": [
    {
     "data": {
      "text/plain": [
       "{(1, 2), 1, 3}"
      ]
     },
     "execution_count": 6,
     "metadata": {},
     "output_type": "execute_result"
    }
   ],
   "source": [
    "set([1,(1,2),3,3])"
   ]
  },
  {
   "cell_type": "code",
   "execution_count": 1,
   "metadata": {},
   "outputs": [
    {
     "data": {
      "text/plain": [
       "{frozenset(),\n",
       " frozenset({'HH'}),\n",
       " frozenset({'TH', 'TT'}),\n",
       " frozenset({'HH', 'TH', 'TT'}),\n",
       " frozenset({'HH', 'HT'}),\n",
       " frozenset({'TH'}),\n",
       " frozenset({'HH', 'TT'}),\n",
       " frozenset({'HT'}),\n",
       " frozenset({'HT', 'TH'}),\n",
       " frozenset({'TT'}),\n",
       " frozenset({'HT', 'TT'}),\n",
       " frozenset({'HH', 'HT', 'TT'}),\n",
       " frozenset({'HT', 'TH', 'TT'}),\n",
       " frozenset({'HH', 'TH'}),\n",
       " frozenset({'HH', 'HT', 'TH'}),\n",
       " frozenset({'HH', 'HT', 'TH', 'TT'})}"
      ]
     },
     "execution_count": 1,
     "metadata": {},
     "output_type": "execute_result"
    }
   ],
   "source": [
    "A1= frozenset([])\n",
    "A2= frozenset(['HH'])\n",
    "A3= frozenset(['HT'])\n",
    "A4= frozenset(['TH'])\n",
    "A5= frozenset(['TT'])\n",
    "A6= frozenset(['HH','HT'])\n",
    "A7= frozenset(['HH','TH'])\n",
    "A8= frozenset(['HH', 'TT'])\n",
    "A9= frozenset(['HT','TH'])\n",
    "A10=frozenset(['HT','TT'])\n",
    "A11=frozenset(['TH','TT'])\n",
    "A12=frozenset(['HH','HT','TH'])\n",
    "A13=frozenset(['HH','HT','TT'])\n",
    "A14=frozenset(['HH','TT','TH'])\n",
    "A15=frozenset(['TT','HT','TH'])\n",
    "A16=frozenset(['HH','TT','HT','TH'])\n",
    "result= set([A1,A2,A3,A4,A5,A6,A7,A8,A9,A10,A11,A12,A13,A14,A15,A16])\n",
    "result"
   ]
  },
  {
   "cell_type": "code",
   "execution_count": 2,
   "metadata": {},
   "outputs": [
    {
     "data": {
      "text/plain": [
       "{1, 2, 3, 5}"
      ]
     },
     "execution_count": 2,
     "metadata": {},
     "output_type": "execute_result"
    }
   ],
   "source": [
    "A= set([1,3,5])\n",
    "B= set([1,2,5])\n",
    "C= set([2,4,6])\n",
    "A|(B&C)"
   ]
  },
  {
   "cell_type": "code",
   "execution_count": 4,
   "metadata": {},
   "outputs": [
    {
     "data": {
      "text/plain": [
       "{1, 2, 3, 5}"
      ]
     },
     "execution_count": 4,
     "metadata": {},
     "output_type": "execute_result"
    }
   ],
   "source": [
    "(A|B)&(A|C)"
   ]
  },
  {
   "cell_type": "code",
   "execution_count": 5,
   "metadata": {},
   "outputs": [
    {
     "data": {
      "text/plain": [
       "{1, 5}"
      ]
     },
     "execution_count": 5,
     "metadata": {},
     "output_type": "execute_result"
    }
   ],
   "source": [
    "A&(B|C)"
   ]
  },
  {
   "cell_type": "code",
   "execution_count": 6,
   "metadata": {},
   "outputs": [
    {
     "data": {
      "text/plain": [
       "{1, 5}"
      ]
     },
     "execution_count": 6,
     "metadata": {},
     "output_type": "execute_result"
    }
   ],
   "source": [
    "(A&B)|(A&C)"
   ]
  },
  {
   "cell_type": "markdown",
   "metadata": {},
   "source": [
    "### 조건부확률"
   ]
  },
  {
   "cell_type": "code",
   "execution_count": 1,
   "metadata": {},
   "outputs": [],
   "source": [
    "from pgmpy.factors.discrete import JointProbabilityDistribution as JPD"
   ]
  },
  {
   "cell_type": "code",
   "execution_count": 4,
   "metadata": {},
   "outputs": [
    {
     "name": "stdout",
     "output_type": "stream",
     "text": [
      "+-----+-----+----------+\n",
      "| x   | y   |   P(x,y) |\n",
      "+=====+=====+==========+\n",
      "| x_0 | y_0 |   0.1500 |\n",
      "+-----+-----+----------+\n",
      "| x_0 | y_1 |   0.4500 |\n",
      "+-----+-----+----------+\n",
      "| x_1 | y_0 |   0.3500 |\n",
      "+-----+-----+----------+\n",
      "| x_1 | y_1 |   0.0500 |\n",
      "+-----+-----+----------+\n"
     ]
    }
   ],
   "source": [
    "pxy = JPD(['x','y'],[2,2],np.array([3,9,7,1])/20)\n",
    "print(pxy)"
   ]
  },
  {
   "cell_type": "code",
   "execution_count": 6,
   "metadata": {},
   "outputs": [
    {
     "name": "stdout",
     "output_type": "stream",
     "text": [
      "+-----+--------+\n",
      "| x   |   P(x) |\n",
      "+=====+========+\n",
      "| x_0 | 0.6000 |\n",
      "+-----+--------+\n",
      "| x_1 | 0.4000 |\n",
      "+-----+--------+\n"
     ]
    }
   ],
   "source": [
    "#주변확률(주변확률분포)구하기\n",
    "pmx= pxy.marginal_distribution(['x'],inplace=False)\n",
    "print(pmx)"
   ]
  },
  {
   "cell_type": "code",
   "execution_count": 8,
   "metadata": {},
   "outputs": [
    {
     "name": "stdout",
     "output_type": "stream",
     "text": [
      "+-----+--------+\n",
      "| y   |   P(y) |\n",
      "+=====+========+\n",
      "| y_0 | 0.5000 |\n",
      "+-----+--------+\n",
      "| y_1 | 0.5000 |\n",
      "+-----+--------+\n"
     ]
    }
   ],
   "source": [
    "# 특정 확률변수를 주변화(marginalize out) 하여 그 외의 확률변수에 대한 주변확률 구하기\n",
    "#marginalize out과 같은 개념이다. 따라서 주변확률 p(A)를 알고싶다면 그 외의 주변확률 Y를 입력하여 그것만을 제거한다고 생각하면 된다\n",
    "\n",
    "pmx2= pxy.marginalize(['x'],inplace=False)\n",
    "print(pmx2)"
   ]
  },
  {
   "cell_type": "code",
   "execution_count": 10,
   "metadata": {},
   "outputs": [
    {
     "name": "stdout",
     "output_type": "stream",
     "text": [
      "+-----+--------+\n",
      "| y   |   P(y) |\n",
      "+=====+========+\n",
      "| y_0 | 0.2500 |\n",
      "+-----+--------+\n",
      "| y_1 | 0.7500 |\n",
      "+-----+--------+\n"
     ]
    }
   ],
   "source": [
    "#조건부 확률\n",
    "#선택한 확률변수가 일어났을때에 대한 조건부 확률 값 구하기\n",
    "# p(Y|X)와 p(Y^c|X)를 구한다\n",
    "py_if_x=pxy.conditional_distribution([('x',0)],inplace=False)\n",
    "print(py_if_x)"
   ]
  },
  {
   "cell_type": "code",
   "execution_count": 11,
   "metadata": {},
   "outputs": [
    {
     "name": "stdout",
     "output_type": "stream",
     "text": [
      "+-----+--------+\n",
      "| x   |   P(x) |\n",
      "+=====+========+\n",
      "| x_0 | 0.3000 |\n",
      "+-----+--------+\n",
      "| x_1 | 0.7000 |\n",
      "+-----+--------+\n"
     ]
    }
   ],
   "source": [
    "px_if_y= pxy.conditional_distribution([('y',0)],inplace=False)\n",
    "print(px_if_y)"
   ]
  },
  {
   "cell_type": "code",
   "execution_count": 13,
   "metadata": {},
   "outputs": [
    {
     "name": "stderr",
     "output_type": "stream",
     "text": [
      "C:\\Users\\mdyo_\\Anaconda3\\lib\\site-packages\\pgmpy\\factors\\discrete\\DiscreteFactor.py:586: FutureWarning: Using a non-tuple sequence for multidimensional indexing is deprecated; use `arr[tuple(seq)]` instead of `arr[seq]`. In the future this will be interpreted as an array index, `arr[np.array(seq)]`, which will result either in an error or a different result.\n",
      "  phi.values = phi.values[slice_]\n",
      "C:\\Users\\mdyo_\\Anaconda3\\lib\\site-packages\\pgmpy\\factors\\discrete\\DiscreteFactor.py:598: FutureWarning: Using a non-tuple sequence for multidimensional indexing is deprecated; use `arr[tuple(seq)]` instead of `arr[seq]`. In the future this will be interpreted as an array index, `arr[np.array(seq)]`, which will result either in an error or a different result.\n",
      "  phi1.values = phi1.values[slice_]\n"
     ]
    },
    {
     "data": {
      "text/plain": [
       "False"
      ]
     },
     "execution_count": 13,
     "metadata": {},
     "output_type": "execute_result"
    }
   ],
   "source": [
    "# 두 확률변수간의 독립 여부 확인\n",
    "pxy.check_independence(['x'],['y'])"
   ]
  },
  {
   "cell_type": "code",
   "execution_count": 16,
   "metadata": {},
   "outputs": [
    {
     "name": "stdout",
     "output_type": "stream",
     "text": [
      "+-----+-----+----------+\n",
      "| x   | y   |   P(x,y) |\n",
      "+=====+=====+==========+\n",
      "| x_0 | y_0 |   0.3000 |\n",
      "+-----+-----+----------+\n",
      "| x_0 | y_1 |   0.3000 |\n",
      "+-----+-----+----------+\n",
      "| x_1 | y_0 |   0.2000 |\n",
      "+-----+-----+----------+\n",
      "| x_1 | y_1 |   0.2000 |\n",
      "+-----+-----+----------+\n"
     ]
    }
   ],
   "source": [
    "# 위에서 구한 주변확률끼리 곱하면 두 분포가 독립이라는 가정하에 결합확률을 구함\n",
    "\n",
    "print(pmx*pmx2)"
   ]
  },
  {
   "cell_type": "code",
   "execution_count": 17,
   "metadata": {},
   "outputs": [
    {
     "name": "stdout",
     "output_type": "stream",
     "text": [
      "+-----+-----+----------+\n",
      "| x   | y   |   P(x,y) |\n",
      "+=====+=====+==========+\n",
      "| x_0 | y_0 |   0.1500 |\n",
      "+-----+-----+----------+\n",
      "| x_0 | y_1 |   0.4500 |\n",
      "+-----+-----+----------+\n",
      "| x_1 | y_0 |   0.3500 |\n",
      "+-----+-----+----------+\n",
      "| x_1 | y_1 |   0.0500 |\n",
      "+-----+-----+----------+\n"
     ]
    }
   ],
   "source": [
    "# 원래대로 구한 결합확률\n",
    "print(pxy)"
   ]
  },
  {
   "cell_type": "markdown",
   "metadata": {},
   "source": [
    "결합확률의 확률과 독립이라고 가정했을때 구한 결합확률이 다르기 때문에 X와 Y는 서로 독립이 아니다\n"
   ]
  },
  {
   "cell_type": "markdown",
   "metadata": {},
   "source": [
    "### 연습문제 6.5.8"
   ]
  },
  {
   "cell_type": "code",
   "execution_count": 21,
   "metadata": {},
   "outputs": [
    {
     "name": "stdout",
     "output_type": "stream",
     "text": [
      "+-----+-----+----------+\n",
      "| x   | y   |   P(x,y) |\n",
      "+=====+=====+==========+\n",
      "| x_0 | y_0 |   0.3000 |\n",
      "+-----+-----+----------+\n",
      "| x_0 | y_1 |   0.3000 |\n",
      "+-----+-----+----------+\n",
      "| x_1 | y_0 |   0.2000 |\n",
      "+-----+-----+----------+\n",
      "| x_1 | y_1 |   0.2000 |\n",
      "+-----+-----+----------+\n"
     ]
    }
   ],
   "source": [
    "pxy2= JPD(['x','y'],[2,2],np.array([6,6,4,4])/20)\n",
    "print(pxy2)"
   ]
  },
  {
   "cell_type": "code",
   "execution_count": 23,
   "metadata": {},
   "outputs": [
    {
     "name": "stdout",
     "output_type": "stream",
     "text": [
      "+-----+--------+\n",
      "| x   |   P(x) |\n",
      "+=====+========+\n",
      "| x_0 | 0.6000 |\n",
      "+-----+--------+\n",
      "| x_1 | 0.4000 |\n",
      "+-----+--------+\n"
     ]
    }
   ],
   "source": [
    "px=pxy2.marginal_distribution(['x'], inplace= False)\n",
    "print(px)"
   ]
  },
  {
   "cell_type": "code",
   "execution_count": 30,
   "metadata": {},
   "outputs": [
    {
     "name": "stdout",
     "output_type": "stream",
     "text": [
      "+-----+--------+\n",
      "| y   |   P(y) |\n",
      "+=====+========+\n",
      "| y_0 | 0.5000 |\n",
      "+-----+--------+\n",
      "| y_1 | 0.5000 |\n",
      "+-----+--------+\n"
     ]
    }
   ],
   "source": [
    "py= pxy2.marginalize(['x'],inplace= False)\n",
    "print(py)"
   ]
  },
  {
   "cell_type": "code",
   "execution_count": 28,
   "metadata": {},
   "outputs": [
    {
     "name": "stderr",
     "output_type": "stream",
     "text": [
      "C:\\Users\\mdyo_\\Anaconda3\\lib\\site-packages\\pgmpy\\factors\\discrete\\DiscreteFactor.py:586: FutureWarning: Using a non-tuple sequence for multidimensional indexing is deprecated; use `arr[tuple(seq)]` instead of `arr[seq]`. In the future this will be interpreted as an array index, `arr[np.array(seq)]`, which will result either in an error or a different result.\n",
      "  phi.values = phi.values[slice_]\n",
      "C:\\Users\\mdyo_\\Anaconda3\\lib\\site-packages\\pgmpy\\factors\\discrete\\DiscreteFactor.py:598: FutureWarning: Using a non-tuple sequence for multidimensional indexing is deprecated; use `arr[tuple(seq)]` instead of `arr[seq]`. In the future this will be interpreted as an array index, `arr[np.array(seq)]`, which will result either in an error or a different result.\n",
      "  phi1.values = phi1.values[slice_]\n"
     ]
    },
    {
     "data": {
      "text/plain": [
       "True"
      ]
     },
     "execution_count": 28,
     "metadata": {},
     "output_type": "execute_result"
    }
   ],
   "source": [
    "pxy2.check_independence(['x'],['y'])"
   ]
  },
  {
   "cell_type": "code",
   "execution_count": 31,
   "metadata": {},
   "outputs": [
    {
     "name": "stdout",
     "output_type": "stream",
     "text": [
      "+-----+-----+----------+\n",
      "| x   | y   |   P(x,y) |\n",
      "+=====+=====+==========+\n",
      "| x_0 | y_0 |   0.3000 |\n",
      "+-----+-----+----------+\n",
      "| x_0 | y_1 |   0.3000 |\n",
      "+-----+-----+----------+\n",
      "| x_1 | y_0 |   0.2000 |\n",
      "+-----+-----+----------+\n",
      "| x_1 | y_1 |   0.2000 |\n",
      "+-----+-----+----------+\n"
     ]
    }
   ],
   "source": [
    "print(px*py)"
   ]
  },
  {
   "cell_type": "code",
   "execution_count": 34,
   "metadata": {},
   "outputs": [
    {
     "name": "stdout",
     "output_type": "stream",
     "text": [
      "+-----+-----+----------+\n",
      "| x   | y   |   P(x,y) |\n",
      "+=====+=====+==========+\n",
      "| x_0 | y_0 |   0.3000 |\n",
      "+-----+-----+----------+\n",
      "| x_0 | y_1 |   0.3000 |\n",
      "+-----+-----+----------+\n",
      "| x_1 | y_0 |   0.2000 |\n",
      "+-----+-----+----------+\n",
      "| x_1 | y_1 |   0.2000 |\n",
      "+-----+-----+----------+\n"
     ]
    }
   ],
   "source": [
    "print(pxy2)"
   ]
  },
  {
   "cell_type": "code",
   "execution_count": null,
   "metadata": {},
   "outputs": [],
   "source": [
    "# 따라서 x,y는 서로 독립이다"
   ]
  },
  {
   "cell_type": "markdown",
   "metadata": {},
   "source": [
    "### 베이즈 정리"
   ]
  },
  {
   "cell_type": "markdown",
   "metadata": {},
   "source": [
    "* 사건\n",
    "\n",
    " * 병에 걸리는 경우 : 사건 $D$\n",
    " * 양성 반응을 보이는 경우 : 사건 $S$\n",
    " * 병에 걸린 사람이 양성 반응을 보이는 경우 : 조건부 사건 $S|D$\n",
    " * 양성 반응을 보이는 사람이 병에 걸려 있을 경우 : 조건부 사건 $D|S$\n",
    "\n",
    "\n",
    "\n",
    "* 문제\n",
    " * $P(S|D)=0.99$가 주어졌을 때, $P(D|S)$를 구하라. "
   ]
  },
  {
   "cell_type": "markdown",
   "metadata": {},
   "source": [
    "추가 조사를 통해 필요한 정보를 다음과 같이 입수했다고 하자.\n",
    "\n",
    "* 이 병은 전체 인구 중 걸린 사람이 0.2%인 희귀병이다.\n",
    "* 이 병에 걸리지 않은 사람에게 시약 검사를 했을 때, 양성 반응, 즉 잘못된 결과(False Positive)가 나타난 확률이 5%다."
   ]
  },
  {
   "cell_type": "code",
   "execution_count": 35,
   "metadata": {},
   "outputs": [],
   "source": [
    "from pgmpy.factors.discrete import TabularCPD"
   ]
  },
  {
   "cell_type": "code",
   "execution_count": 63,
   "metadata": {},
   "outputs": [
    {
     "name": "stdout",
     "output_type": "stream",
     "text": [
      "+-----+-------+\n",
      "| D_0 | 0.002 |\n",
      "+-----+-------+\n",
      "| D_1 | 0.998 |\n",
      "+-----+-------+\n"
     ]
    }
   ],
   "source": [
    "# 사전확률 구하기 p(D), p(D^c)\n",
    "# D_0: 병에 걸린 경우\n",
    "cpd_d=TabularCPD('D',2,[[0.002, 0.998]])\n",
    "print(cpd_d)"
   ]
  },
  {
   "cell_type": "code",
   "execution_count": 64,
   "metadata": {},
   "outputs": [
    {
     "name": "stdout",
     "output_type": "stream",
     "text": [
      "+-----+------+------+\n",
      "| D   | D_0  | D_1  |\n",
      "+-----+------+------+\n",
      "| S_0 | 0.99 | 0.05 |\n",
      "+-----+------+------+\n",
      "| S_1 | 0.01 | 0.95 |\n",
      "+-----+------+------+\n"
     ]
    }
   ],
   "source": [
    "# 조건부확률 구하기  p(S|D)\n",
    "#S_0: 시약이 양성반응을 보이는 경우\n",
    "#evidence: 조건이 되는 확률변수의 이름\n",
    "S_if_D=TabularCPD('S',2,np.array([[0.99,0.05],[0.01,0.95]]),\n",
    "                 evidence=['D'], evidence_card=[2])\n",
    "print(S_if_D)"
   ]
  },
  {
   "cell_type": "code",
   "execution_count": 67,
   "metadata": {},
   "outputs": [
    {
     "data": {
      "text/plain": [
       "True"
      ]
     },
     "execution_count": 67,
     "metadata": {},
     "output_type": "execute_result"
    }
   ],
   "source": [
    "# 확률변수들이 어떻게 결합되어있는지 나타내는 확률모형 만들기\n",
    "from pgmpy.models import BayesianModel\n",
    "\n",
    "model= BayesianModel([('D','S')])  #확률변수 이름\n",
    "model.add_cpds(cpd_d,S_if_D) #조건부 확률 추가\n",
    "model.check_model()  #모델이 정상적인지 확인"
   ]
  },
  {
   "cell_type": "code",
   "execution_count": 71,
   "metadata": {},
   "outputs": [
    {
     "name": "stdout",
     "output_type": "stream",
     "text": [
      "+-----+----------+\n",
      "| D   |   phi(D) |\n",
      "+=====+==========+\n",
      "| D_0 |   0.0382 |\n",
      "+-----+----------+\n",
      "| D_1 |   0.9618 |\n",
      "+-----+----------+\n"
     ]
    }
   ],
   "source": [
    "#사후확률 계산하기\n",
    "# 변수제거법(VariableElimination)을 사용한 추정\n",
    "# 추정(inference)객체를 만들고 이 객체의 query()를 사용해 사후확률 계산\n",
    "\n",
    "from pgmpy.inference import VariableElimination\n",
    "\n",
    "inference= VariableElimination(model) #변수제거법으로 추정\n",
    "posterior= inference.query(['D'], evidence={'S':0})\n",
    "#S가 일어났을때(양성반응)의 D의 확률 추정\n",
    "print(posterior['D'])"
   ]
  },
  {
   "cell_type": "markdown",
   "metadata": {},
   "source": [
    "양성으로 반응했을때(S_0) 병에 걸릴확률(D_0)은 3.8%이다"
   ]
  },
  {
   "cell_type": "code",
   "execution_count": null,
   "metadata": {},
   "outputs": [],
   "source": []
  }
 ],
 "metadata": {
  "kernelspec": {
   "display_name": "Python 3",
   "language": "python",
   "name": "python3"
  },
  "language_info": {
   "codemirror_mode": {
    "name": "ipython",
    "version": 3
   },
   "file_extension": ".py",
   "mimetype": "text/x-python",
   "name": "python",
   "nbconvert_exporter": "python",
   "pygments_lexer": "ipython3",
   "version": "3.7.3"
  }
 },
 "nbformat": 4,
 "nbformat_minor": 2
}
