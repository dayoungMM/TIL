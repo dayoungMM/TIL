{
 "cells": [
  {
   "cell_type": "markdown",
   "metadata": {},
   "source": [
    "#### 다음의 내용은 패스트캠퍼스 김도형 박사님의 강의자료를 정리한 것이다\n"
   ]
  },
  {
   "cell_type": "markdown",
   "metadata": {},
   "source": [
    "### 벡터 a의 길이: norm ‖𝑎‖ \n"
   ]
  },
  {
   "cell_type": "code",
   "execution_count": 1,
   "metadata": {},
   "outputs": [
    {
     "data": {
      "text/plain": [
       "2.23606797749979"
      ]
     },
     "execution_count": 1,
     "metadata": {},
     "output_type": "execute_result"
    }
   ],
   "source": [
    "a = np.array([1, 2])\n",
    "np.linalg.norm(a)"
   ]
  },
  {
   "cell_type": "markdown",
   "metadata": {},
   "source": [
    "### 단위벡터\n",
    "- 길이가 1인 벡터\n",
    "\n",
    "$$\n",
    "\\begin{align}\n",
    "\\dfrac{x}{\\| x \\|}\n",
    "\\end{align}\n",
    "$$"
   ]
  },
  {
   "cell_type": "code",
   "execution_count": 4,
   "metadata": {},
   "outputs": [
    {
     "data": {
      "text/plain": [
       "(1.0, 1.0, 0.9999999999999999)"
      ]
     },
     "execution_count": 4,
     "metadata": {},
     "output_type": "execute_result"
    }
   ],
   "source": [
    "a = np.array([1, 0])\n",
    "b = np.array([0, 1])\n",
    "c = np.array([1/np.sqrt(2), 1/np.sqrt(2)])\n",
    "np.linalg.norm(a), np.linalg.norm(b), np.linalg.norm(c)"
   ]
  },
  {
   "cell_type": "markdown",
   "metadata": {},
   "source": [
    "### 유클리드 거리\n",
    "- 두 벡터가 가리키는 점 사이의 거리\n",
    "$$\n",
    "\\begin{align}\n",
    "\\| a - b \\|^2 = \\| a \\|^2 + \\| b \\|^2 - 2 a^T b\n",
    "\\end{align}\n",
    "$$"
   ]
  },
  {
   "cell_type": "markdown",
   "metadata": {},
   "source": [
    "### 벡터의 내적 코사인 함수로 나타내기\n",
    "$$ \n",
    "\\begin{align}\n",
    "a^Tb = \\|a\\|\\|b\\| \\cos\\theta\n",
    "\\end{align}\n",
    "$$"
   ]
  },
  {
   "cell_type": "markdown",
   "metadata": {},
   "source": [
    "### 직교\n",
    "- 두 벡터가 이루는 각이 90도인 경우\n",
    "- 코사인이 0이 된다\n",
    "$$ \n",
    "\\begin{align}\n",
    "a^T b = b^T a = 0   \\;\\;\\;\\; \\leftrightarrow \\;\\;\\;\\; a \\perp b \n",
    "\\end{align}\n",
    "$$"
   ]
  },
  {
   "cell_type": "markdown",
   "metadata": {},
   "source": [
    "### 정규직교\n",
    "만약 $N$개의 단위벡터 $v_1, v_2, \\cdots, v_N$가 서로 직교하면 **정규직교(orthonormal)**라고 한다.\n",
    "\n",
    "$$ \n",
    "\\begin{align}\n",
    "\\|v_i\\| = 1 \\;\\;\\leftrightarrow \\;\\; v_i^Tv_i = 1 \n",
    "\\end{align}\n",
    "$$\n",
    "\n",
    "$$ \n",
    "\\begin{align}\n",
    "v_i^T v_j = 0 \\;\\;(i \\neq j) \n",
    "\\end{align}\n",
    "$$"
   ]
  },
  {
   "cell_type": "markdown",
   "metadata": {},
   "source": [
    "### 코사인 거리\n",
    "- 1에서 코사인 유사도만큼 뺀 것\n",
    "$$ \n",
    "\\begin{align}\n",
    "\\text{cosine distance} = 1 - \\text{cosine similarity} = 1 - \\dfrac{x^Ty}{\\|x\\|\\|y\\|}\n",
    "\\end{align}\n",
    "$$\n"
   ]
  },
  {
   "cell_type": "code",
   "execution_count": 11,
   "metadata": {},
   "outputs": [],
   "source": [
    "a=np.array([4,5,2,2])\n",
    "b=np.array([4,0,2,0])\n",
    "c=np.array([2,2,0,1])\n"
   ]
  },
  {
   "cell_type": "code",
   "execution_count": 12,
   "metadata": {},
   "outputs": [
    {
     "data": {
      "text/plain": [
       "5.385164807134504"
      ]
     },
     "execution_count": 12,
     "metadata": {},
     "output_type": "execute_result"
    }
   ],
   "source": [
    "#유클리드 거리\n",
    "np.linalg.norm(a-b)"
   ]
  },
  {
   "cell_type": "code",
   "execution_count": 13,
   "metadata": {},
   "outputs": [
    {
     "data": {
      "text/plain": [
       "0.36112343500006017"
      ]
     },
     "execution_count": 13,
     "metadata": {},
     "output_type": "execute_result"
    }
   ],
   "source": [
    "#코사인 거리\n",
    "1- a@b/(np.linalg.norm(a)*np.linalg.norm(b))"
   ]
  },
  {
   "cell_type": "markdown",
   "metadata": {},
   "source": [
    "### 투영성분\n",
    "벡터 $a$를 다른 벡터 $b$에 직교하는 성분과 벡터 $b$에 평행한 성분으로로 분해할 수 있는데, 평행한 성분을 벡터 $b$에 대한 **투영성분(projection)**, 벡터 $b$에 수직인 성분을 벡터 $b$에 대한 **직교성분(rejection)**이라고 하며 각각 다음과 같이 표기한다.\n",
    "\n",
    "$$ \n",
    "\\begin{align}\n",
    "a^{\\Vert b} \n",
    "\\end{align}\n",
    "$$\n",
    "\n",
    "$$ \n",
    "\\begin{align}\n",
    "a^{\\perp b} \n",
    "\\end{align}\n",
    "$$"
   ]
  },
  {
   "cell_type": "markdown",
   "metadata": {},
   "source": [
    "### 투영성분의 길이\n",
    "$$ \n",
    "\\begin{align}\n",
    "\\| a^{\\Vert b} \\| \n",
    "= \\|a\\|\\cos\\theta \n",
    "= \\dfrac{\\|a\\|\\|b\\|\\cos\\theta}{\\|b\\|}  \n",
    "= \\dfrac{a^Tb}{\\|b\\|} \n",
    "= \\dfrac{b^Ta}{\\|b\\|}\n",
    "= a^T\\dfrac{b}{\\|b\\|} \n",
    "\\end{align}\n",
    "$$"
   ]
  },
  {
   "cell_type": "markdown",
   "metadata": {},
   "source": [
    "### 투영성분의 벡터\n",
    "- 길이 * 방향\n",
    "\n",
    "$$ \n",
    "\\begin{align}\n",
    "a^{\\Vert b} = \\dfrac{a^Tb}{\\|b\\|} \\dfrac{b}{\\|b\\|}= \\dfrac{a^Tb}{\\|b\\|^2}b  \n",
    "\\end{align}\n",
    "$$\n"
   ]
  },
  {
   "cell_type": "markdown",
   "metadata": {},
   "source": [
    "### 직교성분\n",
    "$$ \n",
    "\\begin{align}\n",
    "a^{\\perp b} = a - a^{\\Vert b} \n",
    "\\end{align}\n",
    "$$"
   ]
  },
  {
   "cell_type": "markdown",
   "metadata": {},
   "source": [
    "### 직선의 방정식\n",
    "- 벡터w가 가르키는 방향과 만나면서, w와 직교하는 직선의 방정식\n",
    "\n",
    "$$\n",
    "\\begin{align}\n",
    "w^T(x - w) = 0\n",
    "\\end{align}\n",
    "$$"
   ]
  },
  {
   "cell_type": "markdown",
   "metadata": {},
   "source": [
    "정리하면 다음과 같아진다.\n",
    "\n",
    "$$\n",
    "\\begin{align}\n",
    "w^T(x - w) = w^Tx - w^Tw = w^Tx - \\| w \\|^2\n",
    "\\end{align}\n",
    "$$\n",
    "\n",
    "$$\n",
    "\\begin{align}\n",
    "w^Tx - \\| w \\|^2 = 0\n",
    "\\end{align}\n",
    "$$\n",
    "\n",
    "이 직선과 원점 사이의 거리는 벡터 $w$의 놈 $\\|w\\|$이다.\n",
    "\n",
    "$$ \n",
    "\\begin{align}\n",
    "\\|w\\| \n",
    "\\end{align}\n",
    "$$"
   ]
  },
  {
   "cell_type": "markdown",
   "metadata": {},
   "source": [
    "### w에 수직인 직선의 방정식\n",
    "이번에는 벡터 $w$가 가리키는 점을 지나야 한다는 조건을 없애고 단순히\n",
    "\n",
    "* 벡터 $w$에 수직인\n",
    "\n",
    "직선 $x$의 방정식을 구해보자.\n",
    "\n",
    "이때는 직선이 $w$가 아니라 $w$와 방향이 같고 길이가 다른 벡터 $w'=cw$을 지날 것이다. $c$는 양의 실수이다. \n",
    "\n",
    "위에서 했던 방법으로 다시 직선의 방정식을 구하면 다음과 같다.\n",
    "\n",
    "$$ \n",
    "\\begin{align}\n",
    "w'^Tx - \\| w' \\|^2 =  cw^Tx - c^2 \\| w \\|^2 = 0  \n",
    "\\tag{3.1.53}\n",
    "\\end{align}\n",
    "$$\n",
    "\n",
    "$$ \n",
    "\\begin{align}\n",
    "w^Tx - c \\| w \\|^2 = 0 \n",
    "\\tag{3.1.54} \n",
    "\\end{align}\n",
    "$$\n",
    "\n",
    "여기에서 $c \\| w \\|^2$는 임의의 수가 될 수 있으므로 단순히 벡터 $w$에 수직인 직선의 방정식은 다음과 같이 나타낼 수 있다.\n",
    "\n",
    "$$ \n",
    "\\begin{align}\n",
    "w^Tx - w_0 = 0 \n",
    "\\tag{3.1.55} \n",
    "\\end{align}\n",
    "$$\n",
    "\n",
    "이 직선과 원점 사이의 거리는 다음과 같다.\n",
    "\n",
    "$$ \n",
    "\\begin{align}\n",
    "c \\| w \\| = \\dfrac{w_0}{\\|w\\|} \n",
    "\\tag{3.1.56} \n",
    "\\end{align}\n",
    "$$"
   ]
  },
  {
   "cell_type": "markdown",
   "metadata": {},
   "source": [
    "### 직선과 점의 거리\n",
    "\n",
    "이번에는 직선 $w^Tx - \\|w\\|^2 = 0$ 과 이 직선 위에 있지 않은 점 $x'$ 사이의 거리를 구해보자.\n",
    "\n",
    "벡터 $w$에 대한 벡터 $x'$의 투영성분 $x'^{\\Vert w}$의 길이\n",
    "\n",
    "$$\n",
    "\\begin{align}\n",
    "\\|x'^{\\Vert w}\\| = \\dfrac{w^Tx'}{\\|w\\|} \n",
    "\\tag{3.1.59}\n",
    "\\end{align}\n",
    "$$\n",
    "\n",
    "직선과 점 $x'$ 사이의 거리는 이 길이에서 원점에서 직선까지의 거리 $\\|w\\|$를 뺀 값의 절댓값이다. \n",
    "\n",
    "$$\n",
    "\\begin{align}\n",
    "\\left|  \\|x'^{\\Vert w}\\| - \\|w\\| \\right| = \n",
    "\\left| \\dfrac{w^Tx'}{\\|w\\|} - \\|w\\| \\right| =\n",
    "\\dfrac{\\left|w^Tx' - \\|w\\|^2 \\right|}{\\|w\\|}\n",
    "\\tag{3.1.60}\n",
    "\\end{align}\n",
    "$$\n",
    "\n",
    "직선의 방정식이 $w^Tx - w_0 = 0$이면 직선과 점의 거리는 다음과 같다.\n",
    "\n",
    "$$\n",
    "\\begin{align}\n",
    "\\dfrac{\\left|w^Tx' - w_0 \\right|}{\\|w\\|} \n",
    "\\tag{3.1.61}\n",
    "\\end{align}\n",
    "$$\n",
    "       \n",
    "- 분자값이 직선의 방정식과 유사해보이지만, 직선 위의 점이 아니라 다른 점을 x에 넣기 때문에 0이 아닌 값이 나온다"
   ]
  },
  {
   "cell_type": "code",
   "execution_count": null,
   "metadata": {},
   "outputs": [],
   "source": []
  }
 ],
 "metadata": {
  "kernelspec": {
   "display_name": "Python 3",
   "language": "python",
   "name": "python3"
  },
  "language_info": {
   "codemirror_mode": {
    "name": "ipython",
    "version": 3
   },
   "file_extension": ".py",
   "mimetype": "text/x-python",
   "name": "python",
   "nbconvert_exporter": "python",
   "pygments_lexer": "ipython3",
   "version": "3.7.3"
  }
 },
 "nbformat": 4,
 "nbformat_minor": 2
}
