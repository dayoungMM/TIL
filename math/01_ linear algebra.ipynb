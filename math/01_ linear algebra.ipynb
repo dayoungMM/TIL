{
 "cells": [
  {
   "cell_type": "markdown",
   "metadata": {},
   "source": [
    "#### 다음의 내용은 패스트캠퍼스 김도형 박사님의 강의자료를 정리한 것이다\n"
   ]
  },
  {
   "cell_type": "markdown",
   "metadata": {},
   "source": [
    "### 벡터 a의 길이: norm ‖𝑎‖ \n"
   ]
  },
  {
   "cell_type": "code",
   "execution_count": 1,
   "metadata": {},
   "outputs": [
    {
     "data": {
      "text/plain": [
       "2.23606797749979"
      ]
     },
     "execution_count": 1,
     "metadata": {},
     "output_type": "execute_result"
    }
   ],
   "source": [
    "a = np.array([1, 2])\n",
    "np.linalg.norm(a)"
   ]
  },
  {
   "cell_type": "markdown",
   "metadata": {},
   "source": [
    "### 단위벡터\n",
    "- 길이가 1인 벡터\n",
    "\n",
    "$$\n",
    "\\begin{align}\n",
    "\\dfrac{x}{\\| x \\|}\n",
    "\\end{align}\n",
    "$$"
   ]
  },
  {
   "cell_type": "code",
   "execution_count": 4,
   "metadata": {},
   "outputs": [
    {
     "data": {
      "text/plain": [
       "(1.0, 1.0, 0.9999999999999999)"
      ]
     },
     "execution_count": 4,
     "metadata": {},
     "output_type": "execute_result"
    }
   ],
   "source": [
    "a = np.array([1, 0])\n",
    "b = np.array([0, 1])\n",
    "c = np.array([1/np.sqrt(2), 1/np.sqrt(2)])\n",
    "np.linalg.norm(a), np.linalg.norm(b), np.linalg.norm(c)"
   ]
  },
  {
   "cell_type": "markdown",
   "metadata": {},
   "source": [
    "### 유클리드 거리\n",
    "- 두 벡터가 가리키는 점 사이의 거리\n",
    "$$\n",
    "\\begin{align}\n",
    "\\| a - b \\|^2 = \\| a \\|^2 + \\| b \\|^2 - 2 a^T b\n",
    "\\end{align}\n",
    "$$"
   ]
  },
  {
   "cell_type": "markdown",
   "metadata": {},
   "source": [
    "### 벡터의 내적 코사인 함수로 나타내기\n",
    "$$ \n",
    "\\begin{align}\n",
    "a^Tb = \\|a\\|\\|b\\| \\cos\\theta\n",
    "\\end{align}\n",
    "$$"
   ]
  },
  {
   "cell_type": "markdown",
   "metadata": {},
   "source": [
    "### 직교\n",
    "- 두 벡터가 이루는 각이 90도인 경우\n",
    "- 코사인이 0이 된다\n",
    "$$ \n",
    "\\begin{align}\n",
    "a^T b = b^T a = 0   \\;\\;\\;\\; \\leftrightarrow \\;\\;\\;\\; a \\perp b \n",
    "\\end{align}\n",
    "$$"
   ]
  },
  {
   "cell_type": "markdown",
   "metadata": {},
   "source": [
    "### 정규직교\n",
    "만약 $N$개의 단위벡터 $v_1, v_2, \\cdots, v_N$가 서로 직교하면 **정규직교(orthonormal)**라고 한다.\n",
    "\n",
    "$$ \n",
    "\\begin{align}\n",
    "\\|v_i\\| = 1 \\;\\;\\leftrightarrow \\;\\; v_i^Tv_i = 1 \n",
    "\\end{align}\n",
    "$$\n",
    "\n",
    "$$ \n",
    "\\begin{align}\n",
    "v_i^T v_j = 0 \\;\\;(i \\neq j) \n",
    "\\end{align}\n",
    "$$"
   ]
  },
  {
   "cell_type": "markdown",
   "metadata": {},
   "source": [
    "### 코사인 거리\n",
    "- 1에서 코사인 유사도만큼 뺀 것\n",
    "$$ \n",
    "\\begin{align}\n",
    "\\text{cosine distance} = 1 - \\text{cosine similarity} = 1 - \\dfrac{x^Ty}{\\|x\\|\\|y\\|}\n",
    "\\end{align}\n",
    "$$\n"
   ]
  },
  {
   "cell_type": "code",
   "execution_count": 11,
   "metadata": {},
   "outputs": [],
   "source": [
    "a=np.array([4,5,2,2])\n",
    "b=np.array([4,0,2,0])\n",
    "c=np.array([2,2,0,1])\n"
   ]
  },
  {
   "cell_type": "code",
   "execution_count": 12,
   "metadata": {},
   "outputs": [
    {
     "data": {
      "text/plain": [
       "5.385164807134504"
      ]
     },
     "execution_count": 12,
     "metadata": {},
     "output_type": "execute_result"
    }
   ],
   "source": [
    "#유클리드 거리\n",
    "np.linalg.norm(a-b)"
   ]
  },
  {
   "cell_type": "code",
   "execution_count": 13,
   "metadata": {},
   "outputs": [
    {
     "data": {
      "text/plain": [
       "0.36112343500006017"
      ]
     },
     "execution_count": 13,
     "metadata": {},
     "output_type": "execute_result"
    }
   ],
   "source": [
    "#코사인 거리\n",
    "1- a@b/(np.linalg.norm(a)*np.linalg.norm(b))"
   ]
  },
  {
   "cell_type": "markdown",
   "metadata": {},
   "source": [
    "### 투영성분\n",
    "벡터 $a$를 다른 벡터 $b$에 직교하는 성분과 벡터 $b$에 평행한 성분으로로 분해할 수 있는데, 평행한 성분을 벡터 $b$에 대한 **투영성분(projection)**, 벡터 $b$에 수직인 성분을 벡터 $b$에 대한 **직교성분(rejection)**이라고 하며 각각 다음과 같이 표기한다.\n",
    "\n",
    "$$ \n",
    "\\begin{align}\n",
    "a^{\\Vert b} \n",
    "\\end{align}\n",
    "$$\n",
    "\n",
    "$$ \n",
    "\\begin{align}\n",
    "a^{\\perp b} \n",
    "\\end{align}\n",
    "$$"
   ]
  },
  {
   "cell_type": "markdown",
   "metadata": {},
   "source": [
    "### 투영성분의 길이\n",
    "$$ \n",
    "\\begin{align}\n",
    "\\| a^{\\Vert b} \\| \n",
    "= \\|a\\|\\cos\\theta \n",
    "= \\dfrac{\\|a\\|\\|b\\|\\cos\\theta}{\\|b\\|}  \n",
    "= \\dfrac{a^Tb}{\\|b\\|} \n",
    "= \\dfrac{b^Ta}{\\|b\\|}\n",
    "= a^T\\dfrac{b}{\\|b\\|} \n",
    "\\end{align}\n",
    "$$"
   ]
  },
  {
   "cell_type": "markdown",
   "metadata": {},
   "source": [
    "### 투영성분의 벡터\n",
    "- 길이 * 방향\n",
    "\n",
    "$$ \n",
    "\\begin{align}\n",
    "a^{\\Vert b} = \\dfrac{a^Tb}{\\|b\\|} \\dfrac{b}{\\|b\\|}= \\dfrac{a^Tb}{\\|b\\|^2}b  \n",
    "\\end{align}\n",
    "$$\n"
   ]
  },
  {
   "cell_type": "markdown",
   "metadata": {},
   "source": [
    "### 직교성분\n",
    "$$ \n",
    "\\begin{align}\n",
    "a^{\\perp b} = a - a^{\\Vert b} \n",
    "\\end{align}\n",
    "$$"
   ]
  },
  {
   "cell_type": "markdown",
   "metadata": {},
   "source": [
    "### 직선의 방정식\n",
    "- 벡터w가 가르키는 방향과 만나면서, w와 직교하는 직선의 방정식\n",
    "\n",
    "$$\n",
    "\\begin{align}\n",
    "w^T(x - w) = 0\n",
    "\\end{align}\n",
    "$$"
   ]
  },
  {
   "cell_type": "markdown",
   "metadata": {},
   "source": [
    "정리하면 다음과 같아진다.\n",
    "\n",
    "$$\n",
    "\\begin{align}\n",
    "w^T(x - w) = w^Tx - w^Tw = w^Tx - \\| w \\|^2\n",
    "\\end{align}\n",
    "$$\n",
    "\n",
    "$$\n",
    "\\begin{align}\n",
    "w^Tx - \\| w \\|^2 = 0\n",
    "\\end{align}\n",
    "$$\n",
    "\n",
    "이 직선과 원점 사이의 거리는 벡터 $w$의 놈 $\\|w\\|$이다.\n",
    "\n",
    "$$ \n",
    "\\begin{align}\n",
    "\\|w\\| \n",
    "\\end{align}\n",
    "$$"
   ]
  },
  {
   "cell_type": "markdown",
   "metadata": {},
   "source": [
    "### w에 수직인 직선의 방정식\n",
    "이번에는 벡터 $w$가 가리키는 점을 지나야 한다는 조건을 없애고 단순히\n",
    "\n",
    "* 벡터 $w$에 수직인\n",
    "\n",
    "직선 $x$의 방정식을 구해보자.\n",
    "\n",
    "이때는 직선이 $w$가 아니라 $w$와 방향이 같고 길이가 다른 벡터 $w'=cw$을 지날 것이다. $c$는 양의 실수이다. \n",
    "\n",
    "위에서 했던 방법으로 다시 직선의 방정식을 구하면 다음과 같다.\n",
    "\n",
    "$$ \n",
    "\\begin{align}\n",
    "w'^Tx - \\| w' \\|^2 =  cw^Tx - c^2 \\| w \\|^2 = 0  \n",
    "\\tag{3.1.53}\n",
    "\\end{align}\n",
    "$$\n",
    "\n",
    "$$ \n",
    "\\begin{align}\n",
    "w^Tx - c \\| w \\|^2 = 0 \n",
    "\\tag{3.1.54} \n",
    "\\end{align}\n",
    "$$\n",
    "\n",
    "여기에서 $c \\| w \\|^2$는 임의의 수가 될 수 있으므로 단순히 벡터 $w$에 수직인 직선의 방정식은 다음과 같이 나타낼 수 있다.\n",
    "\n",
    "$$ \n",
    "\\begin{align}\n",
    "w^Tx - w_0 = 0 \n",
    "\\tag{3.1.55} \n",
    "\\end{align}\n",
    "$$\n",
    "\n",
    "이 직선과 원점 사이의 거리는 다음과 같다.\n",
    "\n",
    "$$ \n",
    "\\begin{align}\n",
    "c \\| w \\| = \\dfrac{w_0}{\\|w\\|} \n",
    "\\tag{3.1.56} \n",
    "\\end{align}\n",
    "$$"
   ]
  },
  {
   "cell_type": "markdown",
   "metadata": {},
   "source": [
    "### 직선과 점의 거리\n",
    "\n",
    "이번에는 직선 $w^Tx - \\|w\\|^2 = 0$ 과 이 직선 위에 있지 않은 점 $x'$ 사이의 거리를 구해보자.\n",
    "\n",
    "벡터 $w$에 대한 벡터 $x'$의 투영성분 $x'^{\\Vert w}$의 길이\n",
    "\n",
    "$$\n",
    "\\begin{align}\n",
    "\\|x'^{\\Vert w}\\| = \\dfrac{w^Tx'}{\\|w\\|} \n",
    "\\tag{3.1.59}\n",
    "\\end{align}\n",
    "$$\n",
    "\n",
    "직선과 점 $x'$ 사이의 거리는 이 길이에서 원점에서 직선까지의 거리 $\\|w\\|$를 뺀 값의 절댓값이다. \n",
    "\n",
    "$$\n",
    "\\begin{align}\n",
    "\\left|  \\|x'^{\\Vert w}\\| - \\|w\\| \\right| = \n",
    "\\left| \\dfrac{w^Tx'}{\\|w\\|} - \\|w\\| \\right| =\n",
    "\\dfrac{\\left|w^Tx' - \\|w\\|^2 \\right|}{\\|w\\|}\n",
    "\\tag{3.1.60}\n",
    "\\end{align}\n",
    "$$\n",
    "\n",
    "직선의 방정식이 $w^Tx - w_0 = 0$이면 직선과 점의 거리는 다음과 같다.\n",
    "\n",
    "$$\n",
    "\\begin{align}\n",
    "\\dfrac{\\left|w^Tx' - w_0 \\right|}{\\|w\\|} \n",
    "\\tag{3.1.61}\n",
    "\\end{align}\n",
    "$$\n",
    "       \n",
    "- 분자값이 직선의 방정식과 유사해보이지만, 직선 위의 점이 아니라 다른 점을 x에 넣기 때문에 0이 아닌 값이 나온다"
   ]
  },
  {
   "cell_type": "markdown",
   "metadata": {},
   "source": [
    "### 선형독립\n",
    "벡터 집합 $x_1, x_2, \\ldots, x_N$을 이루는 벡터의 선형조합이 영벡터가 되도록 하는 스칼라 계수 $c_1, c_2, \\ldots, c_N$이 존재하면 이 벡터들이 **선형종속(linearly dependent)**이라고 한다. 단 $c_1 = c_2 = \\cdots = c_N = 0$ 으로 계수가 모두 0인 경우는 제외한다.\n",
    "\n",
    "$$ \n",
    "\\begin{align}\n",
    "c_1 x_1 + c_2 x_2 + \\cdots + c_N x_N = 0  \n",
    "\\tag{3.2.1}\n",
    "\\end{align}\n",
    "$$\n",
    "\n",
    "반대로 벡터들의 선형조합이 0이 되면서 모두 0은 아닌 계수들이 존재하지 않으면 그 벡터들은 **선형독립(linearly independent)**이라고 한다. "
   ]
  },
  {
   "cell_type": "markdown",
   "metadata": {},
   "source": [
    "### 선형종속이 되는 경우 3가지\n",
    "- 다중공선성: 특징행렬 X의 열벡터가 선형종속에 가까운 경우\n",
    "\n",
    "#### 경우 1: 벡터의 개수가 벡터의 차원보다 크면 선형종속이다.\n",
    "#### 경우 2: 값이 같은 벡터가 있으면 반드시 선형종속이다.\n",
    "#### 경우 3: 어떤 벡터가 다른 벡터의 선형조합이면 반드시 선형종속이다."
   ]
  },
  {
   "cell_type": "markdown",
   "metadata": {},
   "source": [
    "### 랭크\n",
    "- 서로 독립인 행/열의 최대 개수\n",
    "- 정리) 행랭크와 열랭크는 항상 같다\n",
    "\n",
    "### 풀랭크\n",
    "- 랭크가 행의 개수와 열의 개수 중 작은 값과 같으면 **풀랭크(full rank)**라고 한다."
   ]
  },
  {
   "cell_type": "markdown",
   "metadata": {},
   "source": [
    "### 벡터공간과 기저벡터\n",
    "\n",
    "여러 벡터를 선형조합을 하면 다른 벡터를 만들 수 있다. 벡터 N개가 서로 선형독립이면 이 벡터들을 선형조합하여 만들어지는 모든 벡터의 집합을 **벡터공간(vector space)** $V$라 하고 이 벡터공간의 차원을 $N$이라고 한다. 그리고 그 벡터들을 벡터공간의 **기저벡터(basis vector)**라고 한다. "
   ]
  },
  {
   "cell_type": "markdown",
   "metadata": {},
   "source": [
    "> **[정리] $N$개의 $N$차원 벡터 $x_1, x_2, \\cdots, x_N$이 선형독립이면 이를 선형조합하여 모든 $N$차원 벡터를 만들 수 있다.**"
   ]
  },
  {
   "cell_type": "markdown",
   "metadata": {},
   "source": [
    "### 정방행렬의 랭크와 역행렬\n",
    "> **[정리] 정방행렬이 풀랭크면 역행렬이 존재한다. 역도 성립한다. 즉, 정방행렬의 역행렬이 존재하면 풀랭크**다."
   ]
  },
  {
   "cell_type": "markdown",
   "metadata": {},
   "source": [
    "### 벡터공간의 투영\n",
    "만약 기저벡터 $v_1, v_2, \\cdots, v_M$가 정규직교(orthonormal)이면 투영벡터 $x^{\\Vert v}$는 각 기저벡터에 대한 내적값으로 표현된다.\n",
    "​\n",
    "$$\n",
    "\\begin{align}\n",
    "x^{\\Vert V} = (x^Tv_1)v_1 + (x^Tv_2)v_2 + \\cdots + (x^Tv_M)v_M\n",
    "\\tag{3.2.47}\n",
    "\\end{align}\n",
    "$$\n",
    "​\n",
    "그리고 투영벡터의 길이의 제곱은 각 기저벡터와의 내적의 제곱합이다.\n",
    "​\n",
    "$$ \n",
    "\\begin{align}\n",
    "\\Vert x^{\\Vert V} \\Vert^2 = \\sum_{i=1}^M (x^Tv_i)^2 \n",
    "\\tag{3.2.48}\n",
    "\\end{align}\n",
    "$$"
   ]
  },
  {
   "cell_type": "markdown",
   "metadata": {},
   "source": [
    "**직교벡터 $x^{\\perp V}$는 기저벡터 $v_1, v_2, \\cdots, v_M$으로 이루어진 벡터공간의 모든 벡터에 대해 직교한다**.\n",
    "\n",
    "**벡터 $x$의 투영벡터 $x^{\\Vert V}$은 기저벡터 $v_1, v_2, \\cdots, v_M$으로 이루어진 벡터공간의 모든 벡터 중에서 가장 벡터 $x$와 가까운 벡터**"
   ]
  },
  {
   "cell_type": "markdown",
   "metadata": {},
   "source": [
    "- 표준기저벡터: 기저벡터 중 하나만 1이고 나머지 0인 것"
   ]
  },
  {
   "cell_type": "markdown",
   "metadata": {},
   "source": [
    "### 좌표변환\n",
    "- 새로운 기저벡터에 대해 좌표를 표시한 것 \n",
    "\n",
    "2차원의 경우를 예로 들어보자. 벡터 $x$의 기저벡터 $\\{e_1, e_2\\}$에 대한 좌표 $x_e$를 새로운 기저벡터 $\\{g_1, g_2\\}$에 대한 좌표 $x_g$로 변환하고자 한다.\n",
    "\n",
    "새로운 기저벡터에 대한 좌푯값이 가리키는 실제 위치는 원래의 벡터가 가리키는 실제 위치와 같아야 되므로\n",
    "\n",
    "$$ \n",
    "\\begin{align}\n",
    "x = x_{e1}e_1 + x_{e2}e_2 = x_{g1} g_1 + x_{g2} g_2  \n",
    "\\tag{3.2.63}\n",
    "\\end{align}\n",
    "$$\n",
    "\n",
    "$$ \n",
    "\\begin{align}\n",
    "x \n",
    "= \\begin{bmatrix} e_1 & e_2 \\end{bmatrix} x_e \n",
    "= \\begin{bmatrix} g_1 & g_2 \\end{bmatrix} x_g \n",
    "\\tag{3.2.64}\n",
    "\\end{align}\n",
    "$$\n",
    "\n",
    "이 식에 \n",
    "\n",
    "$$\n",
    "\\begin{align}\n",
    "\\begin{bmatrix} g_1 & g_2 \\end{bmatrix}\n",
    "= \\begin{bmatrix} e_1 & e_2 \\end{bmatrix} \n",
    "A\n",
    "\\tag{3.2.65}\n",
    "\\end{align}\n",
    "$$\n",
    "\n",
    "를 대입하면\n",
    "\n",
    "$$ \n",
    "\\begin{align}\n",
    "x \n",
    "= \\begin{bmatrix} e_1 & e_2 \\end{bmatrix} x_e \n",
    "= \\begin{bmatrix} e_1 & e_2 \\end{bmatrix} A x_g\n",
    "\\tag{3.2.66}\n",
    "\\end{align}\n",
    "$$\n",
    "\n",
    "이 된다. 이 식으로부터 다음 식이 성립한다.\n",
    "\n",
    "$$ \n",
    "\\begin{align}\n",
    "x_e = A x_g \n",
    "\\tag{3.2.67} \n",
    "\\end{align}\n",
    "$$\n",
    "\n",
    "\n",
    "$$ \n",
    "\\begin{align}\n",
    "x_g = A^{-1}x_e = Tx_e\n",
    "\\tag{3.2.68}  \n",
    "\\end{align}\n",
    "$$\n",
    "\n",
    "이 때 $A$의 역행렬 $T=A^{-1}$을 **변환행렬(transform matrix)**이라고 한다.\n"
   ]
  },
  {
   "cell_type": "code",
   "execution_count": 11,
   "metadata": {},
   "outputs": [
    {
     "data": {
      "text/plain": [
       "array([[ 0.70710678, -0.70710678],\n",
       "       [ 0.70710678,  0.70710678]])"
      ]
     },
     "execution_count": 11,
     "metadata": {},
     "output_type": "execute_result"
    }
   ],
   "source": [
    "e1 = np.array([1, 0])\n",
    "e2 = np.array([0, 1])\n",
    "g1 = np.array([1, 1]) / np.sqrt(2)\n",
    "g2 = np.array([-1, 1]) / np.sqrt(2)\n",
    "x = np.array([2, 2])\n",
    "A = np.vstack([g1, g2]).T\n",
    "A"
   ]
  },
  {
   "cell_type": "code",
   "execution_count": 12,
   "metadata": {},
   "outputs": [
    {
     "data": {
      "text/plain": [
       "array([[ 0.70710678,  0.70710678],\n",
       "       [-0.70710678,  0.70710678]])"
      ]
     },
     "execution_count": 12,
     "metadata": {},
     "output_type": "execute_result"
    }
   ],
   "source": [
    "# 변환행렬\n",
    "Ainv = np.linalg.inv(A)\n",
    "Ainv"
   ]
  },
  {
   "cell_type": "code",
   "execution_count": 13,
   "metadata": {},
   "outputs": [
    {
     "data": {
      "text/plain": [
       "array([2.82842712, 0.        ])"
      ]
     },
     "execution_count": 13,
     "metadata": {},
     "output_type": "execute_result"
    }
   ],
   "source": [
    "#g1 g2를 기저벡터로 가지는 새로운 좌표\n",
    "Ainv.dot(x)"
   ]
  },
  {
   "cell_type": "markdown",
   "metadata": {},
   "source": [
    "### 고윳값과 고유분해\n",
    "정방 행렬 $A$에 대해 다음 식을 만족하는 영벡터가 아닌 벡터 $v$, 실수 $\\lambda$를 찾을 수 있다고 가정하자.\n",
    "\n",
    "$$ \n",
    "\\begin{align}\n",
    "Av = \\lambda v\n",
    "\\tag{3.3.1}\n",
    "\\end{align}\n",
    "$$\n",
    "\n",
    "위 식을 만족하는 실수 $\\lambda$를 **고윳값**(eigenvalue), 벡터 $v$를 **고유벡터**(eigenvector)라고 한다. \n",
    "\n",
    "$$ \n",
    "\\begin{align}\n",
    "Av - \\lambda v = (A - \\lambda I) v = 0 \n",
    "\\tag{3.3.2}\n",
    "\\end{align}\n",
    "$$"
   ]
  },
  {
   "cell_type": "markdown",
   "metadata": {},
   "source": [
    "- $v$와 방향이 같은 벡터는 모두 고유벡터가 되므로 보통 고유벡터를 표시할 때 길이가 1인 단위벡터가 되도록 정규화 한다\n",
    "\n",
    "$$ \n",
    "\\begin{align}\n",
    "\\dfrac{v}{\\|v\\|}\n",
    "\\tag{3.3.8}\n",
    "\\end{align}\n",
    "$$"
   ]
  },
  {
   "cell_type": "markdown",
   "metadata": {},
   "source": [
    "### 고윳값 찾기 : 특성방정식\n",
    "아래의 식을 만족하는 해를 찾으면 된다\n",
    "$$ \n",
    "\\begin{align}\n",
    "\\det \\left( A - \\lambda I \\right) = 0\n",
    "\\tag{3.3.16}\n",
    "\\end{align}\n",
    "$$\n",
    "단,  $A - \\lambda I$는 역행렬이 존재하지 않는다(만약 역행렬이 존재하면 $v$는 영행렬이 되어야 하기 때문이다"
   ]
  },
  {
   "cell_type": "markdown",
   "metadata": {},
   "source": [
    "## 정방행렬 특성"
   ]
  },
  {
   "cell_type": "markdown",
   "metadata": {},
   "source": [
    "### 정방행렬) 고윳값 개수 찾기\n",
    "- 중복된 고윳값을 각각 별개로 생각하고 복소수인 고윳값도 고려한다면 $N$차원 정방행렬의 고윳값은 항상 $N$개다."
   ]
  },
  {
   "cell_type": "markdown",
   "metadata": {},
   "source": [
    "### 고윳값과 행렬식 및 대각합과의 관계\n",
    "$$\n",
    "\\begin{align}\n",
    "\\det(A)=\\prod_{i=1}^N \\lambda_i\n",
    "\\tag{3.3.28}\n",
    "\\end{align}\n",
    "$$\n",
    "\n",
    "$$\n",
    "\\begin{align}\n",
    "\\text{tr}(A) =\\sum_{i=1}^N \\lambda_i\n",
    "\\tag{3.3.29}\n",
    "\\end{align}\n",
    "$$"
   ]
  },
  {
   "cell_type": "markdown",
   "metadata": {},
   "source": [
    "### 고유벡터 구하기\n",
    "- 특성방정식으로 고윳값을 알아내면 고윳값분해 식의 해를 찾아 고유벡터 $v$를 구할 수 있다"
   ]
  },
  {
   "cell_type": "markdown",
   "metadata": {},
   "source": [
    "\n",
    "$$\n",
    "\\begin{align}\n",
    "(A - \\lambda I)v = 0\n",
    "\\tag{3.3.36}\n",
    "\\end{align}\n",
    "$$"
   ]
  },
  {
   "cell_type": "markdown",
   "metadata": {},
   "source": [
    "- 고윳값이 중복되었다고 고유벡터도 중복되는것은 아니다"
   ]
  },
  {
   "cell_type": "markdown",
   "metadata": {},
   "source": [
    "- 중복된 고윳값 $\\lambda$에 대해 서로 다른 고유벡터 $v_1$, $v_2$가 존재하면 이 두 벡터의 선형조합$\n",
    "\\begin{align}\n",
    "c_1v_1 + c_2v_2\n",
    "\\tag{3.3.48}\n",
    "\\end{align}\n",
    "$\n",
    "\n",
    "도 고윳값 $\\lambda$에 대한 고유벡터이다"
   ]
  },
  {
   "cell_type": "markdown",
   "metadata": {},
   "source": [
    "### 넘파이로 고유분해하기\n",
    "- eig()\n",
    "- 결과로 나오는 고유벡터의 행렬은 열을 고유벡터로 가진다"
   ]
  },
  {
   "cell_type": "code",
   "execution_count": 20,
   "metadata": {},
   "outputs": [
    {
     "name": "stdout",
     "output_type": "stream",
     "text": [
      "[-0.99999998 -1.00000002]\n",
      "[[0.70710678 0.70710678]\n",
      " [0.70710678 0.70710678]]\n"
     ]
    }
   ],
   "source": [
    "A= np.array([[1,-2],[2,-3]])\n",
    "w1, V1= np.linalg.eig(A)\n",
    "print(w1)\n",
    "print(V1)"
   ]
  },
  {
   "cell_type": "code",
   "execution_count": 21,
   "metadata": {},
   "outputs": [
    {
     "name": "stdout",
     "output_type": "stream",
     "text": [
      "[3. 1.]\n",
      "[[ 0.70710678 -0.70710678]\n",
      " [ 0.70710678  0.70710678]]\n"
     ]
    }
   ],
   "source": [
    "B=np.array([[2,1],[1,2]])\n",
    "w2, V2= np.linalg.eig(B)\n",
    "print(w2)\n",
    "print(V2)"
   ]
  },
  {
   "cell_type": "markdown",
   "metadata": {},
   "source": [
    "### 대각화 :N차원의 정방행렬인 경우\n",
    "**고유벡터행렬** $V$은 고유벡터를 열벡터로 옆으로 쌓아서 만든 행렬이다.\n",
    "\n",
    "$$\n",
    "\\begin{align}\n",
    "V = \\left[ v_1 \\cdots v_N \\right]\n",
    "\\tag{3.3.50}\n",
    "\\end{align}\n",
    "$$\n",
    "\n"
   ]
  },
  {
   "cell_type": "markdown",
   "metadata": {},
   "source": [
    "**고윳값행렬** $\\Lambda$은 고윳값을 대각성분으로 가지는 대각행렬이다.\n",
    "\n",
    "$$\n",
    "\\begin{align}\n",
    "\\Lambda =\n",
    "\\begin{bmatrix}\n",
    "\\lambda_{1} & 0 & \\cdots & 0 \\\\\n",
    "0 & \\lambda_{2} & \\cdots & 0 \\\\\n",
    "\\vdots & \\vdots & \\ddots & \\vdots \\\\\n",
    "0 & 0 & \\cdots & \\lambda_{N} \\\\\n",
    "\\end{bmatrix}\n",
    "\\tag{3.3.52}\n",
    "\\end{align}\n",
    "$$\n",
    "\n",
    "$$\n",
    "\\begin{align}\n",
    "\\Lambda \\in \\mathbf{R}^{N \\times N}\n",
    "\\tag{3.3.53}\n",
    "\\end{align}\n",
    "$$\n",
    "\n",
    "따라서\n",
    "\n",
    "$$ \n",
    "\\begin{align}\n",
    "AV = V\\Lambda \n",
    "\\tag{3.3.55}\n",
    "\\end{align}\n",
    "$$"
   ]
  },
  {
   "cell_type": "markdown",
   "metadata": {},
   "source": [
    "#### 더 나아가기\n",
    "만약 **고유벡터행렬 $V$의 역행렬이 존재한다면** 행렬을 다음처럼 고유벡터행렬과 고윳값행렬의 곱으로 표현할 수 있다. 이를 행렬의 **대각화(diagonalization)**라고 한다. \n",
    "\n",
    "$$ \n",
    "\\begin{align}\n",
    "A = V \\Lambda V^{-1} \n",
    "\\tag{3.3.56}\n",
    "\\end{align}\n",
    "$$\n"
   ]
  },
  {
   "cell_type": "markdown",
   "metadata": {},
   "source": [
    "이때 A의 역행렬은\n",
    "$$ \n",
    "\\begin{align}\n",
    "A^{-1} = V \\Lambda^{-1} V^{-1} \n",
    "\\end{align}\n",
    "$$"
   ]
  },
  {
   "cell_type": "markdown",
   "metadata": {},
   "source": [
    "- 고유벡터행렬 $V$의 역행렬이 존재한다는 것은 고유벡터행렬의 각각의 열행렬이 서로 독립이므로 풀랭크라는 의미이다\n",
    "- 행렬이 대각화 가능하려면 고유벡터가 선형독립이어야 한다\n",
    "- 대각행렬의 역행렬은 각 대각성분의 역수로 이루어진 대각행렬이므로 0인 고유값만 없으면 항상 역행렬이 존재한다"
   ]
  },
  {
   "cell_type": "code",
   "execution_count": 27,
   "metadata": {},
   "outputs": [
    {
     "data": {
      "text/plain": [
       "array([[2, 3],\n",
       "       [2, 1]])"
      ]
     },
     "execution_count": 27,
     "metadata": {},
     "output_type": "execute_result"
    }
   ],
   "source": [
    "B= np.array([[2,3],[2,1]])\n",
    "B\n",
    "            "
   ]
  },
  {
   "cell_type": "code",
   "execution_count": 28,
   "metadata": {},
   "outputs": [
    {
     "name": "stdout",
     "output_type": "stream",
     "text": [
      "[ 4. -1.]\n",
      "[[ 0.83205029 -0.70710678]\n",
      " [ 0.5547002   0.70710678]]\n"
     ]
    }
   ],
   "source": [
    "w,V=np.linalg.eig(B)\n",
    "print(w)\n",
    "print(V)"
   ]
  },
  {
   "cell_type": "code",
   "execution_count": 29,
   "metadata": {},
   "outputs": [
    {
     "data": {
      "text/plain": [
       "array([[ 0.72111026,  0.72111026],\n",
       "       [-0.56568542,  0.84852814]])"
      ]
     },
     "execution_count": 29,
     "metadata": {},
     "output_type": "execute_result"
    }
   ],
   "source": [
    "V_inv=np.linalg.inv(V)\n",
    "V_inv"
   ]
  },
  {
   "cell_type": "code",
   "execution_count": 30,
   "metadata": {},
   "outputs": [
    {
     "data": {
      "text/plain": [
       "array([[ 4.,  0.],\n",
       "       [ 0., -1.]])"
      ]
     },
     "execution_count": 30,
     "metadata": {},
     "output_type": "execute_result"
    }
   ],
   "source": [
    "#대각화 중간에 들어가는 람다행렬\n",
    "np.diag(w)"
   ]
  },
  {
   "cell_type": "code",
   "execution_count": 32,
   "metadata": {},
   "outputs": [
    {
     "data": {
      "text/plain": [
       "array([[2., 3.],\n",
       "       [2., 1.]])"
      ]
     },
     "execution_count": 32,
     "metadata": {},
     "output_type": "execute_result"
    }
   ],
   "source": [
    "#대각화 하기\n",
    "V@np.diag(w)@V_inv\n",
    "#결과가 B와 동일하다"
   ]
  },
  {
   "cell_type": "code",
   "execution_count": 33,
   "metadata": {},
   "outputs": [
    {
     "data": {
      "text/plain": [
       "array([[1, 1],\n",
       "       [0, 1]])"
      ]
     },
     "execution_count": 33,
     "metadata": {},
     "output_type": "execute_result"
    }
   ],
   "source": [
    "C= np.array([[1,1],[0,1]])\n",
    "C"
   ]
  },
  {
   "cell_type": "code",
   "execution_count": 37,
   "metadata": {},
   "outputs": [
    {
     "name": "stdout",
     "output_type": "stream",
     "text": [
      "[1. 1.]\n",
      "[[ 1.00000000e+00 -1.00000000e+00]\n",
      " [ 0.00000000e+00  2.22044605e-16]]\n"
     ]
    }
   ],
   "source": [
    "w,V=np.linalg.eig(C)\n",
    "print(w)\n",
    "print(V)"
   ]
  },
  {
   "cell_type": "code",
   "execution_count": 40,
   "metadata": {},
   "outputs": [
    {
     "data": {
      "text/plain": [
       "1"
      ]
     },
     "execution_count": 40,
     "metadata": {},
     "output_type": "execute_result"
    }
   ],
   "source": [
    "np.linalg.matrix_rank(V)\n",
    "#랭크가 1이므로 역행렬이 존재하지 않는다(풀랭크가 아니다)"
   ]
  },
  {
   "cell_type": "markdown",
   "metadata": {},
   "source": [
    "<img src=\"https://datascienceschool.net/upfiles/7f53765feb024cb992321b5b8fc9670a.png\" width=\"100%\">"
   ]
  },
  {
   "cell_type": "code",
   "execution_count": 43,
   "metadata": {},
   "outputs": [],
   "source": [
    "#A 역행렬 구하기\n",
    "A = np.array([[2, 3], [2, 1]]) \n",
    " \n",
    "w, V = np.linalg.eig(A)\n",
    "V_inv= np.linalg.inv(V)"
   ]
  },
  {
   "cell_type": "code",
   "execution_count": 45,
   "metadata": {},
   "outputs": [
    {
     "data": {
      "text/plain": [
       "array([[ 0.25,  0.  ],\n",
       "       [-0.  , -1.  ]])"
      ]
     },
     "execution_count": 45,
     "metadata": {},
     "output_type": "execute_result"
    }
   ],
   "source": [
    "#중간 대각행렬의 인버스\n",
    "np.linalg.inv(np.diag(w))"
   ]
  },
  {
   "cell_type": "code",
   "execution_count": 46,
   "metadata": {},
   "outputs": [
    {
     "data": {
      "text/plain": [
       "array([[ 0.25,  0.  ],\n",
       "       [ 0.  , -1.  ]])"
      ]
     },
     "execution_count": 46,
     "metadata": {},
     "output_type": "execute_result"
    }
   ],
   "source": [
    "np.diag(1/w)"
   ]
  },
  {
   "cell_type": "code",
   "execution_count": 47,
   "metadata": {},
   "outputs": [
    {
     "data": {
      "text/plain": [
       "array([[-0.25,  0.75],\n",
       "       [ 0.5 , -0.5 ]])"
      ]
     },
     "execution_count": 47,
     "metadata": {},
     "output_type": "execute_result"
    }
   ],
   "source": [
    "V@np.diag(1/w)@V_inv"
   ]
  },
  {
   "cell_type": "code",
   "execution_count": 49,
   "metadata": {},
   "outputs": [
    {
     "data": {
      "text/plain": [
       "array([[-0.25,  0.75],\n",
       "       [ 0.5 , -0.5 ]])"
      ]
     },
     "execution_count": 49,
     "metadata": {},
     "output_type": "execute_result"
    }
   ],
   "source": [
    "np.linalg.inv(A)"
   ]
  },
  {
   "cell_type": "markdown",
   "metadata": {},
   "source": [
    "## 대칭행렬\n"
   ]
  },
  {
   "cell_type": "markdown",
   "metadata": {},
   "source": [
    "### 대칭행렬을 랭크1 행렬의 합으로 분해하기"
   ]
  },
  {
   "cell_type": "markdown",
   "metadata": {},
   "source": [
    "$N$차원 대칭행렬 $A$는 다음처럼 $N$개의 랭크-1 행렬 $A_i = v_i v_i^T$ 의 합으로 표시할 수 있다.\n",
    "\n",
    "$$ \n",
    "\\begin{align}\n",
    "\\begin{aligned}\n",
    "A \n",
    "&= V\\Lambda V^T \\\\\n",
    "&= \n",
    "\\begin{bmatrix}\n",
    "v_1 & v_2 & \\cdots & v_N\n",
    "\\end{bmatrix}\n",
    "\\begin{bmatrix}\n",
    "\\lambda_{1} & 0 & \\cdots & 0 \\\\\n",
    "0 & \\lambda_{2} & \\cdots & 0 \\\\\n",
    "\\vdots & \\vdots & \\ddots & \\vdots \\\\\n",
    "0 & 0 & \\cdots & \\lambda_{N} \\\\\n",
    "\\end{bmatrix}\n",
    "\\begin{bmatrix}\n",
    "v_1^T \\\\ v_2^T \\\\ \\vdots \\\\ v_N^T\n",
    "\\end{bmatrix} \\\\\n",
    "&=\n",
    "\\begin{bmatrix}\n",
    "\\lambda_{1}v_1 & \\lambda_{2}v_2 & \\cdots & \\lambda_{N}v_N\n",
    "\\end{bmatrix}\n",
    "\\begin{bmatrix}\n",
    "v_1^T \\\\ v_2^T \\\\ \\vdots \\\\ v_N^T\n",
    "\\end{bmatrix} \\\\\n",
    "\\end{aligned}\n",
    "\\tag{3.3.71}\n",
    "\\end{align}\n",
    "$$\n",
    "\n",
    "따라서 $N$차원 대칭행렬 $A$는\n",
    "\n",
    "$$\n",
    "\\begin{align}\n",
    "A = \\sum_{i=1}^{N} {\\lambda_i} v_i v_i^T  = \\sum_{i=1}^{N} {\\lambda_i} A_i = \\lambda_1 A_1 + \\cdots + \\lambda_N A_N \n",
    "\\tag{3.3.72}\n",
    "\\end{align}\n",
    "$$\n"
   ]
  },
  {
   "cell_type": "code",
   "execution_count": 54,
   "metadata": {},
   "outputs": [],
   "source": [
    "A = np.array([[60., 30., 20.],\n",
    "              [30., 20., 15.],\n",
    "              [20., 15., 12.]])\n",
    "\n",
    "w, V = np.linalg.eig(A)\n",
    "\n",
    "# v1 = V[:, 0:1]\n",
    "# v2 = V[:, 1:2]\n",
    "# v3 = V[:, 2:3]\n",
    "# A1 = v1 @ v1.T\n",
    "# A2 = v2 @ v2.T\n",
    "# A3 = v3 @ v3.T"
   ]
  },
  {
   "cell_type": "code",
   "execution_count": 55,
   "metadata": {},
   "outputs": [
    {
     "data": {
      "text/plain": [
       "array([84.49913563,  7.33962395,  0.16124042])"
      ]
     },
     "execution_count": 55,
     "metadata": {},
     "output_type": "execute_result"
    }
   ],
   "source": [
    "w"
   ]
  },
  {
   "cell_type": "code",
   "execution_count": 70,
   "metadata": {},
   "outputs": [],
   "source": [
    "w1, w2, w3 = w"
   ]
  },
  {
   "cell_type": "code",
   "execution_count": 57,
   "metadata": {},
   "outputs": [
    {
     "data": {
      "text/plain": [
       "array([[ 0.82704493,  0.54744843,  0.12765933],\n",
       "       [ 0.4598639 , -0.52829024, -0.71374689],\n",
       "       [ 0.32329844, -0.64900666,  0.68867153]])"
      ]
     },
     "execution_count": 57,
     "metadata": {},
     "output_type": "execute_result"
    }
   ],
   "source": [
    "V"
   ]
  },
  {
   "cell_type": "code",
   "execution_count": 65,
   "metadata": {},
   "outputs": [
    {
     "data": {
      "text/plain": [
       "array([[0.82704493],\n",
       "       [0.4598639 ],\n",
       "       [0.32329844]])"
      ]
     },
     "execution_count": 65,
     "metadata": {},
     "output_type": "execute_result"
    }
   ],
   "source": [
    "v1 = V[:, 0:1]\n",
    "v1"
   ]
  },
  {
   "cell_type": "code",
   "execution_count": 67,
   "metadata": {},
   "outputs": [
    {
     "data": {
      "text/plain": [
       "array([[ 0.54744843],\n",
       "       [-0.52829024],\n",
       "       [-0.64900666]])"
      ]
     },
     "execution_count": 67,
     "metadata": {},
     "output_type": "execute_result"
    }
   ],
   "source": [
    "v2 = V[:, 1:2]\n",
    "v2"
   ]
  },
  {
   "cell_type": "code",
   "execution_count": 68,
   "metadata": {},
   "outputs": [
    {
     "data": {
      "text/plain": [
       "array([[ 0.12765933],\n",
       "       [-0.71374689],\n",
       "       [ 0.68867153]])"
      ]
     },
     "execution_count": 68,
     "metadata": {},
     "output_type": "execute_result"
    }
   ],
   "source": [
    "v3 = V[:, 2:3]\n",
    "v3"
   ]
  },
  {
   "cell_type": "code",
   "execution_count": 73,
   "metadata": {},
   "outputs": [
    {
     "data": {
      "text/plain": [
       "array([[57.79768857, 32.13739648, 22.59357583],\n",
       "       [32.13739648, 17.8694387 , 12.56276371],\n",
       "       [22.59357583, 12.56276371,  8.83200836]])"
      ]
     },
     "execution_count": 73,
     "metadata": {},
     "output_type": "execute_result"
    }
   ],
   "source": [
    "A1=w1* v1@v1.T\n",
    "A1"
   ]
  },
  {
   "cell_type": "code",
   "execution_count": 74,
   "metadata": {},
   "outputs": [
    {
     "data": {
      "text/plain": [
       "array([[ 2.19968372, -2.12270483, -2.60775134],\n",
       "       [-2.12270483,  2.04841985,  2.51649195],\n",
       "       [-2.60775134,  2.51649195,  3.09152039]])"
      ]
     },
     "execution_count": 74,
     "metadata": {},
     "output_type": "execute_result"
    }
   ],
   "source": [
    "A2=w2* v2@v2.T\n",
    "A2"
   ]
  },
  {
   "cell_type": "code",
   "execution_count": 75,
   "metadata": {},
   "outputs": [
    {
     "data": {
      "text/plain": [
       "array([[ 0.00262772, -0.01469165,  0.01417551],\n",
       "       [-0.01469165,  0.08214145, -0.07925566],\n",
       "       [ 0.01417551, -0.07925566,  0.07647125]])"
      ]
     },
     "execution_count": 75,
     "metadata": {},
     "output_type": "execute_result"
    }
   ],
   "source": [
    "A3=w3* v3@v3.T\n",
    "A3"
   ]
  },
  {
   "cell_type": "code",
   "execution_count": 76,
   "metadata": {},
   "outputs": [
    {
     "data": {
      "text/plain": [
       "array([[60., 30., 20.],\n",
       "       [30., 20., 15.],\n",
       "       [20., 15., 12.]])"
      ]
     },
     "execution_count": 76,
     "metadata": {},
     "output_type": "execute_result"
    }
   ],
   "source": [
    "A1+A2+A3"
   ]
  },
  {
   "cell_type": "markdown",
   "metadata": {},
   "source": [
    "**만약 0인 고윳값이 없다면** 역행렬도 다음처럼  $N$개의 랭크-1 행렬 $A_i = v_i v_i^T$ 의 합으로 표시할 수 있다.\n",
    "\n",
    "$$ \n",
    "\\begin{align}\n",
    "A^{-1} =\n",
    "V \\Lambda^{-1} V^T = \\sum_{i=1}^{N} \\dfrac{1}{\\lambda_i} v_i v_i^T \n",
    "= \\dfrac{1}{\\lambda_1} A_1 + \\cdots + \\dfrac{1}{\\lambda_N} A_N \n",
    "\\tag{3.3.74}\n",
    "\\end{align}\n",
    "$$"
   ]
  },
  {
   "cell_type": "markdown",
   "metadata": {},
   "source": [
    "- 대칭행렬의 역행렬은 중간식이 1/w로 이루어진 행렬이다\n",
    "- np.diag(1/w)"
   ]
  },
  {
   "cell_type": "code",
   "execution_count": 78,
   "metadata": {},
   "outputs": [
    {
     "data": {
      "text/plain": [
       "array([[ 0.15, -0.6 ,  0.5 ],\n",
       "       [-0.6 ,  3.2 , -3.  ],\n",
       "       [ 0.5 , -3.  ,  3.  ]])"
      ]
     },
     "execution_count": 78,
     "metadata": {},
     "output_type": "execute_result"
    }
   ],
   "source": [
    "np.linalg.inv(A)"
   ]
  },
  {
   "cell_type": "code",
   "execution_count": 79,
   "metadata": {},
   "outputs": [
    {
     "data": {
      "text/plain": [
       "array([[0.0080948 , 0.00450097, 0.00316432],\n",
       "       [0.00450097, 0.00250269, 0.00175947],\n",
       "       [0.00316432, 0.00175947, 0.00123696]])"
      ]
     },
     "execution_count": 79,
     "metadata": {},
     "output_type": "execute_result"
    }
   ],
   "source": [
    "A1_inv=1/w1* v1@v1.T\n",
    "A1_inv"
   ]
  },
  {
   "cell_type": "code",
   "execution_count": 80,
   "metadata": {},
   "outputs": [
    {
     "data": {
      "text/plain": [
       "array([[ 0.04083313, -0.03940415, -0.04840816],\n",
       "       [-0.03940415,  0.03802519,  0.04671409],\n",
       "       [-0.04840816,  0.04671409,  0.05738845]])"
      ]
     },
     "execution_count": 80,
     "metadata": {},
     "output_type": "execute_result"
    }
   ],
   "source": [
    "A2_inv=1/w2* v2@v2.T\n",
    "A2_inv"
   ]
  },
  {
   "cell_type": "code",
   "execution_count": 81,
   "metadata": {},
   "outputs": [
    {
     "data": {
      "text/plain": [
       "array([[ 0.10107208, -0.56509682,  0.54524384],\n",
       "       [-0.56509682,  3.15947213, -3.04847356],\n",
       "       [ 0.54524384, -3.04847356,  2.94137459]])"
      ]
     },
     "execution_count": 81,
     "metadata": {},
     "output_type": "execute_result"
    }
   ],
   "source": [
    "A3_inv=1/w3* v3@v3.T\n",
    "A3_inv"
   ]
  },
  {
   "cell_type": "code",
   "execution_count": 82,
   "metadata": {},
   "outputs": [
    {
     "data": {
      "text/plain": [
       "array([[ 0.15, -0.6 ,  0.5 ],\n",
       "       [-0.6 ,  3.2 , -3.  ],\n",
       "       [ 0.5 , -3.  ,  3.  ]])"
      ]
     },
     "execution_count": 82,
     "metadata": {},
     "output_type": "execute_result"
    }
   ],
   "source": [
    "A1_inv+A2_inv+A3_inv"
   ]
  },
  {
   "cell_type": "markdown",
   "metadata": {},
   "source": [
    "### 대칭행렬의 고윳값 부호\n",
    "> **[정리] 대칭행렬이 양의 정부호(positive definite)이면 고윳값은 모두 양수다. 역도 성립한다.**\n",
    "\n",
    "> **[정리] 대칭행렬이 양의 준정부호(positive semidefinite)이면 고윳값은 모두 0이거나 양수다. 역도 성립한다.**"
   ]
  },
  {
   "cell_type": "markdown",
   "metadata": {},
   "source": [
    "<img src=\"https://datascienceschool.net/upfiles/b348c409b31a4782bd40a98cca46a917.png\" width=\"100%\">"
   ]
  },
  {
   "cell_type": "markdown",
   "metadata": {},
   "source": [
    "- 추가)대칭행렬: PD<=> 고유값은 모두 양수"
   ]
  },
  {
   "cell_type": "markdown",
   "metadata": {},
   "source": [
    "## 분산행렬\n"
   ]
  },
  {
   "cell_type": "markdown",
   "metadata": {},
   "source": [
    "- 임의의 실수 행렬  𝑋 에 대해   $X^TX$ 인 정방행렬을 분산행렬(scatter matrix)이라고 한다"
   ]
  },
  {
   "cell_type": "markdown",
   "metadata": {},
   "source": [
    "> **[정리] 분산행렬은 양의 준정부호(positive semidefinite)이고 고윳값은 0보다 같거나 크다.**\n"
   ]
  },
  {
   "cell_type": "markdown",
   "metadata": {},
   "source": [
    "연습 문제 3.3.9\n",
    "\n",
    "(1) 붓꽃(Iris) 특징데이터 행렬  𝑋 의 분산행렬을 구하고 이 분산행렬의 고윳값들을 구하라.\n",
    "\n",
    "(2) 보스턴 집값(Boston House Price) 특징데이터 행렬  𝑋 의 분산행렬을 구하고 이 분산행렬의 고윳값들을 구하라."
   ]
  },
  {
   "cell_type": "code",
   "execution_count": 86,
   "metadata": {},
   "outputs": [],
   "source": [
    "#(1)\n",
    "from sklearn.datasets import load_iris\n",
    "iris=load_iris()\n",
    "X=iris.data\n"
   ]
  },
  {
   "cell_type": "code",
   "execution_count": 91,
   "metadata": {},
   "outputs": [
    {
     "data": {
      "text/plain": [
       "array([[5.1, 3.5, 1.4, 0.2],\n",
       "       [4.9, 3. , 1.4, 0.2],\n",
       "       [4.7, 3.2, 1.3, 0.2]])"
      ]
     },
     "execution_count": 91,
     "metadata": {},
     "output_type": "execute_result"
    }
   ],
   "source": [
    "X[:3]"
   ]
  },
  {
   "cell_type": "code",
   "execution_count": 93,
   "metadata": {},
   "outputs": [
    {
     "data": {
      "text/plain": [
       "array([[5223.85, 2673.43, 3483.76, 1128.14],\n",
       "       [2673.43, 1430.4 , 1674.3 ,  531.89],\n",
       "       [3483.76, 1674.3 , 2582.71,  869.11],\n",
       "       [1128.14,  531.89,  869.11,  302.33]])"
      ]
     },
     "execution_count": 93,
     "metadata": {},
     "output_type": "execute_result"
    }
   ],
   "source": [
    "iris_sca= X.T@X\n",
    "iris_sca"
   ]
  },
  {
   "cell_type": "code",
   "execution_count": 96,
   "metadata": {},
   "outputs": [
    {
     "name": "stdout",
     "output_type": "stream",
     "text": [
      "[9.20830507e+03 3.15454317e+02 1.19780429e+01 3.55257020e+00]\n"
     ]
    }
   ],
   "source": [
    "w,V= np.linalg.eig(iris_sca)\n",
    "print(w)"
   ]
  },
  {
   "cell_type": "code",
   "execution_count": 98,
   "metadata": {},
   "outputs": [
    {
     "data": {
      "text/plain": [
       "array([[4.39703436e+04, 4.68702660e+02, 3.24790952e+04, 6.48084600e+01,\n",
       "        1.22612317e+03, 1.08219511e+04, 1.68514980e+05, 3.46627456e+03,\n",
       "        4.11186651e+04, 1.17307321e+06, 3.64715518e+04, 4.99455291e+05,\n",
       "        3.72684187e+04],\n",
       "       [4.68702660e+02, 3.40029000e+05, 2.09030900e+04, 2.70000000e+02,\n",
       "        2.48444175e+03, 3.87184670e+04, 2.05485400e+05, 3.82992940e+04,\n",
       "        2.29180000e+04, 1.72295450e+06, 9.61321500e+04, 2.23960499e+06,\n",
       "        3.80196800e+04],\n",
       "       [3.24790952e+04, 2.09030900e+04, 8.65256299e+04, 4.45170000e+02,\n",
       "        3.43239536e+03, 3.44618165e+04, 4.49313490e+05, 1.62206733e+04,\n",
       "        7.17656500e+04, 2.72134904e+06, 1.06875320e+05, 1.89702529e+06,\n",
       "        8.62407050e+04]])"
      ]
     },
     "execution_count": 98,
     "metadata": {},
     "output_type": "execute_result"
    }
   ],
   "source": [
    "#2\n",
    "from sklearn.datasets import load_boston\n",
    "boston= load_boston()\n",
    "X= boston.data\n",
    "\n",
    "boston_sca= X.T@X\n",
    "boston_sca[:3]"
   ]
  },
  {
   "cell_type": "code",
   "execution_count": 100,
   "metadata": {},
   "outputs": [
    {
     "name": "stdout",
     "output_type": "stream",
     "text": [
      "[1.58386796e+08 1.18747372e+07 4.17002244e+05 1.61644573e+05\n",
      " 2.52697480e+04 1.47629635e+04 8.18396001e+03 6.07326738e+03\n",
      " 4.23577535e+03 6.06399504e+02 3.27412564e+02 3.04157837e+01\n",
      " 2.19326965e+00]\n"
     ]
    }
   ],
   "source": [
    "w,V= np.linalg.eig(boston_sca)\n",
    "print(w)"
   ]
  },
  {
   "cell_type": "markdown",
   "metadata": {},
   "source": [
    "### 분산행렬의 역행렬\n",
    "> **[정리] 행렬 $X$가 풀랭크이면 이 행렬의 분산행렬 $X^TX$의 역행렬이 존재한다.**"
   ]
  },
  {
   "cell_type": "markdown",
   "metadata": {},
   "source": [
    "- 양의 정부호인 대칭행렬은 항상 역행렬이 존재한다\n",
    "- 하지만 역행렬이 존재하는 대칭행렬은 항상 양의 정부호라고 할 수 없다\n",
    "- 음의 정부호인 대칭행렬도 역행렬이 존재하는 경우가 있기 때문이다\n"
   ]
  },
  {
   "cell_type": "markdown",
   "metadata": {},
   "source": [
    "<img src=\"https://datascienceschool.net/upfiles/7a69ad8bb2ff4de8ac5e639d2a199184.png\" width=\"100%\">"
   ]
  },
  {
   "cell_type": "markdown",
   "metadata": {},
   "source": [
    "\n",
    "$N$차원 정방행렬 $A$에 대해 \n",
    "\n",
    "1. 행렬 $A$는 $N$개의 고윳값-고유벡터를 가진다(복소수인 경우와 중복인 경우를 포함).\n",
    "2. 행렬의 **대각합은 모든 고윳값의 합**과 같다.\n",
    "3. 행렬의 **행렬식은 모든 고윳값의 곱**과 같다.\n",
    "4. 행렬 $A$가 **대칭행렬**이면 $N$개의 **실수 고윳값**을 가지며 고유벡터들이 서로 **직교(orthogonal)**이다.\n",
    "5. 행렬 $A$가 **대칭행렬**이고 고윳값이 모두 **양수**이면 **양의 정부호(positive-definite)이고 역행렬이 존재한다**. 역도 성립한다.\n",
    "6. 행렬 $A$가 어떤 행렬 $X$의 **분산행렬** $X^TX$이면 **0 또는 양의 고윳값을 가진다**.\n",
    "7. 행렬 $X$가 **풀랭크이면 분산행렬 $X^TX$은 역행렬이 존재**한다."
   ]
  },
  {
   "cell_type": "markdown",
   "metadata": {},
   "source": [
    "## 특잇값 분해\n",
    "- 정방행렬은 고유분해로 고윳값과 고유벡터를 찾을 수 있었다\n",
    "- 정방행렬이 아닌 행렬은 고유분해가 불가능\n",
    "- 하지만 고유분해와 비슷한 특잇값 분해를 할 수 있다."
   ]
  },
  {
   "cell_type": "markdown",
   "metadata": {},
   "source": [
    "$N \\times M$ 크기의 행렬 $A$에 대해\n",
    "$$ \n",
    "\\begin{align}\n",
    "A = U\\Sigma V^T \n",
    "\\tag{3.4.1}\n",
    "\\end{align}\n",
    "$$"
   ]
  },
  {
   "cell_type": "markdown",
   "metadata": {},
   "source": [
    "여기에서 $U, \\Sigma, V$는 다음 조건을 만족해야 한다.\n",
    "\n",
    "* 대각성분이 양수인 대각행렬이어야 한다. 큰 수부터 작은 수 순서로 배열한다.\n",
    "\n",
    "$$\n",
    "\\begin{align}\n",
    "\\Sigma \\in \\mathbf{R}^{N \\times M}\n",
    "\\tag{3.4.2}\n",
    "\\end{align}\n",
    "$$\n",
    "\n",
    "* $U$는 $N$차원 정방행렬로 모든 열벡터가 단위벡터이고 서로 직교해야 한다. \n",
    "\n",
    "$$\n",
    "\\begin{align}\n",
    "U \\in \\mathbf{R}^{N \\times N}\n",
    "\\tag{3.4.3}\n",
    "\\end{align}\n",
    "$$\n",
    "\n",
    "* $V$는 $M$차원 정방행렬로 모든 열벡터가 단위벡터이고 서로 직교해야 한다. \n",
    "\n",
    "$$\n",
    "\\begin{align}\n",
    "V \\in \\mathbf{R}^{M \\times M}\n",
    "\\tag{3.4.4}\n",
    "\\end{align}\n",
    "$$\n",
    "\n",
    "위 조건을 만족하는 행렬 $\\Sigma$의 대각성분들을 **특잇값(singular value)**, 행렬 $U$의 열벡터들을 **왼쪽 특이벡터**(left singular vector), 행렬 $V$의 행벡터들을 **오른쪽 특이벡터**(right singular vector)라고 부른다.\n",
    "\n",
    "> **[정리] 특이분해는 모든 행렬에 대해 가능하다. 즉 어떤 행렬이 주어지더라도 위와 같이 특이분해할 수 있다.** "
   ]
  },
  {
   "cell_type": "markdown",
   "metadata": {},
   "source": [
    "### 1차원 근사\n",
    "2차원 평면 위에 3개의 2차원 벡터 $a_1, a_2, a_3$가 있다. 원점을 지나면서 모든 점들과 가능한 한 가까이 있는 직선을 만들고 싶다면 직선의 방향을 어떻게 해야 할까? 직선의 방향을 나타내는 단위 벡터를 $w$라고 하자. "
   ]
  },
  {
   "cell_type": "code",
   "execution_count": null,
   "metadata": {},
   "outputs": [],
   "source": []
  }
 ],
 "metadata": {
  "kernelspec": {
   "display_name": "Python 3",
   "language": "python",
   "name": "python3"
  },
  "language_info": {
   "codemirror_mode": {
    "name": "ipython",
    "version": 3
   },
   "file_extension": ".py",
   "mimetype": "text/x-python",
   "name": "python",
   "nbconvert_exporter": "python",
   "pygments_lexer": "ipython3",
   "version": "3.7.3"
  }
 },
 "nbformat": 4,
 "nbformat_minor": 2
}
